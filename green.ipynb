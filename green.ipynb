{
 "cells": [
  {
   "cell_type": "code",
   "execution_count": 108,
   "metadata": {},
   "outputs": [],
   "source": [
    "import numpy as np\n",
    "import keras as k\n",
    "from sklearn.model_selection import train_test_split\n",
    "from sklearn import preprocessing\n",
    "from keras.models import Sequential\n",
    "from keras.layers import Dropout,Input, Dense,merge, Add\n",
    "from keras import optimizers\n",
    "from keras.models import Model\n",
    "import pandas as pd\n",
    "from keras.models import load_model\n"
   ]
  },
  {
   "cell_type": "code",
   "execution_count": 90,
   "metadata": {},
   "outputs": [],
   "source": [
    "random_ = np.loadtxt(\"./Filon/random.txt\")\n",
    "green_ = np.loadtxt(\"./Filon/green.txt\")\n",
    "for i in [\"Bessel\",\"series\"]:\n",
    "    input_ = np.loadtxt(\"./\"+i+\"/random.txt\")\n",
    "    output_ = np.loadtxt(\"./\"+i+\"/green.txt\")\n",
    "    random_ = np.append(random_,input_,axis =0)\n",
    "    green_ =np.append(green_,output_,axis = 0)\n",
    "    "
   ]
  },
  {
   "cell_type": "code",
   "execution_count": 83,
   "metadata": {},
   "outputs": [],
   "source": [
    "#testing of code\n",
    "random_ = np.loadtxt(\"./test/random.txt\")\n",
    "green_ = np.loadtxt(\"./test/green.txt\")\n"
   ]
  },
  {
   "cell_type": "code",
   "execution_count": 91,
   "metadata": {},
   "outputs": [],
   "source": [
    "X = pd.DataFrame(columns=[\"amu\",\"beta\"])\n",
    "X[\"amu\"] = random_[:,0]\n",
    "X[\"beta\"] = random_[:,1]\n",
    "Y = pd.DataFrame(columns=[\"G\",\"damu\",\"dbeta\"])\n",
    "Y[\"G\"] = green_[:,0]\n",
    "Y[\"damu\"] = green_[:,1]\n",
    "Y[\"dbeta\"] = green_[:,2]"
   ]
  },
  {
   "cell_type": "code",
   "execution_count": 92,
   "metadata": {},
   "outputs": [
    {
     "data": {
      "text/plain": [
       "(G         26.511393\n",
       " damu     132.248849\n",
       " dbeta    589.331036\n",
       " dtype: float64, amu       1.0\n",
       " beta    100.0\n",
       " dtype: float64)"
      ]
     },
     "execution_count": 92,
     "metadata": {},
     "output_type": "execute_result"
    }
   ],
   "source": [
    "Y.max(axis=0)-Y.min(axis=0),X.max(axis=0)-X.min(axis=0)"
   ]
  },
  {
   "cell_type": "code",
   "execution_count": 110,
   "metadata": {},
   "outputs": [],
   "source": [
    "X_train, X_test, y_train, y_test = train_test_split(X, Y, test_size=0.30, random_state=42)\n",
    "random_scale = preprocessing.MinMaxScaler([0,1])\n",
    "green_scale = preprocessing.MinMaxScaler([0,5])\n",
    "\n",
    "random_scale.fit(X_train)\n",
    "green_scale.fit(y_train)\n",
    "X_train = random_scale.transform(X_train)\n",
    "X_test = random_scale.transform(X_test)\n",
    "\n",
    "y_train = green_scale.transform(y_train)\n",
    "y_test = green_scale.transform(y_test)"
   ]
  },
  {
   "cell_type": "code",
   "execution_count": 111,
   "metadata": {},
   "outputs": [],
   "source": [
    "Y1,Y2,Y3 =y_train[:,0],y_train[:,1],y_train[:,2]\n",
    "Y1_,Y2_,Y3_ =y_test[:,0],y_test[:,1],y_test[:,2]"
   ]
  },
  {
   "cell_type": "code",
   "execution_count": 112,
   "metadata": {},
   "outputs": [],
   "source": [
    "Y1,Y2,Y3 = Y1.reshape(Y1.size,1),Y2.reshape(Y2.size,1),Y3.reshape(Y3.size,1)\n",
    "Y1_,Y2_,Y3_ = Y1_.reshape(Y1_.size,1),Y2_.reshape(Y2_.size,1),Y3_.reshape(Y3_.size,1)"
   ]
  },
  {
   "cell_type": "code",
   "execution_count": 96,
   "metadata": {},
   "outputs": [],
   "source": [
    "inputs = Input(shape=(2,))\n",
    "x = Dense(8, activation='relu')(inputs)\n",
    "# x = Dense(64, activation='relu')(x)\n",
    "# x = Dense(64, activation='relu')(x)\n",
    "# x = Dense(64, activation='relu')(x)\n",
    "# x = Dense(64, activation='relu')(x)\n",
    "x = Dense(8, activation='relu')(x)\n",
    "# x = Dense(64, activation='relu')(x)\n",
    "\n",
    "\n",
    "\n",
    "\n",
    "x1_ = Dense(8, activation='relu')(x)\n",
    "x1 = Dense(8, activation='relu')(x1_)\n",
    "# x1 = Dense(64, activation='relu')(x1)\n",
    "# x1 = Dense(64, activation='relu')(x1)\n",
    "# x1 = Dense(64, activation='relu')(x1)\n",
    "# x1 = Dense(64, activation='relu')(x1)\n",
    "# x1 = Add()([x1, x1_])\n",
    "# x1 = Dense(64, activation='relu')(x1)\n",
    "y1 = Dense(1, activation=None)(x1)\n",
    "\n",
    "x2_ = Dense(8, activation='relu')(x)\n",
    "x2 = Dense(8, activation='relu')(x2_)\n",
    "# x2 = Dense(64, activation='relu')(x2)\n",
    "# x2 = Dense(64, activation='relu')(x2)\n",
    "# x2 = Dense(64, activation='relu')(x2)\n",
    "# x2 = Dense(64, activation='relu')(x2)\n",
    "# x2 = Dense(64, activation='relu')(x2)\n",
    "# x2 = Dense(64, activation='relu')(x2)\n",
    "# x = Dense(64, activation='relu')(x)\n",
    "# x2 = Add()([x2, x2_])\n",
    "y2 = Dense(1, activation=None)(x2)\n",
    "\n",
    "x3_ = Dense(8, activation='relu')(x)\n",
    "x3 = Dense(8, activation='relu')(x3_)\n",
    "# x3 = Dense(64, activation='relu')(x3)\n",
    "# x3 = Dense(64, activation='relu')(x3)\n",
    "# x3 = Dense(64, activation='relu')(x3)\n",
    "# x3 = Dense(64, activation='relu')(x3)\n",
    "# x3 = Dense(64, activation='relu')(x3)\n",
    "# x3 = Dense(64, activation='relu')(x3)\n",
    "# x3 = Dense(64, activation='relu')(x3)\n",
    "# x3 = Add()([x3, x3_])\n",
    "y3 = Dense(1, activation=None)(x3)\n",
    "\n",
    "model = Model(inputs=inputs, outputs=[y1,y2,y3])\n"
   ]
  },
  {
   "cell_type": "code",
   "execution_count": 97,
   "metadata": {},
   "outputs": [],
   "source": [
    "def time_decay(epoch, initial_lrate):\n",
    "    decay_rate = 0.01\n",
    "    new_lrate = initial_lrate/(1+decay_rate*epoch)\n",
    "    return new_lrate\n",
    "from keras.callbacks import LearningRateScheduler\n",
    "lrate = LearningRateScheduler(time_decay,verbose=1)"
   ]
  },
  {
   "cell_type": "code",
   "execution_count": 103,
   "metadata": {},
   "outputs": [
    {
     "name": "stdout",
     "output_type": "stream",
     "text": [
      "Train on 99192 samples, validate on 42511 samples\n",
      "Epoch 1/50\n",
      "\n",
      "Epoch 00001: LearningRateScheduler setting learning rate to 0.0010000000474974513.\n",
      "99192/99192 [==============================] - 8s 83us/step - loss: 0.0805 - dense_156_loss: 0.0449 - dense_159_loss: 0.0202 - dense_162_loss: 0.0154 - dense_156_mean_squared_error: 0.0449 - dense_159_mean_squared_error: 0.0202 - dense_162_mean_squared_error: 0.0154 - val_loss: 0.0790 - val_dense_156_loss: 0.0454 - val_dense_159_loss: 0.0179 - val_dense_162_loss: 0.0157 - val_dense_156_mean_squared_error: 0.0454 - val_dense_159_mean_squared_error: 0.0179 - val_dense_162_mean_squared_error: 0.0157\n",
      "Epoch 2/50\n",
      "\n",
      "Epoch 00002: LearningRateScheduler setting learning rate to 0.0009900990569281696.\n",
      "99192/99192 [==============================] - 5s 55us/step - loss: 0.0805 - dense_156_loss: 0.0449 - dense_159_loss: 0.0202 - dense_162_loss: 0.0154 - dense_156_mean_squared_error: 0.0449 - dense_159_mean_squared_error: 0.0202 - dense_162_mean_squared_error: 0.0154 - val_loss: 0.0790 - val_dense_156_loss: 0.0452 - val_dense_159_loss: 0.0180 - val_dense_162_loss: 0.0158 - val_dense_156_mean_squared_error: 0.0452 - val_dense_159_mean_squared_error: 0.0180 - val_dense_162_mean_squared_error: 0.0158\n",
      "Epoch 3/50\n",
      "\n",
      "Epoch 00003: LearningRateScheduler setting learning rate to 0.0009706853341092082.\n",
      "99192/99192 [==============================] - 5s 55us/step - loss: 0.0805 - dense_156_loss: 0.0449 - dense_159_loss: 0.0202 - dense_162_loss: 0.0154 - dense_156_mean_squared_error: 0.0449 - dense_159_mean_squared_error: 0.0202 - dense_162_mean_squared_error: 0.0154 - val_loss: 0.0790 - val_dense_156_loss: 0.0453 - val_dense_159_loss: 0.0178 - val_dense_162_loss: 0.0158 - val_dense_156_mean_squared_error: 0.0453 - val_dense_159_mean_squared_error: 0.0178 - val_dense_162_mean_squared_error: 0.0158\n",
      "Epoch 4/50\n",
      "\n",
      "Epoch 00004: LearningRateScheduler setting learning rate to 0.0009424129424128428.\n",
      "99192/99192 [==============================] - 6s 58us/step - loss: 0.0804 - dense_156_loss: 0.0448 - dense_159_loss: 0.0202 - dense_162_loss: 0.0154 - dense_156_mean_squared_error: 0.0448 - dense_159_mean_squared_error: 0.0202 - dense_162_mean_squared_error: 0.0154 - val_loss: 0.0794 - val_dense_156_loss: 0.0458 - val_dense_159_loss: 0.0179 - val_dense_162_loss: 0.0158 - val_dense_156_mean_squared_error: 0.0458 - val_dense_159_mean_squared_error: 0.0179 - val_dense_162_mean_squared_error: 0.0158\n",
      "Epoch 5/50\n",
      "\n",
      "Epoch 00005: LearningRateScheduler setting learning rate to 0.0009061662869778676.\n",
      "99192/99192 [==============================] - 6s 56us/step - loss: 0.0804 - dense_156_loss: 0.0448 - dense_159_loss: 0.0202 - dense_162_loss: 0.0154 - dense_156_mean_squared_error: 0.0448 - dense_159_mean_squared_error: 0.0202 - dense_162_mean_squared_error: 0.0154 - val_loss: 0.0798 - val_dense_156_loss: 0.0463 - val_dense_159_loss: 0.0179 - val_dense_162_loss: 0.0157 - val_dense_156_mean_squared_error: 0.0463 - val_dense_159_mean_squared_error: 0.0179 - val_dense_162_mean_squared_error: 0.0157\n",
      "Epoch 6/50\n",
      "\n",
      "Epoch 00006: LearningRateScheduler setting learning rate to 0.0008630154964824517.\n",
      "99192/99192 [==============================] - 6s 59us/step - loss: 0.0802 - dense_156_loss: 0.0447 - dense_159_loss: 0.0202 - dense_162_loss: 0.0154 - dense_156_mean_squared_error: 0.0447 - dense_159_mean_squared_error: 0.0202 - dense_162_mean_squared_error: 0.0154 - val_loss: 0.0788 - val_dense_156_loss: 0.0451 - val_dense_159_loss: 0.0179 - val_dense_162_loss: 0.0158 - val_dense_156_mean_squared_error: 0.0451 - val_dense_159_mean_squared_error: 0.0179 - val_dense_162_mean_squared_error: 0.0158\n",
      "Epoch 7/50\n",
      "\n",
      "Epoch 00007: LearningRateScheduler setting learning rate to 0.0008141655444149982.\n",
      "99192/99192 [==============================] - 6s 59us/step - loss: 0.0800 - dense_156_loss: 0.0445 - dense_159_loss: 0.0202 - dense_162_loss: 0.0154 - dense_156_mean_squared_error: 0.0445 - dense_159_mean_squared_error: 0.0202 - dense_162_mean_squared_error: 0.0154 - val_loss: 0.0791 - val_dense_156_loss: 0.0449 - val_dense_159_loss: 0.0184 - val_dense_162_loss: 0.0157 - val_dense_156_mean_squared_error: 0.0449 - val_dense_159_mean_squared_error: 0.0184 - val_dense_162_mean_squared_error: 0.0157\n",
      "Epoch 8/50\n",
      "\n",
      "Epoch 00008: LearningRateScheduler setting learning rate to 0.000760902402591761.\n",
      "99192/99192 [==============================] - 6s 58us/step - loss: 0.0799 - dense_156_loss: 0.0443 - dense_159_loss: 0.0202 - dense_162_loss: 0.0154 - dense_156_mean_squared_error: 0.0443 - dense_159_mean_squared_error: 0.0202 - dense_162_mean_squared_error: 0.0154 - val_loss: 0.0782 - val_dense_156_loss: 0.0446 - val_dense_159_loss: 0.0179 - val_dense_162_loss: 0.0158 - val_dense_156_mean_squared_error: 0.0446 - val_dense_159_mean_squared_error: 0.0179 - val_dense_162_mean_squared_error: 0.0158\n",
      "Epoch 9/50\n",
      "\n",
      "Epoch 00009: LearningRateScheduler setting learning rate to 0.0007045392757626595.\n",
      "99192/99192 [==============================] - 6s 59us/step - loss: 0.0789 - dense_156_loss: 0.0434 - dense_159_loss: 0.0201 - dense_162_loss: 0.0154 - dense_156_mean_squared_error: 0.0434 - dense_159_mean_squared_error: 0.0201 - dense_162_mean_squared_error: 0.0154 - val_loss: 0.0767 - val_dense_156_loss: 0.0432 - val_dense_159_loss: 0.0178 - val_dense_162_loss: 0.0157 - val_dense_156_mean_squared_error: 0.0432 - val_dense_159_mean_squared_error: 0.0178 - val_dense_162_mean_squared_error: 0.0157\n",
      "Epoch 10/50\n",
      "\n",
      "Epoch 00010: LearningRateScheduler setting learning rate to 0.0006463663297953135.\n",
      "99192/99192 [==============================] - 6s 59us/step - loss: 0.0777 - dense_156_loss: 0.0421 - dense_159_loss: 0.0201 - dense_162_loss: 0.0154 - dense_156_mean_squared_error: 0.0421 - dense_159_mean_squared_error: 0.0201 - dense_162_mean_squared_error: 0.0154 - val_loss: 0.0756 - val_dense_156_loss: 0.0421 - val_dense_159_loss: 0.0178 - val_dense_162_loss: 0.0157 - val_dense_156_mean_squared_error: 0.0421 - val_dense_159_mean_squared_error: 0.0178 - val_dense_162_mean_squared_error: 0.0157\n",
      "Epoch 11/50\n",
      "\n",
      "Epoch 00011: LearningRateScheduler setting learning rate to 0.0005876057548448443.\n",
      "99192/99192 [==============================] - 6s 60us/step - loss: 0.0765 - dense_156_loss: 0.0410 - dense_159_loss: 0.0201 - dense_162_loss: 0.0154 - dense_156_mean_squared_error: 0.0410 - dense_159_mean_squared_error: 0.0201 - dense_162_mean_squared_error: 0.0154 - val_loss: 0.0747 - val_dense_156_loss: 0.0411 - val_dense_159_loss: 0.0179 - val_dense_162_loss: 0.0158 - val_dense_156_mean_squared_error: 0.0411 - val_dense_159_mean_squared_error: 0.0179 - val_dense_162_mean_squared_error: 0.0158\n",
      "Epoch 12/50\n",
      "\n",
      "Epoch 00012: LearningRateScheduler setting learning rate to 0.0005293745539142741.\n",
      "99192/99192 [==============================] - 6s 62us/step - loss: 0.0754 - dense_156_loss: 0.0400 - dense_159_loss: 0.0201 - dense_162_loss: 0.0154 - dense_156_mean_squared_error: 0.0400 - dense_159_mean_squared_error: 0.0201 - dense_162_mean_squared_error: 0.0154 - val_loss: 0.0735 - val_dense_156_loss: 0.0400 - val_dense_159_loss: 0.0178 - val_dense_162_loss: 0.0157 - val_dense_156_mean_squared_error: 0.0400 - val_dense_159_mean_squared_error: 0.0178 - val_dense_162_mean_squared_error: 0.0157\n",
      "Epoch 13/50\n",
      "\n",
      "Epoch 00013: LearningRateScheduler setting learning rate to 0.000472655873246757.\n",
      "99192/99192 [==============================] - 6s 65us/step - loss: 0.0745 - dense_156_loss: 0.0390 - dense_159_loss: 0.0201 - dense_162_loss: 0.0154 - dense_156_mean_squared_error: 0.0390 - dense_159_mean_squared_error: 0.0201 - dense_162_mean_squared_error: 0.0154 - val_loss: 0.0729 - val_dense_156_loss: 0.0394 - val_dense_159_loss: 0.0178 - val_dense_162_loss: 0.0158 - val_dense_156_mean_squared_error: 0.0394 - val_dense_159_mean_squared_error: 0.0178 - val_dense_162_mean_squared_error: 0.0158\n",
      "Epoch 14/50\n",
      "\n",
      "Epoch 00014: LearningRateScheduler setting learning rate to 0.00041827953016731594.\n",
      "99192/99192 [==============================] - 7s 69us/step - loss: 0.0740 - dense_156_loss: 0.0385 - dense_159_loss: 0.0201 - dense_162_loss: 0.0154 - dense_156_mean_squared_error: 0.0385 - dense_159_mean_squared_error: 0.0201 - dense_162_mean_squared_error: 0.0154 - val_loss: 0.0723 - val_dense_156_loss: 0.0388 - val_dense_159_loss: 0.0178 - val_dense_162_loss: 0.0157 - val_dense_156_mean_squared_error: 0.0388 - val_dense_159_mean_squared_error: 0.0178 - val_dense_162_mean_squared_error: 0.0157\n"
     ]
    },
    {
     "name": "stdout",
     "output_type": "stream",
     "text": [
      "Epoch 15/50\n",
      "\n",
      "Epoch 00015: LearningRateScheduler setting learning rate to 0.0003669118629196626.\n",
      "99192/99192 [==============================] - 6s 62us/step - loss: 0.0736 - dense_156_loss: 0.0382 - dense_159_loss: 0.0201 - dense_162_loss: 0.0154 - dense_156_mean_squared_error: 0.0382 - dense_159_mean_squared_error: 0.0201 - dense_162_mean_squared_error: 0.0154 - val_loss: 0.0721 - val_dense_156_loss: 0.0387 - val_dense_159_loss: 0.0177 - val_dense_162_loss: 0.0157 - val_dense_156_mean_squared_error: 0.0387 - val_dense_159_mean_squared_error: 0.0177 - val_dense_162_mean_squared_error: 0.0157\n",
      "Epoch 16/50\n",
      "\n",
      "Epoch 00016: LearningRateScheduler setting learning rate to 0.00031905380361106086.\n",
      "99192/99192 [==============================] - 6s 63us/step - loss: 0.0734 - dense_156_loss: 0.0380 - dense_159_loss: 0.0200 - dense_162_loss: 0.0154 - dense_156_mean_squared_error: 0.0380 - dense_159_mean_squared_error: 0.0200 - dense_162_mean_squared_error: 0.0154 - val_loss: 0.0720 - val_dense_156_loss: 0.0384 - val_dense_159_loss: 0.0177 - val_dense_162_loss: 0.0158 - val_dense_156_mean_squared_error: 0.0384 - val_dense_159_mean_squared_error: 0.0177 - val_dense_162_mean_squared_error: 0.0158\n",
      "Epoch 17/50\n",
      "\n",
      "Epoch 00017: LearningRateScheduler setting learning rate to 0.0002750463769690872.\n",
      "99192/99192 [==============================] - 6s 63us/step - loss: 0.0732 - dense_156_loss: 0.0379 - dense_159_loss: 0.0200 - dense_162_loss: 0.0153 - dense_156_mean_squared_error: 0.0379 - dense_159_mean_squared_error: 0.0200 - dense_162_mean_squared_error: 0.0153 - val_loss: 0.0718 - val_dense_156_loss: 0.0384 - val_dense_159_loss: 0.0177 - val_dense_162_loss: 0.0157 - val_dense_156_mean_squared_error: 0.0384 - val_dense_159_mean_squared_error: 0.0177 - val_dense_162_mean_squared_error: 0.0157\n",
      "Epoch 18/50\n",
      "\n",
      "Epoch 00018: LearningRateScheduler setting learning rate to 0.00023508238462874523.\n",
      "99192/99192 [==============================] - 6s 64us/step - loss: 0.0732 - dense_156_loss: 0.0378 - dense_159_loss: 0.0200 - dense_162_loss: 0.0153 - dense_156_mean_squared_error: 0.0378 - dense_159_mean_squared_error: 0.0200 - dense_162_mean_squared_error: 0.0153 - val_loss: 0.0718 - val_dense_156_loss: 0.0383 - val_dense_159_loss: 0.0178 - val_dense_162_loss: 0.0157 - val_dense_156_mean_squared_error: 0.0383 - val_dense_159_mean_squared_error: 0.0178 - val_dense_162_mean_squared_error: 0.0157\n",
      "Epoch 19/50\n",
      "\n",
      "Epoch 00019: LearningRateScheduler setting learning rate to 0.0001992223541631158.\n",
      "99192/99192 [==============================] - 6s 65us/step - loss: 0.0731 - dense_156_loss: 0.0377 - dense_159_loss: 0.0200 - dense_162_loss: 0.0153 - dense_156_mean_squared_error: 0.0377 - dense_159_mean_squared_error: 0.0200 - dense_162_mean_squared_error: 0.0153 - val_loss: 0.0717 - val_dense_156_loss: 0.0383 - val_dense_159_loss: 0.0177 - val_dense_162_loss: 0.0157 - val_dense_156_mean_squared_error: 0.0383 - val_dense_159_mean_squared_error: 0.0177 - val_dense_162_mean_squared_error: 0.0157\n",
      "Epoch 20/50\n",
      "\n",
      "Epoch 00020: LearningRateScheduler setting learning rate to 0.00016741374382326583.\n",
      "99192/99192 [==============================] - 7s 66us/step - loss: 0.0730 - dense_156_loss: 0.0377 - dense_159_loss: 0.0200 - dense_162_loss: 0.0153 - dense_156_mean_squared_error: 0.0377 - dense_159_mean_squared_error: 0.0200 - dense_162_mean_squared_error: 0.0153 - val_loss: 0.0717 - val_dense_156_loss: 0.0382 - val_dense_159_loss: 0.0177 - val_dense_162_loss: 0.0158 - val_dense_156_mean_squared_error: 0.0382 - val_dense_159_mean_squared_error: 0.0177 - val_dense_162_mean_squared_error: 0.0158\n",
      "Epoch 21/50\n",
      "\n",
      "Epoch 00021: LearningRateScheduler setting learning rate to 0.0001395114547146174.\n",
      "99192/99192 [==============================] - 6s 63us/step - loss: 0.0730 - dense_156_loss: 0.0376 - dense_159_loss: 0.0200 - dense_162_loss: 0.0153 - dense_156_mean_squared_error: 0.0376 - dense_159_mean_squared_error: 0.0200 - dense_162_mean_squared_error: 0.0153 - val_loss: 0.0720 - val_dense_156_loss: 0.0383 - val_dense_159_loss: 0.0177 - val_dense_162_loss: 0.0160 - val_dense_156_mean_squared_error: 0.0383 - val_dense_159_mean_squared_error: 0.0177 - val_dense_162_mean_squared_error: 0.0160\n",
      "Epoch 22/50\n",
      "\n",
      "Epoch 00022: LearningRateScheduler setting learning rate to 0.00011529872090024643.\n",
      "99192/99192 [==============================] - 6s 65us/step - loss: 0.0729 - dense_156_loss: 0.0376 - dense_159_loss: 0.0200 - dense_162_loss: 0.0153 - dense_156_mean_squared_error: 0.0376 - dense_159_mean_squared_error: 0.0200 - dense_162_mean_squared_error: 0.0153 - val_loss: 0.0717 - val_dense_156_loss: 0.0382 - val_dense_159_loss: 0.0178 - val_dense_162_loss: 0.0157 - val_dense_156_mean_squared_error: 0.0382 - val_dense_159_mean_squared_error: 0.0178 - val_dense_162_mean_squared_error: 0.0157\n",
      "Epoch 23/50\n",
      "\n",
      "Epoch 00023: LearningRateScheduler setting learning rate to 9.450715103904243e-05.\n",
      "99192/99192 [==============================] - 6s 63us/step - loss: 0.0729 - dense_156_loss: 0.0376 - dense_159_loss: 0.0200 - dense_162_loss: 0.0153 - dense_156_mean_squared_error: 0.0376 - dense_159_mean_squared_error: 0.0200 - dense_162_mean_squared_error: 0.0153 - val_loss: 0.0717 - val_dense_156_loss: 0.0383 - val_dense_159_loss: 0.0177 - val_dense_162_loss: 0.0157 - val_dense_156_mean_squared_error: 0.0383 - val_dense_159_mean_squared_error: 0.0177 - val_dense_162_mean_squared_error: 0.0157\n",
      "Epoch 24/50\n",
      "\n",
      "Epoch 00024: LearningRateScheduler setting learning rate to 7.683508253345887e-05.\n",
      "99192/99192 [==============================] - 7s 68us/step - loss: 0.0729 - dense_156_loss: 0.0376 - dense_159_loss: 0.0200 - dense_162_loss: 0.0153 - dense_156_mean_squared_error: 0.0376 - dense_159_mean_squared_error: 0.0200 - dense_162_mean_squared_error: 0.0153 - val_loss: 0.0718 - val_dense_156_loss: 0.0383 - val_dense_159_loss: 0.0177 - val_dense_162_loss: 0.0158 - val_dense_156_mean_squared_error: 0.0383 - val_dense_159_mean_squared_error: 0.0177 - val_dense_162_mean_squared_error: 0.0158\n",
      "Epoch 25/50\n",
      "\n",
      "Epoch 00025: LearningRateScheduler setting learning rate to 6.19637742807578e-05.\n",
      "99192/99192 [==============================] - 7s 68us/step - loss: 0.0729 - dense_156_loss: 0.0376 - dense_159_loss: 0.0200 - dense_162_loss: 0.0153 - dense_156_mean_squared_error: 0.0376 - dense_159_mean_squared_error: 0.0200 - dense_162_mean_squared_error: 0.0153 - val_loss: 0.0716 - val_dense_156_loss: 0.0382 - val_dense_159_loss: 0.0177 - val_dense_162_loss: 0.0157 - val_dense_156_mean_squared_error: 0.0382 - val_dense_159_mean_squared_error: 0.0177 - val_dense_162_mean_squared_error: 0.0157\n",
      "Epoch 26/50\n",
      "\n",
      "Epoch 00026: LearningRateScheduler setting learning rate to 4.95710177347064e-05.\n",
      "99192/99192 [==============================] - 7s 75us/step - loss: 0.0729 - dense_156_loss: 0.0376 - dense_159_loss: 0.0200 - dense_162_loss: 0.0153 - dense_156_mean_squared_error: 0.0376 - dense_159_mean_squared_error: 0.0200 - dense_162_mean_squared_error: 0.0153 - val_loss: 0.0717 - val_dense_156_loss: 0.0382 - val_dense_159_loss: 0.0177 - val_dense_162_loss: 0.0157 - val_dense_156_mean_squared_error: 0.0382 - val_dense_159_mean_squared_error: 0.0177 - val_dense_162_mean_squared_error: 0.0157\n",
      "Epoch 27/50\n",
      "\n",
      "Epoch 00027: LearningRateScheduler setting learning rate to 3.934207872214121e-05.\n",
      "99192/99192 [==============================] - 7s 73us/step - loss: 0.0729 - dense_156_loss: 0.0376 - dense_159_loss: 0.0200 - dense_162_loss: 0.0153 - dense_156_mean_squared_error: 0.0376 - dense_159_mean_squared_error: 0.0200 - dense_162_mean_squared_error: 0.0153 - val_loss: 0.0716 - val_dense_156_loss: 0.0382 - val_dense_159_loss: 0.0177 - val_dense_162_loss: 0.0157 - val_dense_156_mean_squared_error: 0.0382 - val_dense_159_mean_squared_error: 0.0177 - val_dense_162_mean_squared_error: 0.0157\n",
      "Epoch 28/50\n",
      "\n",
      "Epoch 00028: LearningRateScheduler setting learning rate to 3.097801401433865e-05.\n",
      "99192/99192 [==============================] - 7s 71us/step - loss: 0.0729 - dense_156_loss: 0.0375 - dense_159_loss: 0.0200 - dense_162_loss: 0.0153 - dense_156_mean_squared_error: 0.0375 - dense_159_mean_squared_error: 0.0200 - dense_162_mean_squared_error: 0.0153 - val_loss: 0.0716 - val_dense_156_loss: 0.0382 - val_dense_159_loss: 0.0177 - val_dense_162_loss: 0.0157 - val_dense_156_mean_squared_error: 0.0382 - val_dense_159_mean_squared_error: 0.0177 - val_dense_162_mean_squared_error: 0.0157\n"
     ]
    },
    {
     "name": "stdout",
     "output_type": "stream",
     "text": [
      "Epoch 29/50\n",
      "\n",
      "Epoch 00029: LearningRateScheduler setting learning rate to 2.4201574433391215e-05.\n",
      "99192/99192 [==============================] - 6s 63us/step - loss: 0.0728 - dense_156_loss: 0.0375 - dense_159_loss: 0.0200 - dense_162_loss: 0.0153 - dense_156_mean_squared_error: 0.0375 - dense_159_mean_squared_error: 0.0200 - dense_162_mean_squared_error: 0.0153 - val_loss: 0.0716 - val_dense_156_loss: 0.0382 - val_dense_159_loss: 0.0177 - val_dense_162_loss: 0.0157 - val_dense_156_mean_squared_error: 0.0382 - val_dense_159_mean_squared_error: 0.0177 - val_dense_162_mean_squared_error: 0.0157\n",
      "Epoch 30/50\n",
      "\n",
      "Epoch 00030: LearningRateScheduler setting learning rate to 1.8760910060964237e-05.\n",
      "99192/99192 [==============================] - 6s 64us/step - loss: 0.0728 - dense_156_loss: 0.0375 - dense_159_loss: 0.0200 - dense_162_loss: 0.0153 - dense_156_mean_squared_error: 0.0375 - dense_159_mean_squared_error: 0.0200 - dense_162_mean_squared_error: 0.0153 - val_loss: 0.0716 - val_dense_156_loss: 0.0382 - val_dense_159_loss: 0.0177 - val_dense_162_loss: 0.0157 - val_dense_156_mean_squared_error: 0.0382 - val_dense_159_mean_squared_error: 0.0177 - val_dense_162_mean_squared_error: 0.0157\n",
      "Epoch 31/50\n",
      "\n",
      "Epoch 00031: LearningRateScheduler setting learning rate to 1.4431468746177135e-05.\n",
      "99192/99192 [==============================] - 7s 69us/step - loss: 0.0728 - dense_156_loss: 0.0375 - dense_159_loss: 0.0200 - dense_162_loss: 0.0153 - dense_156_mean_squared_error: 0.0375 - dense_159_mean_squared_error: 0.0200 - dense_162_mean_squared_error: 0.0153 - val_loss: 0.0716 - val_dense_156_loss: 0.0382 - val_dense_159_loss: 0.0177 - val_dense_162_loss: 0.0157 - val_dense_156_mean_squared_error: 0.0382 - val_dense_159_mean_squared_error: 0.0177 - val_dense_162_mean_squared_error: 0.0157\n",
      "Epoch 32/50\n",
      "\n",
      "Epoch 00032: LearningRateScheduler setting learning rate to 1.1016388569482182e-05.\n",
      "99192/99192 [==============================] - 6s 64us/step - loss: 0.0728 - dense_156_loss: 0.0375 - dense_159_loss: 0.0200 - dense_162_loss: 0.0153 - dense_156_mean_squared_error: 0.0375 - dense_159_mean_squared_error: 0.0200 - dense_162_mean_squared_error: 0.0153 - val_loss: 0.0716 - val_dense_156_loss: 0.0382 - val_dense_159_loss: 0.0177 - val_dense_162_loss: 0.0157 - val_dense_156_mean_squared_error: 0.0382 - val_dense_159_mean_squared_error: 0.0177 - val_dense_162_mean_squared_error: 0.0157\n",
      "Epoch 33/50\n",
      "\n",
      "Epoch 00033: LearningRateScheduler setting learning rate to 8.345748690110419e-06.\n",
      "99192/99192 [==============================] - 6s 64us/step - loss: 0.0728 - dense_156_loss: 0.0375 - dense_159_loss: 0.0200 - dense_162_loss: 0.0153 - dense_156_mean_squared_error: 0.0375 - dense_159_mean_squared_error: 0.0200 - dense_162_mean_squared_error: 0.0153 - val_loss: 0.0716 - val_dense_156_loss: 0.0382 - val_dense_159_loss: 0.0177 - val_dense_162_loss: 0.0157 - val_dense_156_mean_squared_error: 0.0382 - val_dense_159_mean_squared_error: 0.0177 - val_dense_162_mean_squared_error: 0.0157\n",
      "Epoch 34/50\n",
      "\n",
      "Epoch 00034: LearningRateScheduler setting learning rate to 6.2749992016198714e-06.\n",
      "99192/99192 [==============================] - 6s 63us/step - loss: 0.0728 - dense_156_loss: 0.0375 - dense_159_loss: 0.0200 - dense_162_loss: 0.0153 - dense_156_mean_squared_error: 0.0375 - dense_159_mean_squared_error: 0.0200 - dense_162_mean_squared_error: 0.0153 - val_loss: 0.0716 - val_dense_156_loss: 0.0382 - val_dense_159_loss: 0.0177 - val_dense_162_loss: 0.0157 - val_dense_156_mean_squared_error: 0.0382 - val_dense_159_mean_squared_error: 0.0177 - val_dense_162_mean_squared_error: 0.0157\n",
      "Epoch 35/50\n",
      "\n",
      "Epoch 00035: LearningRateScheduler setting learning rate to 4.682835166402502e-06.\n",
      "99192/99192 [==============================] - 6s 65us/step - loss: 0.0728 - dense_156_loss: 0.0375 - dense_159_loss: 0.0200 - dense_162_loss: 0.0153 - dense_156_mean_squared_error: 0.0375 - dense_159_mean_squared_error: 0.0200 - dense_162_mean_squared_error: 0.0153 - val_loss: 0.0716 - val_dense_156_loss: 0.0382 - val_dense_159_loss: 0.0177 - val_dense_162_loss: 0.0157 - val_dense_156_mean_squared_error: 0.0382 - val_dense_159_mean_squared_error: 0.0177 - val_dense_162_mean_squared_error: 0.0157\n",
      "Epoch 36/50\n",
      "\n",
      "Epoch 00036: LearningRateScheduler setting learning rate to 3.46876664412708e-06.\n",
      "99192/99192 [==============================] - 6s 65us/step - loss: 0.0728 - dense_156_loss: 0.0375 - dense_159_loss: 0.0200 - dense_162_loss: 0.0153 - dense_156_mean_squared_error: 0.0375 - dense_159_mean_squared_error: 0.0200 - dense_162_mean_squared_error: 0.0153 - val_loss: 0.0716 - val_dense_156_loss: 0.0382 - val_dense_159_loss: 0.0177 - val_dense_162_loss: 0.0157 - val_dense_156_mean_squared_error: 0.0382 - val_dense_159_mean_squared_error: 0.0177 - val_dense_162_mean_squared_error: 0.0157\n",
      "Epoch 37/50\n",
      "\n",
      "Epoch 00037: LearningRateScheduler setting learning rate to 2.5505637027248777e-06.\n",
      "99192/99192 [==============================] - 7s 66us/step - loss: 0.0728 - dense_156_loss: 0.0375 - dense_159_loss: 0.0200 - dense_162_loss: 0.0153 - dense_156_mean_squared_error: 0.0375 - dense_159_mean_squared_error: 0.0200 - dense_162_mean_squared_error: 0.0153 - val_loss: 0.0716 - val_dense_156_loss: 0.0382 - val_dense_159_loss: 0.0177 - val_dense_162_loss: 0.0157 - val_dense_156_mean_squared_error: 0.0382 - val_dense_159_mean_squared_error: 0.0177 - val_dense_162_mean_squared_error: 0.0157\n",
      "Epoch 38/50\n",
      "\n",
      "Epoch 00038: LearningRateScheduler setting learning rate to 1.8617253646256238e-06.\n",
      "99192/99192 [==============================] - 7s 68us/step - loss: 0.0728 - dense_156_loss: 0.0375 - dense_159_loss: 0.0200 - dense_162_loss: 0.0153 - dense_156_mean_squared_error: 0.0375 - dense_159_mean_squared_error: 0.0200 - dense_162_mean_squared_error: 0.0153 - val_loss: 0.0716 - val_dense_156_loss: 0.0382 - val_dense_159_loss: 0.0177 - val_dense_162_loss: 0.0157 - val_dense_156_mean_squared_error: 0.0382 - val_dense_159_mean_squared_error: 0.0177 - val_dense_162_mean_squared_error: 0.0157\n",
      "Epoch 39/50\n",
      "\n",
      "Epoch 00039: LearningRateScheduler setting learning rate to 1.3490763108890953e-06.\n",
      "99192/99192 [==============================] - 7s 69us/step - loss: 0.0728 - dense_156_loss: 0.0375 - dense_159_loss: 0.0200 - dense_162_loss: 0.0153 - dense_156_mean_squared_error: 0.0375 - dense_159_mean_squared_error: 0.0200 - dense_162_mean_squared_error: 0.0153 - val_loss: 0.0716 - val_dense_156_loss: 0.0382 - val_dense_159_loss: 0.0177 - val_dense_162_loss: 0.0157 - val_dense_156_mean_squared_error: 0.0382 - val_dense_159_mean_squared_error: 0.0177 - val_dense_162_mean_squared_error: 0.0157\n",
      "Epoch 40/50\n",
      "\n",
      "Epoch 00040: LearningRateScheduler setting learning rate to 9.705585195641486e-07.\n",
      "99192/99192 [==============================] - 7s 68us/step - loss: 0.0728 - dense_156_loss: 0.0375 - dense_159_loss: 0.0200 - dense_162_loss: 0.0153 - dense_156_mean_squared_error: 0.0375 - dense_159_mean_squared_error: 0.0200 - dense_162_mean_squared_error: 0.0153 - val_loss: 0.0716 - val_dense_156_loss: 0.0382 - val_dense_159_loss: 0.0177 - val_dense_162_loss: 0.0157 - val_dense_156_mean_squared_error: 0.0382 - val_dense_159_mean_squared_error: 0.0177 - val_dense_162_mean_squared_error: 0.0157\n",
      "Epoch 41/50\n",
      "\n",
      "Epoch 00041: LearningRateScheduler setting learning rate to 6.932560836503399e-07.\n",
      "99192/99192 [==============================] - 7s 67us/step - loss: 0.0728 - dense_156_loss: 0.0375 - dense_159_loss: 0.0200 - dense_162_loss: 0.0153 - dense_156_mean_squared_error: 0.0375 - dense_159_mean_squared_error: 0.0200 - dense_162_mean_squared_error: 0.0153 - val_loss: 0.0716 - val_dense_156_loss: 0.0382 - val_dense_159_loss: 0.0177 - val_dense_162_loss: 0.0157 - val_dense_156_mean_squared_error: 0.0382 - val_dense_159_mean_squared_error: 0.0177 - val_dense_162_mean_squared_error: 0.0157\n",
      "Epoch 42/50\n",
      "\n",
      "Epoch 00042: LearningRateScheduler setting learning rate to 4.916709813122977e-07.\n",
      "99192/99192 [==============================] - 7s 73us/step - loss: 0.0728 - dense_156_loss: 0.0375 - dense_159_loss: 0.0200 - dense_162_loss: 0.0153 - dense_156_mean_squared_error: 0.0375 - dense_159_mean_squared_error: 0.0200 - dense_162_mean_squared_error: 0.0153 - val_loss: 0.0716 - val_dense_156_loss: 0.0382 - val_dense_159_loss: 0.0177 - val_dense_162_loss: 0.0157 - val_dense_156_mean_squared_error: 0.0382 - val_dense_159_mean_squared_error: 0.0177 - val_dense_162_mean_squared_error: 0.0157\n"
     ]
    },
    {
     "name": "stdout",
     "output_type": "stream",
     "text": [
      "Epoch 43/50\n",
      "\n",
      "Epoch 00043: LearningRateScheduler setting learning rate to 3.4624715489128356e-07.\n",
      "99192/99192 [==============================] - 7s 66us/step - loss: 0.0728 - dense_156_loss: 0.0375 - dense_159_loss: 0.0200 - dense_162_loss: 0.0153 - dense_156_mean_squared_error: 0.0375 - dense_159_mean_squared_error: 0.0200 - dense_162_mean_squared_error: 0.0153 - val_loss: 0.0716 - val_dense_156_loss: 0.0382 - val_dense_159_loss: 0.0177 - val_dense_162_loss: 0.0157 - val_dense_156_mean_squared_error: 0.0382 - val_dense_159_mean_squared_error: 0.0177 - val_dense_162_mean_squared_error: 0.0157\n",
      "Epoch 44/50\n",
      "\n",
      "Epoch 00044: LearningRateScheduler setting learning rate to 2.421308828651001e-07.\n",
      "99192/99192 [==============================] - 7s 67us/step - loss: 0.0728 - dense_156_loss: 0.0375 - dense_159_loss: 0.0200 - dense_162_loss: 0.0153 - dense_156_mean_squared_error: 0.0375 - dense_159_mean_squared_error: 0.0200 - dense_162_mean_squared_error: 0.0153 - val_loss: 0.0716 - val_dense_156_loss: 0.0382 - val_dense_159_loss: 0.0177 - val_dense_162_loss: 0.0157 - val_dense_156_mean_squared_error: 0.0382 - val_dense_159_mean_squared_error: 0.0177 - val_dense_162_mean_squared_error: 0.0157\n",
      "Epoch 45/50\n",
      "\n",
      "Epoch 00045: LearningRateScheduler setting learning rate to 1.6814644491584357e-07.\n",
      "99192/99192 [==============================] - 7s 69us/step - loss: 0.0728 - dense_156_loss: 0.0375 - dense_159_loss: 0.0200 - dense_162_loss: 0.0153 - dense_156_mean_squared_error: 0.0375 - dense_159_mean_squared_error: 0.0200 - dense_162_mean_squared_error: 0.0153 - val_loss: 0.0716 - val_dense_156_loss: 0.0382 - val_dense_159_loss: 0.0177 - val_dense_162_loss: 0.0157 - val_dense_156_mean_squared_error: 0.0382 - val_dense_159_mean_squared_error: 0.0177 - val_dense_162_mean_squared_error: 0.0157\n",
      "Epoch 46/50\n",
      "\n",
      "Epoch 00046: LearningRateScheduler setting learning rate to 1.1596306382577088e-07.\n",
      "99192/99192 [==============================] - 7s 69us/step - loss: 0.0728 - dense_156_loss: 0.0375 - dense_159_loss: 0.0200 - dense_162_loss: 0.0153 - dense_156_mean_squared_error: 0.0375 - dense_159_mean_squared_error: 0.0200 - dense_162_mean_squared_error: 0.0153 - val_loss: 0.0716 - val_dense_156_loss: 0.0382 - val_dense_159_loss: 0.0177 - val_dense_162_loss: 0.0157 - val_dense_156_mean_squared_error: 0.0382 - val_dense_159_mean_squared_error: 0.0177 - val_dense_162_mean_squared_error: 0.0157\n",
      "Epoch 47/50\n",
      "\n",
      "Epoch 00047: LearningRateScheduler setting learning rate to 7.942675436686542e-08.\n",
      "99192/99192 [==============================] - 7s 66us/step - loss: 0.0728 - dense_156_loss: 0.0375 - dense_159_loss: 0.0200 - dense_162_loss: 0.0153 - dense_156_mean_squared_error: 0.0375 - dense_159_mean_squared_error: 0.0200 - dense_162_mean_squared_error: 0.0153 - val_loss: 0.0716 - val_dense_156_loss: 0.0382 - val_dense_159_loss: 0.0177 - val_dense_162_loss: 0.0157 - val_dense_156_mean_squared_error: 0.0382 - val_dense_159_mean_squared_error: 0.0177 - val_dense_162_mean_squared_error: 0.0157\n",
      "Epoch 48/50\n",
      "\n",
      "Epoch 00048: LearningRateScheduler setting learning rate to 5.403180608902935e-08.\n",
      "99192/99192 [==============================] - 7s 71us/step - loss: 0.0728 - dense_156_loss: 0.0375 - dense_159_loss: 0.0200 - dense_162_loss: 0.0153 - dense_156_mean_squared_error: 0.0375 - dense_159_mean_squared_error: 0.0200 - dense_162_mean_squared_error: 0.0153 - val_loss: 0.0716 - val_dense_156_loss: 0.0382 - val_dense_159_loss: 0.0177 - val_dense_162_loss: 0.0157 - val_dense_156_mean_squared_error: 0.0382 - val_dense_159_mean_squared_error: 0.0177 - val_dense_162_mean_squared_error: 0.0157\n",
      "Epoch 49/50\n",
      "\n",
      "Epoch 00049: LearningRateScheduler setting learning rate to 3.650797622170201e-08.\n",
      "99192/99192 [==============================] - 7s 70us/step - loss: 0.0728 - dense_156_loss: 0.0375 - dense_159_loss: 0.0200 - dense_162_loss: 0.0153 - dense_156_mean_squared_error: 0.0375 - dense_159_mean_squared_error: 0.0200 - dense_162_mean_squared_error: 0.0153 - val_loss: 0.0716 - val_dense_156_loss: 0.0382 - val_dense_159_loss: 0.0177 - val_dense_162_loss: 0.0157 - val_dense_156_mean_squared_error: 0.0382 - val_dense_159_mean_squared_error: 0.0177 - val_dense_162_mean_squared_error: 0.0157\n",
      "Epoch 50/50\n",
      "\n",
      "Epoch 00050: LearningRateScheduler setting learning rate to 2.4501998044211817e-08.\n",
      "99192/99192 [==============================] - 7s 74us/step - loss: 0.0728 - dense_156_loss: 0.0375 - dense_159_loss: 0.0200 - dense_162_loss: 0.0153 - dense_156_mean_squared_error: 0.0375 - dense_159_mean_squared_error: 0.0200 - dense_162_mean_squared_error: 0.0153 - val_loss: 0.0716 - val_dense_156_loss: 0.0382 - val_dense_159_loss: 0.0177 - val_dense_162_loss: 0.0157 - val_dense_156_mean_squared_error: 0.0382 - val_dense_159_mean_squared_error: 0.0177 - val_dense_162_mean_squared_error: 0.0157\n"
     ]
    }
   ],
   "source": [
    "adam = optimizers.adam(lr=0.001)\n",
    "model.compile(loss=[\"mean_squared_error\",\"mean_squared_error\",\"mean_squared_error\"], optimizer=adam, metrics=[\"mean_squared_error\"])\n",
    "history = model.fit([X_train], [Y1,Y2,Y3], epochs=50, batch_size=128,validation_data=([X_test],[Y1_,Y2_,Y3_]),callbacks=[lrate])"
   ]
  },
  {
   "cell_type": "code",
   "execution_count": 39,
   "metadata": {},
   "outputs": [
    {
     "data": {
      "image/png": "[encoded data removed]",
      "text/plain": [
       "<Figure size 432x288 with 1 Axes>"
      ]
     },
     "metadata": {
      "needs_background": "light"
     },
     "output_type": "display_data"
    }
   ],
   "source": [
    "import matplotlib.pyplot as plt\n",
    "\n",
    "plt.plot(history.history['loss'])\n",
    "plt.plot(history.history['val_loss'])\n",
    "plt.title('Model loss')\n",
    "plt.ylabel('Loss')\n",
    "plt.xlabel('Epoch')\n",
    "plt.legend(['Train', 'Test'], loc='upper left')\n",
    "plt.show()\n"
   ]
  },
  {
   "cell_type": "code",
   "execution_count": 40,
   "metadata": {},
   "outputs": [],
   "source": [
    "# model.save(\"latest.h5\")"
   ]
  },
  {
   "cell_type": "code",
   "execution_count": 109,
   "metadata": {},
   "outputs": [],
   "source": [
    "model = load_model(\"latest.h5\")"
   ]
  },
  {
   "cell_type": "code",
   "execution_count": 20,
   "metadata": {},
   "outputs": [],
   "source": [
    "import time"
   ]
  },
  {
   "cell_type": "code",
   "execution_count": 75,
   "metadata": {},
   "outputs": [
    {
     "data": {
      "text/plain": [
       "2020202"
      ]
     },
     "execution_count": 75,
     "metadata": {},
     "output_type": "execute_result"
    }
   ],
   "source": [
    "input_.size"
   ]
  },
  {
   "cell_type": "code",
   "execution_count": 113,
   "metadata": {
    "scrolled": true
   },
   "outputs": [
    {
     "name": "stdout",
     "output_type": "stream",
     "text": [
      "6.529637098312378\n"
     ]
    }
   ],
   "source": [
    "input_ = random_scale.transform(X)\n",
    "start = time.time()\n",
    "output_ = model.predict(input_)\n",
    "end  = time.time()\n",
    "print (end -start)\n",
    "output_ = np.transpose(np.array(output_))\n",
    "output_ = green_scale.inverse_transform(output_.reshape(output_.shape[1],3))\n"
   ]
  },
  {
   "cell_type": "code",
   "execution_count": 44,
   "metadata": {},
   "outputs": [],
   "source": [
    "import matplotlib.pyplot as plt\n"
   ]
  },
  {
   "cell_type": "code",
   "execution_count": 144,
   "metadata": {},
   "outputs": [],
   "source": [
    "y = np.array(p)"
   ]
  },
  {
   "cell_type": "code",
   "execution_count": 149,
   "metadata": {},
   "outputs": [
    {
     "data": {
      "text/plain": [
       "[<matplotlib.lines.Line2D at 0x7f83defc0128>]"
      ]
     },
     "execution_count": 149,
     "metadata": {},
     "output_type": "execute_result"
    },
    {
     "data": {
      "image/png": "[encoded data removed]",
      "text/plain": [
       "<Figure size 432x288 with 1 Axes>"
      ]
     },
     "metadata": {
      "needs_background": "light"
     },
     "output_type": "display_data"
    }
   ],
   "source": [
    "plt.scatter(p[\"target_1\"],p[\"output_1\"],alpha=0.01)\n",
    "plt.plot(y[:,0],y[:,0],'k-') \n"
   ]
  },
  {
   "cell_type": "code",
   "execution_count": 45,
   "metadata": {},
   "outputs": [
    {
     "data": {
      "text/plain": [
       "[<matplotlib.lines.Line2D at 0x7f2b2528a9e8>]"
      ]
     },
     "execution_count": 45,
     "metadata": {},
     "output_type": "execute_result"
    },
    {
     "data": {
      "image/png": "[encoded data removed]",
      "text/plain": [
       "<Figure size 432x288 with 1 Axes>"
      ]
     },
     "metadata": {
      "needs_background": "light"
     },
     "output_type": "display_data"
    }
   ],
   "source": [
    "plt.scatter(output_[:,1],y[:,1],alpha=0.01)\n",
    "plt.plot(y[:,1],y[:,1],'k-') \n"
   ]
  },
  {
   "cell_type": "code",
   "execution_count": 46,
   "metadata": {},
   "outputs": [
    {
     "data": {
      "text/plain": [
       "[<matplotlib.lines.Line2D at 0x7f2b252de748>]"
      ]
     },
     "execution_count": 46,
     "metadata": {},
     "output_type": "execute_result"
    },
    {
     "data": {
      "image/png": "[encoded data removed]",
      "text/plain": [
       "<Figure size 432x288 with 1 Axes>"
      ]
     },
     "metadata": {
      "needs_background": "light"
     },
     "output_type": "display_data"
    }
   ],
   "source": [
    "plt.scatter(p[\"output_\"],p[\"target\"],alpha=0.01)\n",
    "plt.plot(p[\"target\"],p[\"target\"],'k-',alpha =0.9) \n"
   ]
  },
  {
   "cell_type": "code",
   "execution_count": 131,
   "metadata": {},
   "outputs": [],
   "source": [
    "predict = pd.DataFrame(columns=[\"output_1\",\"output_2\",\"output_3\",\"target_1\",\"target_2\",\"target_3\"])"
   ]
  },
  {
   "cell_type": "code",
   "execution_count": 135,
   "metadata": {},
   "outputs": [],
   "source": [
    "predict[\"target_1\"],predict[\"target_2\"],predict[\"target_3\"]=y[:,0],y[:,1],y[:,2]\n",
    "predict[\"output_1\"],predict[\"output_2\"],predict[\"output_3\"]= output_[:,0],output_[:,1],output_[:,2]"
   ]
  },
  {
   "cell_type": "code",
   "execution_count": 148,
   "metadata": {},
   "outputs": [],
   "source": [
    "p = predict.sample(frac=.03)"
   ]
  },
  {
   "cell_type": "code",
   "execution_count": 138,
   "metadata": {},
   "outputs": [
    {
     "data": {
      "text/plain": [
       "0.0017136866012382433"
      ]
     },
     "execution_count": 138,
     "metadata": {},
     "output_type": "execute_result"
    }
   ],
   "source": [
    "np.average(np.square(predict[\"output_1\"]-predict['target_1']))"
   ]
  },
  {
   "cell_type": "code",
   "execution_count": 140,
   "metadata": {},
   "outputs": [
    {
     "data": {
      "text/plain": [
       "0.02881671240510612"
      ]
     },
     "execution_count": 140,
     "metadata": {},
     "output_type": "execute_result"
    }
   ],
   "source": [
    "np.average(np.square(predict[\"output_2\"]-predict['target_2']))"
   ]
  },
  {
   "cell_type": "code",
   "execution_count": 142,
   "metadata": {},
   "outputs": [
    {
     "data": {
      "text/plain": [
       "0.5433365203294985"
      ]
     },
     "execution_count": 142,
     "metadata": {},
     "output_type": "execute_result"
    }
   ],
   "source": [
    "np.average(np.square(predict[\"output_3\"]-predict['target_3']))"
   ]
  },
  {
   "cell_type": "code",
   "execution_count": null,
   "metadata": {},
   "outputs": [],
   "source": []
  }
 ],
 "metadata": {
  "kernelspec": {
   "display_name": "Python 3",
   "language": "python",
   "name": "python3"
  },
  "language_info": {
   "codemirror_mode": {
    "name": "ipython",
    "version": 3
   },
   "file_extension": ".py",
   "mimetype": "text/x-python",
   "name": "python",
   "nbconvert_exporter": "python",
   "pygments_lexer": "ipython3",
   "version": "3.7.3"
  }
 },
 "nbformat": 4,
 "nbformat_minor": 2
}
