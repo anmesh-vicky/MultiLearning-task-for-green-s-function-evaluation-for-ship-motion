{
 "cells": [
  {
   "cell_type": "code",
   "execution_count": 274,
   "metadata": {},
   "outputs": [],
   "source": [
    "import numpy as np"
   ]
  },
  {
   "cell_type": "code",
   "execution_count": 275,
   "metadata": {},
   "outputs": [],
   "source": [
    "T = 13\n",
    "B =30\n",
    "L =200"
   ]
  },
  {
   "cell_type": "code",
   "execution_count": 276,
   "metadata": {},
   "outputs": [],
   "source": [
    "x = np.arange(-L/2,L/2+.1,0.1)\n",
    "z = np.arange(0, -T-.1,-0.1)"
   ]
  },
  {
   "cell_type": "code",
   "execution_count": 277,
   "metadata": {},
   "outputs": [],
   "source": [
    "X,Z = np.meshgrid(x,z)\n",
    "Y = B/2*(1-np.power((2*X/L),2))*(1-np.power(Z/T,2))"
   ]
  },
  {
   "cell_type": "code",
   "execution_count": 278,
   "metadata": {},
   "outputs": [],
   "source": [
    "Pannels = [X,Y,Z]"
   ]
  },
  {
   "cell_type": "code",
   "execution_count": 279,
   "metadata": {},
   "outputs": [],
   "source": [
    "def cg(pannels):\n",
    "    CG=[]\n",
    "    X = pannels[0]\n",
    "    Y = pannels[1]\n",
    "    Z = pannels[2]\n",
    "    for i in range(len(X)-1):\n",
    "        Cg_row = []\n",
    "        for j in range(len(X[0])-1):\n",
    "            cg = []\n",
    "            for C in [X,Y,Z]:\n",
    "                cg.append((C[i][j]+C[i+1][j]+C[i][j+1]+C[i+1][j+1])/4)\n",
    "            Cg_row.append(cg)\n",
    "        CG.append(Cg_row)\n",
    "    return np.array(CG)\n",
    "            \n",
    "        \n",
    "        \n",
    "        "
   ]
  },
  {
   "cell_type": "code",
   "execution_count": 280,
   "metadata": {},
   "outputs": [],
   "source": [
    "def area(pannels):\n",
    "    Area = []\n",
    "    Normal = []\n",
    "    X = pannels[0]\n",
    "    Y = pannels[1]\n",
    "    Z = pannels[2]\n",
    "    for i in range(len(X)-1):\n",
    "        Area_row = []\n",
    "        Normal_row = []\n",
    "        for j in range(len(X[0])-1):\n",
    "            AB = []\n",
    "            BC = []\n",
    "            for C in [X,Y,Z]:\n",
    "                AB.append(C[i+1][j]-C[i][j])\n",
    "                BC.append(C[i+1][j+1]-C[i+1][j])\n",
    "            product = np.cross(AB,BC)\n",
    "            Area_row.append(np.linalg.norm(product))\n",
    "            Normal_row.append(product/np.linalg.norm(product))\n",
    "        Area.append(Area_row)\n",
    "        Normal.append(Normal_row)\n",
    "    return np.array(Area),np.array(Normal)\n",
    "                \n"
   ]
  },
  {
   "cell_type": "code",
   "execution_count": 281,
   "metadata": {},
   "outputs": [],
   "source": [
    "def Mass(Area,Normal,Cg):\n",
    "    Force = np.sum(1.025*9.81*np.multiply(np.multiply(Cg[:,:,2],Area),Normal[:,:,2]))\n",
    "    return Force/9.81*2;"
   ]
  },
  {
   "cell_type": "code",
   "execution_count": 282,
   "metadata": {},
   "outputs": [],
   "source": [
    "def waterplane_area(pannels,n):\n",
    "    X = pannels[0]\n",
    "    Y = pannels[1]\n",
    "    Z = pannels[2]\n",
    "    return np.trapz(Y[n],X[n]);\n",
    "    \n",
    "    "
   ]
  },
  {
   "cell_type": "code",
   "execution_count": 283,
   "metadata": {},
   "outputs": [
    {
     "name": "stdout",
     "output_type": "stream",
     "text": [
      "Mass : 35532.79880910576\n",
      "Waterplane Area: 1999.9995\n",
      "wetted Surface Area: 7021.596660493452\n"
     ]
    }
   ],
   "source": [
    "Area ,Normal = area(Pannels)\n",
    "Cg = cg(Pannels)\n",
    "print(\"Mass :\",abs(Mass(Area,Normal,Cg)))\n",
    "print(\"Waterplane Area:\",waterplane_area(Pannels,0))\n",
    "print(\"wetted Surface Area:\",2*np.sum(abs(Area)))"
   ]
  },
  {
   "cell_type": "code",
   "execution_count": 284,
   "metadata": {},
   "outputs": [],
   "source": [
    "def buoyancy_mass(pannels):\n",
    "    plane = []\n",
    "    X = pannels[0]\n",
    "    Y = pannels[1]\n",
    "    Z = pannels[2]\n",
    "    for i in range(len(X[0])):\n",
    "        plane.append(np.trapz(Y[:,i],Z[:,i]))\n",
    "    return abs(np.trapz(plane,X[0])*1.025*2)"
   ]
  },
  {
   "cell_type": "code",
   "execution_count": 285,
   "metadata": {},
   "outputs": [
    {
     "data": {
      "text/plain": [
       "35532.79880910576"
      ]
     },
     "execution_count": 285,
     "metadata": {},
     "output_type": "execute_result"
    }
   ],
   "source": [
    "buoyancy_mass(Pannels)"
   ]
  },
  {
   "cell_type": "code",
   "execution_count": 286,
   "metadata": {},
   "outputs": [
    {
     "data": {
      "text/plain": [
       "array([[-100. ,  -99.9,  -99.8, ...,   99.8,   99.9,  100. ],\n",
       "       [-100. ,  -99.9,  -99.8, ...,   99.8,   99.9,  100. ],\n",
       "       [-100. ,  -99.9,  -99.8, ...,   99.8,   99.9,  100. ],\n",
       "       ...,\n",
       "       [-100. ,  -99.9,  -99.8, ...,   99.8,   99.9,  100. ],\n",
       "       [-100. ,  -99.9,  -99.8, ...,   99.8,   99.9,  100. ],\n",
       "       [-100. ,  -99.9,  -99.8, ...,   99.8,   99.9,  100. ]])"
      ]
     },
     "execution_count": 286,
     "metadata": {},
     "output_type": "execute_result"
    }
   ],
   "source": [
    "X"
   ]
  },
  {
   "cell_type": "code",
   "execution_count": null,
   "metadata": {},
   "outputs": [],
   "source": []
  }
 ],
 "metadata": {
  "kernelspec": {
   "display_name": "Python 3",
   "language": "python",
   "name": "python3"
  },
  "language_info": {
   "codemirror_mode": {
    "name": "ipython",
    "version": 3
   },
   "file_extension": ".py",
   "mimetype": "text/x-python",
   "name": "python",
   "nbconvert_exporter": "python",
   "pygments_lexer": "ipython3",
   "version": "3.7.3"
  }
 },
 "nbformat": 4,
 "nbformat_minor": 2
}
