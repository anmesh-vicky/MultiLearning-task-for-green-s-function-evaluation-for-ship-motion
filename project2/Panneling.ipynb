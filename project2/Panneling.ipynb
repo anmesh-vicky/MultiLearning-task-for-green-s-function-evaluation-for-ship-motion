{
 "cells": [
  {
   "cell_type": "code",
   "execution_count": 9,
   "metadata": {},
   "outputs": [],
   "source": [
    "import numpy as np\n"
   ]
  },
  {
   "cell_type": "code",
   "execution_count": 10,
   "metadata": {},
   "outputs": [],
   "source": [
    "T = 0.5 \n",
    "B =1.2 \n",
    "L =4"
   ]
  },
  {
   "cell_type": "code",
   "execution_count": 51,
   "metadata": {},
   "outputs": [],
   "source": [
    "x = np.arange(-L/2,L/2+1,0.2)\n",
    "z = np.arange(0, -T,-.09)"
   ]
  },
  {
   "cell_type": "code",
   "execution_count": 52,
   "metadata": {},
   "outputs": [],
   "source": [
    "X,Z = np.meshgrid(x,z)\n",
    "Y = B/2*(1-np.power((2*X/L),2))*np.power((1-Z/T),2)"
   ]
  },
  {
   "cell_type": "code",
   "execution_count": 53,
   "metadata": {},
   "outputs": [],
   "source": [
    "Pannels = [X,Y,Z]"
   ]
  },
  {
   "cell_type": "code",
   "execution_count": 179,
   "metadata": {},
   "outputs": [],
   "source": [
    "def cg(pannels):\n",
    "    CG=[]\n",
    "    X = pannels[0]\n",
    "    Y = pannels[1]\n",
    "    Z = pannels[2]\n",
    "    for i in range(len(X)-1):\n",
    "        Cg_row = []\n",
    "        for j in range(len(X[0])-1):\n",
    "            cg = []\n",
    "            for C in [X,Y,Z]:\n",
    "                cg.append((C[i][j]+C[i+1][j]+C[i][j+1]+C[i+1][j+1])/4)\n",
    "            Cg_row.append(cg)\n",
    "        CG.append(Cg_row)\n",
    "    return np.array(CG)\n",
    "            \n",
    "        \n",
    "        \n",
    "        "
   ]
  },
  {
   "cell_type": "code",
   "execution_count": 180,
   "metadata": {},
   "outputs": [],
   "source": [
    "def area(pannels):\n",
    "    Area = []\n",
    "    Normal = []\n",
    "    X = pannels[0]\n",
    "    Y = pannels[1]\n",
    "    Z = pannels[2]\n",
    "    for i in range(len(X)-1):\n",
    "        Area_row = []\n",
    "        Normal_row = []\n",
    "        for j in range(len(X[0])-1):\n",
    "            AB = []\n",
    "            BC = []\n",
    "            for C in [X,Y,Z]:\n",
    "                AB.append(C[i+1][j]-C[i][j])\n",
    "                BC.append(C[i+1][j+1]-C[i+1][j])\n",
    "            product = np.cross(AB,BC)\n",
    "            Area_row.append(np.linalg.norm(product))\n",
    "            Normal_row.append(product/np.linalg.norm(product))\n",
    "        Area.append(Area_row)\n",
    "        Normal.append(Normal_row)\n",
    "    return np.array(Area),np.array(Normal)\n",
    "                \n"
   ]
  },
  {
   "cell_type": "code",
   "execution_count": 197,
   "metadata": {},
   "outputs": [],
   "source": [
    "def Mass(Area,Normal,Cg):\n",
    "    Force = np.sum(1.025*9.81*np.multiply(np.multiply(Cg[:,:,2],Area),Normal[:,:,2]))\n",
    "    return Force"
   ]
  },
  {
   "cell_type": "code",
   "execution_count": 198,
   "metadata": {},
   "outputs": [
    {
     "data": {
      "text/plain": [
       "9.316410984036"
      ]
     },
     "execution_count": 198,
     "metadata": {},
     "output_type": "execute_result"
    }
   ],
   "source": [
    "Area ,Normal = area(Pannels)\n",
    "Cg = cg(Pannels)\n",
    "Mass(Area,Normal,CG )"
   ]
  },
  {
   "cell_type": "code",
   "execution_count": 201,
   "metadata": {},
   "outputs": [
    {
     "data": {
      "text/plain": [
       "1.9013083640889796"
      ]
     },
     "execution_count": 201,
     "metadata": {},
     "output_type": "execute_result"
    }
   ],
   "source": [
    "9.316410984036*2/9.8"
   ]
  },
  {
   "cell_type": "code",
   "execution_count": 200,
   "metadata": {},
   "outputs": [
    {
     "data": {
      "text/plain": [
       "array([[ 0.0681834,  0.197373 ,  0.3122082,  0.412689 ,  0.4988154,\n",
       "         0.5705874,  0.628005 ,  0.6710682,  0.699777 ,  0.7141314,\n",
       "         0.7141314,  0.699777 ,  0.6710682,  0.628005 ,  0.5705874,\n",
       "         0.4988154,  0.412689 ,  0.3122082,  0.197373 ,  0.0681834,\n",
       "        -0.0753606, -0.233259 , -0.4055118, -0.592119 ],\n",
       "       [ 0.092397 ,  0.267465 ,  0.423081 ,  0.559245 ,  0.675957 ,\n",
       "         0.773217 ,  0.851025 ,  0.909381 ,  0.948285 ,  0.967737 ,\n",
       "         0.967737 ,  0.948285 ,  0.909381 ,  0.851025 ,  0.773217 ,\n",
       "         0.675957 ,  0.559245 ,  0.423081 ,  0.267465 ,  0.092397 ,\n",
       "        -0.102123 , -0.316095 , -0.549519 , -0.802395 ],\n",
       "       [ 0.1203042,  0.348249 ,  0.5508666,  0.728157 ,  0.8801202,\n",
       "         1.0067562,  1.108065 ,  1.1840466,  1.234701 ,  1.2600282,\n",
       "         1.2600282,  1.234701 ,  1.1840466,  1.108065 ,  1.0067562,\n",
       "         0.8801202,  0.728157 ,  0.5508666,  0.348249 ,  0.1203042,\n",
       "        -0.1329678, -0.411567 , -0.7154934, -1.044747 ],\n",
       "       [ 0.151905 ,  0.439725 ,  0.695565 ,  0.919425 ,  1.111305 ,\n",
       "         1.271205 ,  1.399125 ,  1.495065 ,  1.559025 ,  1.591005 ,\n",
       "         1.591005 ,  1.559025 ,  1.495065 ,  1.399125 ,  1.271205 ,\n",
       "         1.111305 ,  0.919425 ,  0.695565 ,  0.439725 ,  0.151905 ,\n",
       "        -0.167895 , -0.519675 , -0.903435 , -1.319175 ],\n",
       "       [ 0.1871994,  0.541893 ,  0.8571762,  1.133049 ,  1.3695114,\n",
       "         1.5665634,  1.724205 ,  1.8424362,  1.921257 ,  1.9606674,\n",
       "         1.9606674,  1.921257 ,  1.8424362,  1.724205 ,  1.5665634,\n",
       "         1.3695114,  1.133049 ,  0.8571762,  0.541893 ,  0.1871994,\n",
       "        -0.2069046, -0.640419 , -1.1133438, -1.625679 ]])"
      ]
     },
     "execution_count": 200,
     "metadata": {},
     "output_type": "execute_result"
    }
   ],
   "source": [
    "CG[:,:,1]"
   ]
  },
  {
   "cell_type": "code",
   "execution_count": null,
   "metadata": {},
   "outputs": [],
   "source": []
  }
 ],
 "metadata": {
  "kernelspec": {
   "display_name": "Python 3",
   "language": "python",
   "name": "python3"
  },
  "language_info": {
   "codemirror_mode": {
    "name": "ipython",
    "version": 3
   },
   "file_extension": ".py",
   "mimetype": "text/x-python",
   "name": "python",
   "nbconvert_exporter": "python",
   "pygments_lexer": "ipython3",
   "version": "3.7.3"
  }
 },
 "nbformat": 4,
 "nbformat_minor": 2
}
