{
 "cells": [
  {
   "cell_type": "code",
   "execution_count": 1,
   "metadata": {},
   "outputs": [],
   "source": [
    "import numpy as np\n",
    "import pandas as pd\n",
    "from pannels import pannels as pl"
   ]
  },
  {
   "cell_type": "code",
   "execution_count": 2,
   "metadata": {},
   "outputs": [],
   "source": [
    "df = pd.read_csv(\"data.txt\",header=None)\n",
    "points = int(np.array(df)[0][0].split(\"\\t\")[0])"
   ]
  },
  {
   "cell_type": "code",
   "execution_count": 3,
   "metadata": {},
   "outputs": [],
   "source": [
    "p = []\n",
    "for i in range(points):\n",
    "    a = np.array(df)[i+1][0].split(\"\\t\")\n",
    "#     print(int(a[0]))\n",
    "    p.append([float(a[1]),float(a[2]),float(a[3])])\n",
    "p = np.array(p)"
   ]
  },
  {
   "cell_type": "code",
   "execution_count": 4,
   "metadata": {},
   "outputs": [],
   "source": [
    "connect  =  int(np.array(df)[points+1][0].split(\"\\t\")[0])"
   ]
  },
  {
   "cell_type": "code",
   "execution_count": 5,
   "metadata": {},
   "outputs": [],
   "source": [
    "c = []\n",
    "for i in range(points+1,connect+points+1):\n",
    "    a = np.array(df)[i+1][0].split(\"\\t\")\n",
    "#     print(int(a[0]))\n",
    "    c.append([float(a[1]),float(a[2]),float(a[3]),float(a[4])])\n",
    "c = np.array(c)"
   ]
  },
  {
   "cell_type": "code",
   "execution_count": 6,
   "metadata": {},
   "outputs": [],
   "source": [
    "def connect(p,c,i):\n",
    "    points = []\n",
    "    for z in c[i]:\n",
    "        points.append(p[int(z-1)])\n",
    "    return np.array(points)"
   ]
  },
  {
   "cell_type": "code",
   "execution_count": 7,
   "metadata": {},
   "outputs": [],
   "source": [
    "list = []\n",
    "for i in range(len(c)):\n",
    "    list.append(pl(connect(p,c,i)))"
   ]
  },
  {
   "cell_type": "code",
   "execution_count": 8,
   "metadata": {},
   "outputs": [],
   "source": [
    "from hydro import hydro"
   ]
  },
  {
   "cell_type": "code",
   "execution_count": 9,
   "metadata": {},
   "outputs": [],
   "source": [
    "z = hydro(list,p)"
   ]
  },
  {
   "cell_type": "code",
   "execution_count": 10,
   "metadata": {},
   "outputs": [],
   "source": [
    "# i = np.array(z.fr)"
   ]
  },
  {
   "cell_type": "code",
   "execution_count": 14,
   "metadata": {},
   "outputs": [
    {
     "data": {
      "text/plain": [
       "384928.4151087205"
      ]
     },
     "execution_count": 14,
     "metadata": {},
     "output_type": "execute_result"
    }
   ],
   "source": [
    "z.C35*1.025*9.81\n"
   ]
  },
  {
   "cell_type": "code",
   "execution_count": 15,
   "metadata": {},
   "outputs": [
    {
     "data": {
      "text/plain": [
       "503881540.4994036"
      ]
     },
     "execution_count": 15,
     "metadata": {},
     "output_type": "execute_result"
    }
   ],
   "source": [
    "z.C55*9.81*1.025"
   ]
  },
  {
   "cell_type": "code",
   "execution_count": 13,
   "metadata": {},
   "outputs": [
    {
     "data": {
      "text/plain": [
       "array([[-130.15 ,    0.   ,    0.   ],\n",
       "       [-127.547,    5.544,    0.   ],\n",
       "       [-124.944,    8.458,    0.   ],\n",
       "       [-122.341,   10.51 ,    0.   ],\n",
       "       [-119.738,   12.603,    0.   ],\n",
       "       [-117.135,   14.582,    0.   ],\n",
       "       [-114.532,   16.332,    0.   ],\n",
       "       [-111.929,   17.878,    0.   ],\n",
       "       [-109.326,   19.341,    0.   ],\n",
       "       [-106.723,   20.631,    0.   ],\n",
       "       [-104.12 ,   21.535,    0.   ],\n",
       "       [-101.517,   22.199,    0.   ],\n",
       "       [ -98.914,   22.734,    0.   ],\n",
       "       [ -96.311,   23.18 ,    0.   ],\n",
       "       [ -93.708,   23.548,    0.   ],\n",
       "       [ -91.105,   23.838,    0.   ],\n",
       "       [ -88.502,   24.043,    0.   ],\n",
       "       [ -85.899,   24.162,    0.   ],\n",
       "       [ -83.296,   24.211,    0.   ],\n",
       "       [ -80.693,   24.21 ,    0.   ],\n",
       "       [ -78.09 ,   24.184,    0.   ],\n",
       "       [ -75.487,   24.158,    0.   ],\n",
       "       [ -72.884,   24.145,    0.   ],\n",
       "       [ -70.281,   24.142,    0.   ],\n",
       "       [ -67.678,   24.145,    0.   ],\n",
       "       [ -65.075,   24.152,    0.   ],\n",
       "       [ -62.472,   24.159,    0.   ],\n",
       "       [ -59.869,   24.163,    0.   ],\n",
       "       [ -57.266,   24.166,    0.   ],\n",
       "       [ -54.663,   24.167,    0.   ],\n",
       "       [ -52.06 ,   24.167,    0.   ],\n",
       "       [ -49.457,   24.167,    0.   ],\n",
       "       [ -46.854,   24.167,    0.   ],\n",
       "       [ -44.251,   24.167,    0.   ],\n",
       "       [ -41.648,   24.167,    0.   ],\n",
       "       [ -39.045,   24.167,    0.   ],\n",
       "       [ -36.442,   24.167,    0.   ],\n",
       "       [ -33.839,   24.167,    0.   ],\n",
       "       [ -31.236,   24.167,    0.   ],\n",
       "       [ -28.633,   24.167,    0.   ],\n",
       "       [ -26.03 ,   24.167,    0.   ],\n",
       "       [ -23.427,   24.167,    0.   ],\n",
       "       [ -20.824,   24.167,    0.   ],\n",
       "       [ -18.221,   24.167,    0.   ],\n",
       "       [ -15.618,   24.167,    0.   ],\n",
       "       [ -13.015,   24.167,    0.   ],\n",
       "       [ -10.412,   24.167,    0.   ],\n",
       "       [  -7.809,   24.167,    0.   ],\n",
       "       [  -5.206,   24.167,    0.   ],\n",
       "       [  -2.603,   24.167,    0.   ],\n",
       "       [   0.   ,   24.167,    0.   ],\n",
       "       [   2.603,   24.167,    0.   ],\n",
       "       [   5.206,   24.167,    0.   ],\n",
       "       [   7.809,   24.167,    0.   ],\n",
       "       [  10.412,   24.167,    0.   ],\n",
       "       [  13.015,   24.167,    0.   ],\n",
       "       [  15.618,   24.167,    0.   ],\n",
       "       [  18.221,   24.167,    0.   ],\n",
       "       [  20.824,   24.167,    0.   ],\n",
       "       [  23.427,   24.167,    0.   ],\n",
       "       [  26.03 ,   24.167,    0.   ],\n",
       "       [  28.633,   24.167,    0.   ],\n",
       "       [  31.236,   24.167,    0.   ],\n",
       "       [  33.839,   24.167,    0.   ],\n",
       "       [  36.442,   24.167,    0.   ],\n",
       "       [  39.045,   24.167,    0.   ],\n",
       "       [  41.648,   24.167,    0.   ],\n",
       "       [  44.251,   24.153,    0.   ],\n",
       "       [  46.854,   24.111,    0.   ],\n",
       "       [  49.457,   24.074,    0.   ],\n",
       "       [  52.06 ,   24.042,    0.   ],\n",
       "       [  54.663,   24.019,    0.   ],\n",
       "       [  57.266,   24.008,    0.   ],\n",
       "       [  59.869,   24.007,    0.   ],\n",
       "       [  62.472,   24.007,    0.   ],\n",
       "       [  65.075,   23.996,    0.   ],\n",
       "       [  67.678,   23.964,    0.   ],\n",
       "       [  70.281,   23.899,    0.   ],\n",
       "       [  72.884,   23.791,    0.   ],\n",
       "       [  75.487,   23.636,    0.   ],\n",
       "       [  78.09 ,   23.433,    0.   ],\n",
       "       [  80.693,   23.176,    0.   ],\n",
       "       [  83.296,   22.859,    0.   ],\n",
       "       [  85.899,   22.47 ,    0.   ],\n",
       "       [  88.502,   21.99 ,    0.   ],\n",
       "       [  91.105,   21.401,    0.   ],\n",
       "       [  93.708,   20.695,    0.   ],\n",
       "       [  96.311,   19.875,    0.   ],\n",
       "       [  98.914,   18.952,    0.   ],\n",
       "       [ 101.517,   17.939,    0.   ],\n",
       "       [ 104.12 ,   16.838,    0.   ],\n",
       "       [ 106.723,   15.647,    0.   ],\n",
       "       [ 109.326,   14.362,    0.   ],\n",
       "       [ 111.929,   12.96 ,    0.   ],\n",
       "       [ 114.532,   11.469,    0.   ],\n",
       "       [ 117.135,    9.884,    0.   ],\n",
       "       [ 119.738,    8.2  ,    0.   ],\n",
       "       [ 122.341,    6.446,    0.   ],\n",
       "       [ 124.944,    4.654,    0.   ],\n",
       "       [ 127.547,    2.84 ,    0.   ],\n",
       "       [ 130.15 ,    1.003,    0.   ]])"
      ]
     },
     "execution_count": 13,
     "metadata": {},
     "output_type": "execute_result"
    }
   ],
   "source": [
    "\n",
    "z.fr"
   ]
  },
  {
   "cell_type": "code",
   "execution_count": null,
   "metadata": {},
   "outputs": [],
   "source": []
  }
 ],
 "metadata": {
  "kernelspec": {
   "display_name": "Python 3",
   "language": "python",
   "name": "python3"
  },
  "language_info": {
   "codemirror_mode": {
    "name": "ipython",
    "version": 3
   },
   "file_extension": ".py",
   "mimetype": "text/x-python",
   "name": "python",
   "nbconvert_exporter": "python",
   "pygments_lexer": "ipython3",
   "version": "3.7.3"
  }
 },
 "nbformat": 4,
 "nbformat_minor": 2
}
