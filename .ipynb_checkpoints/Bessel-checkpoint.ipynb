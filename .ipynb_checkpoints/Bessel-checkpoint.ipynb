{
 "cells": [
  {
   "cell_type": "code",
   "execution_count": 41,
   "metadata": {},
   "outputs": [],
   "source": [
    "import numpy as np\n",
    "import keras as k\n",
    "from sklearn.model_selection import train_test_split\n",
    "from sklearn import preprocessing\n",
    "from keras.models import Sequential\n",
    "from keras.layers import Dropout,Input, Dense,merge, Add\n",
    "from keras import optimizers\n",
    "from keras.models import Model\n",
    "import pandas as pd"
   ]
  },
  {
   "cell_type": "code",
   "execution_count": 2,
   "metadata": {},
   "outputs": [],
   "source": [
    "random_ = np.loadtxt(\"./Filon/random.txt\")\n",
    "green_ = np.loadtxt(\"./Filon/green.txt\")"
   ]
  },
  {
   "cell_type": "code",
   "execution_count": 43,
   "metadata": {},
   "outputs": [],
   "source": [
    "X = pd.DataFrame(columns=[\"amu\",\"beta\"])\n",
    "X[\"amu\"] = random_[:,0]\n",
    "X[\"beta\"] = random_[:,1]\n",
    "Y = pd.DataFrame(columns=[\"G\",\"damu\",\"dbeta\"])\n",
    "Y[\"G\"] = green_[:,0]\n",
    "Y[\"damu\"] = green_[:,1]\n",
    "Y[\"dbeta\"] = green_[:,2]"
   ]
  },
  {
   "cell_type": "code",
   "execution_count": 51,
   "metadata": {},
   "outputs": [
    {
     "data": {
      "text/plain": [
       "G        0.144249\n",
       "damu     0.000380\n",
       "dbeta    0.000057\n",
       "dtype: float64"
      ]
     },
     "execution_count": 51,
     "metadata": {},
     "output_type": "execute_result"
    }
   ],
   "source": [
    "Y.mean(axis = 0)"
   ]
  },
  {
   "cell_type": "code",
   "execution_count": 52,
   "metadata": {},
   "outputs": [],
   "source": [
    "X_train, X_test, y_train, y_test = train_test_split(X, Y, test_size=0.30, random_state=42)"
   ]
  },
  {
   "cell_type": "code",
   "execution_count": 53,
   "metadata": {},
   "outputs": [],
   "source": [
    "# scaler = Pre()\n",
    "random_scale = preprocessing.MinMaxScaler([0,5])\n",
    "green_scale = preprocessing.MinMaxScaler([0,5])\n",
    "\n",
    "random_scale.fit(X_train)\n",
    "green_scale.fit(y_train)\n",
    "X_train = random_scale.transform(X_train)\n",
    "X_test = random_scale.transform(X_test)\n",
    "\n",
    "y_train = green_scale.transform(y_train)\n",
    "y_test = green_scale.transform(y_test)"
   ]
  },
  {
   "cell_type": "code",
   "execution_count": 54,
   "metadata": {},
   "outputs": [],
   "source": [
    "Y1,Y2,Y3 =y_train[:,0],y_train[:,1],y_train[:,2]\n",
    "Y1_,Y2_,Y3_ =y_test[:,0],y_test[:,1],y_test[:,2]"
   ]
  },
  {
   "cell_type": "code",
   "execution_count": 55,
   "metadata": {},
   "outputs": [],
   "source": [
    "Y1,Y2,Y3 = Y1.reshape(Y1.size,1),Y2.reshape(Y2.size,1),Y3.reshape(Y3.size,1)\n",
    "Y1_,Y2_,Y3_ = Y1_.reshape(Y1_.size,1),Y2_.reshape(Y2_.size,1),Y3_.reshape(Y3_.size,1)"
   ]
  },
  {
   "cell_type": "code",
   "execution_count": 7,
   "metadata": {},
   "outputs": [],
   "source": [
    "# model = Sequential()\n",
    "# model.add(Dense(100, input_dim=2, activation='relu'))\n",
    "# model.add(Dense(100, activation='relu'))\n",
    "# model.add(Dense(1000, activation='relu'))\n",
    "# model.add(Dense(1000, activation='relu'))\n",
    "# model.add(Dense(1000, activation='relu'))\n",
    "# model.add(Dense(500, activation='relu'))\n",
    "# model.add(Dense(50, activation='relu'))\n",
    "# model.add(Dense(10, activation='relu'))\n",
    "# model.add(Dropout(0.5))\n",
    "# model.add(Dense(3, activation=None))"
   ]
  },
  {
   "cell_type": "code",
   "execution_count": 56,
   "metadata": {},
   "outputs": [],
   "source": [
    "inputs = Input(shape=(2,))\n",
    "x = Dense(8, activation='tanh')(inputs)\n",
    "x = Dense(64, activation='tanh')(x)\n",
    "x = Dense(64, activation='tanh')(x)\n",
    "x = Dense(64, activation='tanh')(x)\n",
    "x_1 = Dense(64, activation='tanh')(x)\n",
    "x = Dense(64, activation='tanh')(x_1)\n",
    "# x = Dense(64, activation='relu')(x)\n",
    "\n",
    "\n",
    "\n",
    "\n",
    "x1_ = Dense(64, activation='tanh')(x)\n",
    "x1 = Dense(64, activation='tanh')(x1_)\n",
    "x1 = Dense(64, activation='tanh')(x1)\n",
    "x1 = Dense(64, activation='tanh')(x1)\n",
    "x1 = Dense(64, activation='tanh')(x1)\n",
    "# x = Dense(64, activation='relu')(x)\n",
    "x1 = Add()([x1, x1_])\n",
    "x1 = Dense(64, activation='tanh')(x)\n",
    "y1 = Dense(1, activation=None)(x1)\n",
    "\n",
    "x2_ = Dense(64, activation='tanh')(x)\n",
    "x2 = Dense(64, activation='tanh')(x2_)\n",
    "x2 = Dense(64, activation='tanh')(x2)\n",
    "x2 = Dense(64, activation='tanh')(x2)\n",
    "x2 = Dense(64, activation='tanh')(x2)\n",
    "x2 = Dense(64, activation='tanh')(x2)\n",
    "# x = Dense(64, activation='relu')(x)\n",
    "x2 = Add()([x2, x2_])\n",
    "y2 = Dense(1, activation=None)(x2)\n",
    "\n",
    "x3 = Dense(32, activation='tanh')(x)\n",
    "x3 = Dense(10, activation='tanh')(x3)\n",
    "y3 = Dense(1, activation=None)(x3)\n",
    "\n",
    "model = Model(inputs=inputs, outputs=[y1,y2,y3])\n"
   ]
  },
  {
   "cell_type": "code",
   "execution_count": 57,
   "metadata": {},
   "outputs": [],
   "source": [
    "sgd = optimizers.adam(lr=0.0001)\n"
   ]
  },
  {
   "cell_type": "code",
   "execution_count": 58,
   "metadata": {},
   "outputs": [],
   "source": [
    "model.compile(loss=['mean_squared_error','mean_squared_error','mean_squared_error'], optimizer=sgd, metrics=['mae'])\n"
   ]
  },
  {
   "cell_type": "code",
   "execution_count": 59,
   "metadata": {},
   "outputs": [
    {
     "name": "stdout",
     "output_type": "stream",
     "text": [
      "Train on 28440 samples, validate on 12189 samples\n",
      "Epoch 1/20\n",
      "28440/28440 [==============================] - 6s 220us/step - loss: 2.5548 - dense_36_loss: 1.0387 - dense_43_loss: 0.5767 - dense_46_loss: 0.9394 - dense_36_mean_absolute_error: 0.6415 - dense_43_mean_absolute_error: 0.4536 - dense_46_mean_absolute_error: 0.5845 - val_loss: 1.4406 - val_dense_36_loss: 0.5951 - val_dense_43_loss: 0.2622 - val_dense_46_loss: 0.5832 - val_dense_36_mean_absolute_error: 0.4911 - val_dense_43_mean_absolute_error: 0.3369 - val_dense_46_mean_absolute_error: 0.4208\n",
      "Epoch 2/20\n",
      "28440/28440 [==============================] - 5s 191us/step - loss: 1.2019 - dense_36_loss: 0.5220 - dense_43_loss: 0.1107 - dense_46_loss: 0.5692 - dense_36_mean_absolute_error: 0.4632 - dense_43_mean_absolute_error: 0.2223 - dense_46_mean_absolute_error: 0.4157 - val_loss: 1.0362 - val_dense_36_loss: 0.4250 - val_dense_43_loss: 0.0559 - val_dense_46_loss: 0.5553 - val_dense_36_mean_absolute_error: 0.4125 - val_dense_43_mean_absolute_error: 0.1467 - val_dense_46_mean_absolute_error: 0.4115\n",
      "Epoch 3/20\n",
      "28440/28440 [==============================] - 5s 191us/step - loss: 0.6663 - dense_36_loss: 0.2086 - dense_43_loss: 0.0383 - dense_46_loss: 0.4194 - dense_36_mean_absolute_error: 0.2994 - dense_43_mean_absolute_error: 0.1270 - dense_46_mean_absolute_error: 0.3729 - val_loss: 0.3295 - val_dense_36_loss: 0.0817 - val_dense_43_loss: 0.0247 - val_dense_46_loss: 0.2231 - val_dense_36_mean_absolute_error: 0.1877 - val_dense_43_mean_absolute_error: 0.1074 - val_dense_46_mean_absolute_error: 0.2907\n",
      "Epoch 4/20\n",
      "28440/28440 [==============================] - 5s 193us/step - loss: 0.1857 - dense_36_loss: 0.0496 - dense_43_loss: 0.0172 - dense_46_loss: 0.1189 - dense_36_mean_absolute_error: 0.1382 - dense_43_mean_absolute_error: 0.0810 - dense_46_mean_absolute_error: 0.2169 - val_loss: 0.1102 - val_dense_36_loss: 0.0267 - val_dense_43_loss: 0.0170 - val_dense_46_loss: 0.0665 - val_dense_36_mean_absolute_error: 0.0922 - val_dense_43_mean_absolute_error: 0.0757 - val_dense_46_mean_absolute_error: 0.1726\n",
      "Epoch 5/20\n",
      "28440/28440 [==============================] - 5s 193us/step - loss: 0.0799 - dense_36_loss: 0.0172 - dense_43_loss: 0.0080 - dense_46_loss: 0.0547 - dense_36_mean_absolute_error: 0.0797 - dense_43_mean_absolute_error: 0.0535 - dense_46_mean_absolute_error: 0.1546 - val_loss: 0.0580 - val_dense_36_loss: 0.0137 - val_dense_43_loss: 0.0047 - val_dense_46_loss: 0.0395 - val_dense_36_mean_absolute_error: 0.0760 - val_dense_43_mean_absolute_error: 0.0401 - val_dense_46_mean_absolute_error: 0.1334\n",
      "Epoch 6/20\n",
      "28440/28440 [==============================] - 6s 194us/step - loss: 0.0450 - dense_36_loss: 0.0094 - dense_43_loss: 0.0035 - dense_46_loss: 0.0321 - dense_36_mean_absolute_error: 0.0617 - dense_43_mean_absolute_error: 0.0360 - dense_46_mean_absolute_error: 0.1176 - val_loss: 0.0325 - val_dense_36_loss: 0.0076 - val_dense_43_loss: 0.0028 - val_dense_46_loss: 0.0222 - val_dense_36_mean_absolute_error: 0.0580 - val_dense_43_mean_absolute_error: 0.0346 - val_dense_46_mean_absolute_error: 0.0935\n",
      "Epoch 7/20\n",
      "28440/28440 [==============================] - 6s 196us/step - loss: 0.0248 - dense_36_loss: 0.0059 - dense_43_loss: 0.0020 - dense_46_loss: 0.0170 - dense_36_mean_absolute_error: 0.0485 - dense_43_mean_absolute_error: 0.0268 - dense_46_mean_absolute_error: 0.0810 - val_loss: 0.0191 - val_dense_36_loss: 0.0055 - val_dense_43_loss: 0.0017 - val_dense_46_loss: 0.0119 - val_dense_36_mean_absolute_error: 0.0443 - val_dense_43_mean_absolute_error: 0.0240 - val_dense_46_mean_absolute_error: 0.0641\n",
      "Epoch 8/20\n",
      "28440/28440 [==============================] - 6s 201us/step - loss: 0.0130 - dense_36_loss: 0.0035 - dense_43_loss: 0.0012 - dense_46_loss: 0.0082 - dense_36_mean_absolute_error: 0.0350 - dense_43_mean_absolute_error: 0.0222 - dense_46_mean_absolute_error: 0.0523 - val_loss: 0.0085 - val_dense_36_loss: 0.0025 - val_dense_43_loss: 7.4510e-04 - val_dense_46_loss: 0.0052 - val_dense_36_mean_absolute_error: 0.0289 - val_dense_43_mean_absolute_error: 0.0205 - val_dense_46_mean_absolute_error: 0.0416\n",
      "Epoch 9/20\n",
      "28440/28440 [==============================] - 6s 202us/step - loss: 0.0076 - dense_36_loss: 0.0022 - dense_43_loss: 7.9534e-04 - dense_46_loss: 0.0046 - dense_36_mean_absolute_error: 0.0270 - dense_43_mean_absolute_error: 0.0185 - dense_46_mean_absolute_error: 0.0408 - val_loss: 0.0056 - val_dense_36_loss: 0.0017 - val_dense_43_loss: 6.7552e-04 - val_dense_46_loss: 0.0033 - val_dense_36_mean_absolute_error: 0.0223 - val_dense_43_mean_absolute_error: 0.0159 - val_dense_46_mean_absolute_error: 0.0361\n",
      "Epoch 10/20\n",
      "28440/28440 [==============================] - 6s 205us/step - loss: 0.0051 - dense_36_loss: 0.0014 - dense_43_loss: 6.5121e-04 - dense_46_loss: 0.0030 - dense_36_mean_absolute_error: 0.0224 - dense_43_mean_absolute_error: 0.0173 - dense_46_mean_absolute_error: 0.0345 - val_loss: 0.0041 - val_dense_36_loss: 0.0012 - val_dense_43_loss: 5.6168e-04 - val_dense_46_loss: 0.0023 - val_dense_36_mean_absolute_error: 0.0224 - val_dense_43_mean_absolute_error: 0.0202 - val_dense_46_mean_absolute_error: 0.0307\n",
      "Epoch 11/20\n",
      "28440/28440 [==============================] - 6s 209us/step - loss: 0.0037 - dense_36_loss: 0.0010 - dense_43_loss: 4.6066e-04 - dense_46_loss: 0.0022 - dense_36_mean_absolute_error: 0.0195 - dense_43_mean_absolute_error: 0.0151 - dense_46_mean_absolute_error: 0.0294 - val_loss: 0.0026 - val_dense_36_loss: 8.7928e-04 - val_dense_43_loss: 1.8606e-04 - val_dense_46_loss: 0.0015 - val_dense_36_mean_absolute_error: 0.0195 - val_dense_43_mean_absolute_error: 0.0086 - val_dense_46_mean_absolute_error: 0.0239\n",
      "Epoch 12/20\n",
      "28440/28440 [==============================] - 6s 210us/step - loss: 0.0029 - dense_36_loss: 7.8837e-04 - dense_43_loss: 5.1523e-04 - dense_46_loss: 0.0015 - dense_36_mean_absolute_error: 0.0175 - dense_43_mean_absolute_error: 0.0154 - dense_46_mean_absolute_error: 0.0238 - val_loss: 0.0021 - val_dense_36_loss: 7.6639e-04 - val_dense_43_loss: 3.0691e-04 - val_dense_46_loss: 9.7837e-04 - val_dense_36_mean_absolute_error: 0.0214 - val_dense_43_mean_absolute_error: 0.0152 - val_dense_46_mean_absolute_error: 0.0177\n",
      "Epoch 13/20\n",
      "28440/28440 [==============================] - 6s 215us/step - loss: 0.0020 - dense_36_loss: 6.1039e-04 - dense_43_loss: 3.3456e-04 - dense_46_loss: 0.0011 - dense_36_mean_absolute_error: 0.0160 - dense_43_mean_absolute_error: 0.0123 - dense_46_mean_absolute_error: 0.0196 - val_loss: 0.0019 - val_dense_36_loss: 5.8054e-04 - val_dense_43_loss: 3.8374e-04 - val_dense_46_loss: 9.0415e-04 - val_dense_36_mean_absolute_error: 0.0150 - val_dense_43_mean_absolute_error: 0.0137 - val_dense_46_mean_absolute_error: 0.0188\n",
      "Epoch 14/20\n",
      "28440/28440 [==============================] - 6s 215us/step - loss: 0.0017 - dense_36_loss: 5.0381e-04 - dense_43_loss: 3.5132e-04 - dense_46_loss: 8.1828e-04 - dense_36_mean_absolute_error: 0.0144 - dense_43_mean_absolute_error: 0.0128 - dense_46_mean_absolute_error: 0.0180 - val_loss: 0.0017 - val_dense_36_loss: 4.7145e-04 - val_dense_43_loss: 4.4575e-04 - val_dense_46_loss: 8.2362e-04 - val_dense_36_mean_absolute_error: 0.0142 - val_dense_43_mean_absolute_error: 0.0145 - val_dense_46_mean_absolute_error: 0.0203\n",
      "Epoch 15/20\n",
      "28440/28440 [==============================] - 7s 232us/step - loss: 0.0014 - dense_36_loss: 4.0685e-04 - dense_43_loss: 2.8815e-04 - dense_46_loss: 6.5661e-04 - dense_36_mean_absolute_error: 0.0129 - dense_43_mean_absolute_error: 0.0116 - dense_46_mean_absolute_error: 0.0165 - val_loss: 8.6780e-04 - val_dense_36_loss: 3.0290e-04 - val_dense_43_loss: 1.2573e-04 - val_dense_46_loss: 4.3917e-04 - val_dense_36_mean_absolute_error: 0.0110 - val_dense_43_mean_absolute_error: 0.0087 - val_dense_46_mean_absolute_error: 0.0137\n",
      "Epoch 16/20\n",
      "28440/28440 [==============================] - 6s 226us/step - loss: 0.0011 - dense_36_loss: 3.4110e-04 - dense_43_loss: 2.7245e-04 - dense_46_loss: 5.2783e-04 - dense_36_mean_absolute_error: 0.0117 - dense_43_mean_absolute_error: 0.0110 - dense_46_mean_absolute_error: 0.0150 - val_loss: 7.0100e-04 - val_dense_36_loss: 2.1904e-04 - val_dense_43_loss: 1.2815e-04 - val_dense_46_loss: 3.5381e-04 - val_dense_36_mean_absolute_error: 0.0093 - val_dense_43_mean_absolute_error: 0.0094 - val_dense_46_mean_absolute_error: 0.0126\n"
     ]
    },
    {
     "name": "stdout",
     "output_type": "stream",
     "text": [
      "Epoch 17/20\n",
      "28440/28440 [==============================] - 6s 217us/step - loss: 0.0010 - dense_36_loss: 3.0698e-04 - dense_43_loss: 2.5280e-04 - dense_46_loss: 4.6222e-04 - dense_36_mean_absolute_error: 0.0111 - dense_43_mean_absolute_error: 0.0108 - dense_46_mean_absolute_error: 0.0141 - val_loss: 6.6725e-04 - val_dense_36_loss: 1.6881e-04 - val_dense_43_loss: 2.1043e-04 - val_dense_46_loss: 2.8801e-04 - val_dense_36_mean_absolute_error: 0.0083 - val_dense_43_mean_absolute_error: 0.0114 - val_dense_46_mean_absolute_error: 0.0111\n",
      "Epoch 18/20\n",
      "28440/28440 [==============================] - 6s 225us/step - loss: 8.4412e-04 - dense_36_loss: 2.6269e-04 - dense_43_loss: 2.0327e-04 - dense_46_loss: 3.7816e-04 - dense_36_mean_absolute_error: 0.0103 - dense_43_mean_absolute_error: 0.0097 - dense_46_mean_absolute_error: 0.0128 - val_loss: 7.9970e-04 - val_dense_36_loss: 2.9333e-04 - val_dense_43_loss: 1.2264e-04 - val_dense_46_loss: 3.8373e-04 - val_dense_36_mean_absolute_error: 0.0099 - val_dense_43_mean_absolute_error: 0.0073 - val_dense_46_mean_absolute_error: 0.0141\n",
      "Epoch 19/20\n",
      "28440/28440 [==============================] - 6s 220us/step - loss: 8.0599e-04 - dense_36_loss: 2.4247e-04 - dense_43_loss: 2.1619e-04 - dense_46_loss: 3.4732e-04 - dense_36_mean_absolute_error: 0.0098 - dense_43_mean_absolute_error: 0.0101 - dense_46_mean_absolute_error: 0.0122 - val_loss: 3.8449e-04 - val_dense_36_loss: 1.2902e-04 - val_dense_43_loss: 5.7433e-05 - val_dense_46_loss: 1.9804e-04 - val_dense_36_mean_absolute_error: 0.0072 - val_dense_43_mean_absolute_error: 0.0049 - val_dense_46_mean_absolute_error: 0.0096\n",
      "Epoch 20/20\n",
      "28440/28440 [==============================] - 6s 221us/step - loss: 6.7030e-04 - dense_36_loss: 2.0543e-04 - dense_43_loss: 1.7737e-04 - dense_46_loss: 2.8751e-04 - dense_36_mean_absolute_error: 0.0089 - dense_43_mean_absolute_error: 0.0089 - dense_46_mean_absolute_error: 0.0112 - val_loss: 7.1784e-04 - val_dense_36_loss: 2.4537e-04 - val_dense_43_loss: 1.5605e-04 - val_dense_46_loss: 3.1642e-04 - val_dense_36_mean_absolute_error: 0.0128 - val_dense_43_mean_absolute_error: 0.0097 - val_dense_46_mean_absolute_error: 0.0114\n"
     ]
    }
   ],
   "source": [
    "history = model.fit([X_train], [Y1,Y2,Y3], epochs=20, batch_size=32,validation_data=([X_test],[Y1_,Y2_,Y3_]))"
   ]
  },
  {
   "cell_type": "code",
   "execution_count": 64,
   "metadata": {},
   "outputs": [
    {
     "data": {
      "image/png": "[encoded data removed]",
      "text/plain": [
       "<Figure size 432x288 with 1 Axes>"
      ]
     },
     "metadata": {
      "needs_background": "light"
     },
     "output_type": "display_data"
    }
   ],
   "source": [
    "import matplotlib.pyplot as plt\n",
    "\n",
    "plt.plot(history.history['loss'])\n",
    "plt.plot(history.history['val_loss'])\n",
    "plt.title('Model loss')\n",
    "plt.ylabel('Loss')\n",
    "plt.xlabel('Epoch')\n",
    "plt.legend(['Train', 'Test'], loc='upper left')\n",
    "plt.show()\n"
   ]
  },
  {
   "cell_type": "code",
   "execution_count": 61,
   "metadata": {},
   "outputs": [],
   "source": [
    "input_ = random_scale.transform(X)\n",
    "output_ = model.predict(input_)"
   ]
  },
  {
   "cell_type": "code",
   "execution_count": 62,
   "metadata": {},
   "outputs": [],
   "source": [
    "output_ = np.transpose(np.array(output_))\n",
    "output_ = green_scale.inverse_transform(output_.reshape(output_.shape[1],3))\n"
   ]
  },
  {
   "cell_type": "code",
   "execution_count": 63,
   "metadata": {},
   "outputs": [
    {
     "data": {
      "text/plain": [
       "[<matplotlib.lines.Line2D at 0x7f1c75b8e6a0>]"
      ]
     },
     "execution_count": 63,
     "metadata": {},
     "output_type": "execute_result"
    },
    {
     "data": {
      "image/png": "[encoded data removed]",
      "text/plain": [
       "<Figure size 432x288 with 1 Axes>"
      ]
     },
     "metadata": {
      "needs_background": "light"
     },
     "output_type": "display_data"
    }
   ],
   "source": [
    "plt.plot(output_[:,2],green_[:,2])"
   ]
  },
  {
   "cell_type": "code",
   "execution_count": 107,
   "metadata": {},
   "outputs": [
    {
     "data": {
      "text/plain": [
       "(array([ 0.73858659,  1.22535408, -0.05017406, -1.41472655,  0.62262036,\n",
       "        -0.06437519,  1.15882813,  0.66475439,  0.12023962,  0.07953295,\n",
       "        -0.21678753, -0.12638701,  1.31695362, -1.20686567,  2.40292173,\n",
       "        -0.15962294,  0.09822081,  1.35558165,  0.64301212, -0.82405035,\n",
       "         0.77039545, -0.80117497, -0.04461308,  0.42448938,  0.62604265,\n",
       "         3.18057615, -0.12411486,  0.05202731, -0.13694755, -0.24909135,\n",
       "        -0.13381194,  1.3795683 , -0.1453571 ,  0.88627781,  0.1318229 ,\n",
       "         0.5482481 , -0.09315364, -0.1229137 , -0.04901214,  1.62643839,\n",
       "        -0.12085034,  0.25383451,  0.75843972, -0.44251005, -0.95914424,\n",
       "        -0.11381064, -0.12356006, -0.14049862,  0.09470645, -0.12188069,\n",
       "         0.84583678, -1.93443301, -1.04123244, -0.29275777, -0.12546897,\n",
       "        -0.12067602,  1.45017521, -0.02533551,  0.59413131, -0.19100042,\n",
       "         1.36722707,  0.13436429,  0.03579538,  0.74128827,  0.71569126,\n",
       "        -0.86764097, -0.04956603, -0.29518512, -0.98094289, -0.17242435,\n",
       "         0.80767599,  0.54975134, -0.11344711, -0.15490938, -0.1249108 ,\n",
       "         0.09010343,  0.11964696,  0.53135395, -0.12090181,  0.0935412 ,\n",
       "         0.7869099 ,  0.26320131, -5.29739417,  1.01083324,  0.82220462,\n",
       "         0.04823696,  1.02106107,  0.54602593, -1.90678519, -0.28953098,\n",
       "         0.26727488, -0.01070323, -0.05195449, -0.55813643, -0.04508027,\n",
       "        -2.24046179, -0.1161614 , -0.20399529,  3.10054126, -0.43671782]),\n",
       " array([[ 0.72912866],\n",
       "        [ 1.2192745 ],\n",
       "        [-0.05002248],\n",
       "        ...,\n",
       "        [-0.10680192],\n",
       "        [ 0.3446595 ],\n",
       "        [-0.12374304]], dtype=float32))"
      ]
     },
     "execution_count": 107,
     "metadata": {},
     "output_type": "execute_result"
    }
   ],
   "source": [
    "green"
   ]
  },
  {
   "cell_type": "code",
   "execution_count": 113,
   "metadata": {},
   "outputs": [
    {
     "data": {
      "image/png": "[encoded data removed]",
      "text/plain": [
       "<Figure size 432x288 with 1 Axes>"
      ]
     },
     "metadata": {
      "needs_background": "light"
     },
     "output_type": "display_data"
    }
   ],
   "source": [
    "# plt.plot(y_test[:,0][200:1000],predict[0][200:1000])\n",
    "plt.scatter(y_test[:,0][0:10],predict[:][0][0:10],alpha=0.5)\n",
    "plt.show()"
   ]
  },
  {
   "cell_type": "code",
   "execution_count": 92,
   "metadata": {},
   "outputs": [
    {
     "data": {
      "text/plain": [
       "array([ 0.73858659,  1.22535408, -0.05017406, ..., -0.10227372,\n",
       "        0.3537558 , -0.12147191])"
      ]
     },
     "execution_count": 92,
     "metadata": {},
     "output_type": "execute_result"
    }
   ],
   "source": [
    "y_test[:,0]"
   ]
  },
  {
   "cell_type": "code",
   "execution_count": 49,
   "metadata": {},
   "outputs": [
    {
     "data": {
      "text/plain": [
       "array([[0.09      , 9.90999985]])"
      ]
     },
     "execution_count": 49,
     "metadata": {},
     "output_type": "execute_result"
    }
   ],
   "source": [
    "random_scale.transform([[0.09  , 9.90999985]])"
   ]
  },
  {
   "cell_type": "code",
   "execution_count": 53,
   "metadata": {},
   "outputs": [
    {
     "data": {
      "text/plain": [
       "(12.7721387584226, 69.942667009624, 325.80967280782)"
      ]
     },
     "execution_count": 53,
     "metadata": {},
     "output_type": "execute_result"
    }
   ],
   "source": [
    "max(green_[:,0]),max(green_[:,1]),max(green_[:,2])"
   ]
  },
  {
   "cell_type": "code",
   "execution_count": 52,
   "metadata": {},
   "outputs": [],
   "source": [
    "ran = random_scale.transform([[1,2]])"
   ]
  },
  {
   "cell_type": "code",
   "execution_count": 53,
   "metadata": {},
   "outputs": [
    {
     "data": {
      "text/plain": [
       "array([[1.07142851, 0.14224446]])"
      ]
     },
     "execution_count": 53,
     "metadata": {},
     "output_type": "execute_result"
    }
   ],
   "source": [
    "ran"
   ]
  },
  {
   "cell_type": "code",
   "execution_count": 54,
   "metadata": {},
   "outputs": [
    {
     "data": {
      "text/plain": [
       "1.7068106354022103"
      ]
     },
     "execution_count": 54,
     "metadata": {},
     "output_type": "execute_result"
    }
   ],
   "source": [
    "X"
   ]
  },
  {
   "cell_type": "code",
   "execution_count": 89,
   "metadata": {},
   "outputs": [
    {
     "data": {
      "text/plain": [
       "0.03998879980190932"
      ]
     },
     "execution_count": 89,
     "metadata": {},
     "output_type": "execute_result"
    }
   ],
   "source": [
    "green_[1][2]"
   ]
  },
  {
   "cell_type": "code",
   "execution_count": null,
   "metadata": {},
   "outputs": [],
   "source": []
  }
 ],
 "metadata": {
  "kernelspec": {
   "display_name": "Python 3",
   "language": "python",
   "name": "python3"
  },
  "language_info": {
   "codemirror_mode": {
    "name": "ipython",
    "version": 3
   },
   "file_extension": ".py",
   "mimetype": "text/x-python",
   "name": "python",
   "nbconvert_exporter": "python",
   "pygments_lexer": "ipython3",
   "version": "3.7.3"
  }
 },
 "nbformat": 4,
 "nbformat_minor": 2
}
