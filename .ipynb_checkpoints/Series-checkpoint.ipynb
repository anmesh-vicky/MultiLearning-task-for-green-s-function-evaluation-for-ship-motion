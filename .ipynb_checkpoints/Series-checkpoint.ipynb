{
 "cells": [
  {
   "cell_type": "code",
   "execution_count": 1,
   "metadata": {},
   "outputs": [
    {
     "name": "stderr",
     "output_type": "stream",
     "text": [
      "Using TensorFlow backend.\n"
     ]
    }
   ],
   "source": [
    "import numpy as np\n",
    "import keras as k\n",
    "from sklearn.model_selection import train_test_split\n",
    "from sklearn import preprocessing\n",
    "from keras.models import Sequential\n",
    "from keras.layers import Dropout,Input, Dense,merge, Add\n",
    "from keras import optimizers\n",
    "from keras.models import Model\n",
    "import pandas as pd"
   ]
  },
  {
   "cell_type": "code",
   "execution_count": 2,
   "metadata": {},
   "outputs": [],
   "source": [
    "random_ = np.loadtxt(\"./Bessel/random.txt\")\n",
    "green_ = np.loadtxt(\"./Bessel/green.txt\")"
   ]
  },
  {
   "cell_type": "code",
   "execution_count": 3,
   "metadata": {},
   "outputs": [],
   "source": [
    "X = pd.DataFrame(columns=[\"amu\",\"beta\"])\n",
    "X[\"amu\"] = random_[:,0]\n",
    "X[\"beta\"] = random_[:,1]\n",
    "Y = pd.DataFrame(columns=[\"G\",\"damu\",\"dbeta\"])\n",
    "Y[\"G\"] = green_[:,0]\n",
    "Y[\"damu\"] = green_[:,1]\n",
    "Y[\"dbeta\"] = green_[:,2]"
   ]
  },
  {
   "cell_type": "code",
   "execution_count": 4,
   "metadata": {},
   "outputs": [
    {
     "data": {
      "text/plain": [
       "G        0.020002\n",
       "damu     0.000098\n",
       "dbeta   -0.013414\n",
       "dtype: float64"
      ]
     },
     "execution_count": 4,
     "metadata": {},
     "output_type": "execute_result"
    }
   ],
   "source": [
    "Y.mean(axis = 0)"
   ]
  },
  {
   "cell_type": "code",
   "execution_count": 5,
   "metadata": {},
   "outputs": [],
   "source": [
    "X_train, X_test, y_train, y_test = train_test_split(X, Y, test_size=0.30, random_state=42)"
   ]
  },
  {
   "cell_type": "code",
   "execution_count": 6,
   "metadata": {},
   "outputs": [],
   "source": [
    "# scaler = Pre()\n",
    "random_scale = preprocessing.MinMaxScaler([0,5])\n",
    "green_scale = preprocessing.MinMaxScaler([0,5])\n",
    "\n",
    "random_scale.fit(X_train)\n",
    "green_scale.fit(y_train)\n",
    "X_train = random_scale.transform(X_train)\n",
    "X_test = random_scale.transform(X_test)\n",
    "\n",
    "y_train = green_scale.transform(y_train)\n",
    "y_test = green_scale.transform(y_test)"
   ]
  },
  {
   "cell_type": "code",
   "execution_count": 7,
   "metadata": {},
   "outputs": [],
   "source": [
    "Y1,Y2,Y3 =y_train[:,0],y_train[:,1],y_train[:,2]\n",
    "Y1_,Y2_,Y3_ =y_test[:,0],y_test[:,1],y_test[:,2]"
   ]
  },
  {
   "cell_type": "code",
   "execution_count": 8,
   "metadata": {},
   "outputs": [],
   "source": [
    "Y1,Y2,Y3 = Y1.reshape(Y1.size,1),Y2.reshape(Y2.size,1),Y3.reshape(Y3.size,1)\n",
    "Y1_,Y2_,Y3_ = Y1_.reshape(Y1_.size,1),Y2_.reshape(Y2_.size,1),Y3_.reshape(Y3_.size,1)"
   ]
  },
  {
   "cell_type": "code",
   "execution_count": 9,
   "metadata": {},
   "outputs": [],
   "source": [
    "# model = Sequential()\n",
    "# model.add(Dense(100, input_dim=2, activation='relu'))\n",
    "# model.add(Dense(100, activation='relu'))\n",
    "# model.add(Dense(1000, activation='relu'))\n",
    "# model.add(Dense(1000, activation='relu'))\n",
    "# model.add(Dense(1000, activation='relu'))\n",
    "# model.add(Dense(500, activation='relu'))\n",
    "# model.add(Dense(50, activation='relu'))\n",
    "# model.add(Dense(10, activation='relu'))\n",
    "# model.add(Dropout(0.5))\n",
    "# model.add(Dense(3, activation=None))"
   ]
  },
  {
   "cell_type": "code",
   "execution_count": 10,
   "metadata": {},
   "outputs": [
    {
     "name": "stdout",
     "output_type": "stream",
     "text": [
      "WARNING:tensorflow:From /home/anmesh/.conda/envs/crystal/lib/python3.7/site-packages/tensorflow/python/framework/op_def_library.py:263: colocate_with (from tensorflow.python.framework.ops) is deprecated and will be removed in a future version.\n",
      "Instructions for updating:\n",
      "Colocations handled automatically by placer.\n"
     ]
    }
   ],
   "source": [
    "inputs = Input(shape=(2,))\n",
    "x = Dense(8, activation='tanh')(inputs)\n",
    "x = Dense(64, activation='tanh')(x)\n",
    "x = Dense(64, activation='tanh')(x)\n",
    "x = Dense(64, activation='tanh')(x)\n",
    "x_1 = Dense(64, activation='tanh')(x)\n",
    "x = Dense(64, activation='tanh')(x_1)\n",
    "# x = Dense(64, activation='relu')(x)\n",
    "\n",
    "\n",
    "\n",
    "\n",
    "x1_ = Dense(64, activation='tanh')(x)\n",
    "x1 = Dense(64, activation='tanh')(x1_)\n",
    "x1 = Dense(64, activation='tanh')(x1)\n",
    "x1 = Dense(64, activation='tanh')(x1)\n",
    "x1 = Dense(64, activation='tanh')(x1)\n",
    "# x = Dense(64, activation='relu')(x)\n",
    "x1 = Add()([x1, x1_])\n",
    "x1 = Dense(64, activation='tanh')(x)\n",
    "y1 = Dense(1, activation=None)(x1)\n",
    "\n",
    "x2_ = Dense(64, activation='tanh')(x)\n",
    "x2 = Dense(64, activation='tanh')(x2_)\n",
    "x2 = Dense(64, activation='tanh')(x2)\n",
    "x2 = Dense(64, activation='tanh')(x2)\n",
    "x2 = Dense(64, activation='tanh')(x2)\n",
    "x2 = Dense(64, activation='tanh')(x2)\n",
    "# x = Dense(64, activation='relu')(x)\n",
    "x2 = Add()([x2, x2_])\n",
    "y2 = Dense(1, activation=None)(x2)\n",
    "\n",
    "x3 = Dense(32, activation='tanh')(x)\n",
    "x3 = Dense(10, activation='tanh')(x3)\n",
    "y3 = Dense(1, activation=None)(x3)\n",
    "\n",
    "model = Model(inputs=inputs, outputs=[y1,y2,y3])\n"
   ]
  },
  {
   "cell_type": "code",
   "execution_count": 11,
   "metadata": {},
   "outputs": [],
   "source": [
    "sgd = optimizers.adam(lr=0.0001)\n"
   ]
  },
  {
   "cell_type": "code",
   "execution_count": 12,
   "metadata": {},
   "outputs": [],
   "source": [
    "model.compile(loss=['mean_squared_error','mean_squared_error','mean_squared_error'], optimizer=sgd, metrics=['mae'])\n"
   ]
  },
  {
   "cell_type": "code",
   "execution_count": 24,
   "metadata": {},
   "outputs": [
    {
     "name": "stdout",
     "output_type": "stream",
     "text": [
      "Train on 21002 samples, validate on 9001 samples\n",
      "Epoch 1/20\n",
      "21002/21002 [==============================] - 4s 188us/step - loss: 0.0081 - dense_13_loss: 0.0013 - dense_20_loss: 6.6149e-04 - dense_23_loss: 0.0062 - dense_13_mean_absolute_error: 0.0103 - dense_20_mean_absolute_error: 0.0095 - dense_23_mean_absolute_error: 0.0180 - val_loss: 0.0070 - val_dense_13_loss: 9.4629e-04 - val_dense_20_loss: 6.8303e-04 - val_dense_23_loss: 0.0053 - val_dense_13_mean_absolute_error: 0.0193 - val_dense_20_mean_absolute_error: 0.0072 - val_dense_23_mean_absolute_error: 0.0154\n",
      "Epoch 2/20\n",
      "21002/21002 [==============================] - 4s 192us/step - loss: 0.0073 - dense_13_loss: 0.0011 - dense_20_loss: 8.9258e-04 - dense_23_loss: 0.0054 - dense_13_mean_absolute_error: 0.0097 - dense_20_mean_absolute_error: 0.0096 - dense_23_mean_absolute_error: 0.0161 - val_loss: 0.0049 - val_dense_13_loss: 5.4587e-04 - val_dense_20_loss: 1.9312e-04 - val_dense_23_loss: 0.0041 - val_dense_13_mean_absolute_error: 0.0168 - val_dense_20_mean_absolute_error: 0.0086 - val_dense_23_mean_absolute_error: 0.0152\n",
      "Epoch 3/20\n",
      "21002/21002 [==============================] - 4s 193us/step - loss: 0.0102 - dense_13_loss: 0.0023 - dense_20_loss: 0.0022 - dense_23_loss: 0.0056 - dense_13_mean_absolute_error: 0.0114 - dense_20_mean_absolute_error: 0.0140 - dense_23_mean_absolute_error: 0.0167 - val_loss: 0.0040 - val_dense_13_loss: 2.8957e-04 - val_dense_20_loss: 2.0456e-04 - val_dense_23_loss: 0.0035 - val_dense_13_mean_absolute_error: 0.0062 - val_dense_20_mean_absolute_error: 0.0042 - val_dense_23_mean_absolute_error: 0.0128\n",
      "Epoch 4/20\n",
      "21002/21002 [==============================] - 4s 199us/step - loss: 0.0051 - dense_13_loss: 7.9498e-04 - dense_20_loss: 4.9079e-04 - dense_23_loss: 0.0038 - dense_13_mean_absolute_error: 0.0077 - dense_20_mean_absolute_error: 0.0073 - dense_23_mean_absolute_error: 0.0136 - val_loss: 0.0043 - val_dense_13_loss: 6.0487e-04 - val_dense_20_loss: 3.2249e-04 - val_dense_23_loss: 0.0034 - val_dense_13_mean_absolute_error: 0.0067 - val_dense_20_mean_absolute_error: 0.0044 - val_dense_23_mean_absolute_error: 0.0148\n",
      "Epoch 5/20\n",
      "21002/21002 [==============================] - 4s 205us/step - loss: 0.0056 - dense_13_loss: 0.0013 - dense_20_loss: 7.5260e-04 - dense_23_loss: 0.0036 - dense_13_mean_absolute_error: 0.0077 - dense_20_mean_absolute_error: 0.0076 - dense_23_mean_absolute_error: 0.0131 - val_loss: 0.0028 - val_dense_13_loss: 1.4968e-04 - val_dense_20_loss: 9.3044e-05 - val_dense_23_loss: 0.0026 - val_dense_13_mean_absolute_error: 0.0046 - val_dense_20_mean_absolute_error: 0.0068 - val_dense_23_mean_absolute_error: 0.0137\n",
      "Epoch 6/20\n",
      "21002/21002 [==============================] - 4s 205us/step - loss: 0.0061 - dense_13_loss: 0.0014 - dense_20_loss: 0.0014 - dense_23_loss: 0.0033 - dense_13_mean_absolute_error: 0.0087 - dense_20_mean_absolute_error: 0.0093 - dense_23_mean_absolute_error: 0.0129 - val_loss: 0.0023 - val_dense_13_loss: 1.7033e-04 - val_dense_20_loss: 5.7674e-05 - val_dense_23_loss: 0.0021 - val_dense_13_mean_absolute_error: 0.0044 - val_dense_20_mean_absolute_error: 0.0027 - val_dense_23_mean_absolute_error: 0.0091\n",
      "Epoch 7/20\n",
      "21002/21002 [==============================] - 4s 209us/step - loss: 0.0039 - dense_13_loss: 7.8166e-04 - dense_20_loss: 6.1045e-04 - dense_23_loss: 0.0025 - dense_13_mean_absolute_error: 0.0074 - dense_20_mean_absolute_error: 0.0071 - dense_23_mean_absolute_error: 0.0113 - val_loss: 0.0019 - val_dense_13_loss: 2.0539e-04 - val_dense_20_loss: 1.6289e-04 - val_dense_23_loss: 0.0015 - val_dense_13_mean_absolute_error: 0.0081 - val_dense_20_mean_absolute_error: 0.0035 - val_dense_23_mean_absolute_error: 0.0082\n",
      "Epoch 8/20\n",
      "21002/21002 [==============================] - 4s 210us/step - loss: 0.0030 - dense_13_loss: 7.0022e-04 - dense_20_loss: 4.2149e-04 - dense_23_loss: 0.0019 - dense_13_mean_absolute_error: 0.0072 - dense_20_mean_absolute_error: 0.0066 - dense_23_mean_absolute_error: 0.0106 - val_loss: 0.0023 - val_dense_13_loss: 3.6489e-04 - val_dense_20_loss: 3.7246e-04 - val_dense_23_loss: 0.0015 - val_dense_13_mean_absolute_error: 0.0070 - val_dense_20_mean_absolute_error: 0.0065 - val_dense_23_mean_absolute_error: 0.0098\n",
      "Epoch 9/20\n",
      "21002/21002 [==============================] - 4s 213us/step - loss: 0.0042 - dense_13_loss: 0.0011 - dense_20_loss: 0.0011 - dense_23_loss: 0.0020 - dense_13_mean_absolute_error: 0.0085 - dense_20_mean_absolute_error: 0.0110 - dense_23_mean_absolute_error: 0.0110 - val_loss: 0.0075 - val_dense_13_loss: 0.0020 - val_dense_20_loss: 0.0020 - val_dense_23_loss: 0.0035 - val_dense_13_mean_absolute_error: 0.0082 - val_dense_20_mean_absolute_error: 0.0077 - val_dense_23_mean_absolute_error: 0.0204\n",
      "Epoch 10/20\n",
      "21002/21002 [==============================] - 5s 218us/step - loss: 0.0060 - dense_13_loss: 0.0020 - dense_20_loss: 0.0015 - dense_23_loss: 0.0025 - dense_13_mean_absolute_error: 0.0095 - dense_20_mean_absolute_error: 0.0105 - dense_23_mean_absolute_error: 0.0116 - val_loss: 0.0014 - val_dense_13_loss: 3.3586e-04 - val_dense_20_loss: 1.2286e-04 - val_dense_23_loss: 9.6681e-04 - val_dense_13_mean_absolute_error: 0.0069 - val_dense_20_mean_absolute_error: 0.0051 - val_dense_23_mean_absolute_error: 0.0099\n",
      "Epoch 11/20\n",
      "21002/21002 [==============================] - 5s 219us/step - loss: 0.0016 - dense_13_loss: 3.7509e-04 - dense_20_loss: 2.7466e-04 - dense_23_loss: 9.7886e-04 - dense_13_mean_absolute_error: 0.0054 - dense_20_mean_absolute_error: 0.0056 - dense_23_mean_absolute_error: 0.0084 - val_loss: 0.0012 - val_dense_13_loss: 1.6509e-04 - val_dense_20_loss: 3.1796e-04 - val_dense_23_loss: 7.0780e-04 - val_dense_13_mean_absolute_error: 0.0052 - val_dense_20_mean_absolute_error: 0.0130 - val_dense_23_mean_absolute_error: 0.0072\n",
      "Epoch 12/20\n",
      "21002/21002 [==============================] - 5s 219us/step - loss: 0.0011 - dense_13_loss: 2.1986e-04 - dense_20_loss: 1.5990e-04 - dense_23_loss: 7.1419e-04 - dense_13_mean_absolute_error: 0.0045 - dense_20_mean_absolute_error: 0.0049 - dense_23_mean_absolute_error: 0.0077 - val_loss: 7.5210e-04 - val_dense_13_loss: 7.2624e-05 - val_dense_20_loss: 1.3187e-04 - val_dense_23_loss: 5.4761e-04 - val_dense_13_mean_absolute_error: 0.0032 - val_dense_20_mean_absolute_error: 0.0093 - val_dense_23_mean_absolute_error: 0.0063\n",
      "Epoch 13/20\n",
      "21002/21002 [==============================] - 5s 223us/step - loss: 0.0081 - dense_13_loss: 0.0026 - dense_20_loss: 0.0025 - dense_23_loss: 0.0030 - dense_13_mean_absolute_error: 0.0096 - dense_20_mean_absolute_error: 0.0125 - dense_23_mean_absolute_error: 0.0111 - val_loss: 7.5734e-04 - val_dense_13_loss: 1.1552e-04 - val_dense_20_loss: 1.0535e-04 - val_dense_23_loss: 5.3647e-04 - val_dense_13_mean_absolute_error: 0.0034 - val_dense_20_mean_absolute_error: 0.0067 - val_dense_23_mean_absolute_error: 0.0068\n",
      "Epoch 14/20\n",
      "21002/21002 [==============================] - 5s 223us/step - loss: 0.0019 - dense_13_loss: 6.0793e-04 - dense_20_loss: 3.5106e-04 - dense_23_loss: 9.7183e-04 - dense_13_mean_absolute_error: 0.0054 - dense_20_mean_absolute_error: 0.0052 - dense_23_mean_absolute_error: 0.0079 - val_loss: 6.0514e-04 - val_dense_13_loss: 1.1502e-04 - val_dense_20_loss: 7.4125e-05 - val_dense_23_loss: 4.1599e-04 - val_dense_13_mean_absolute_error: 0.0031 - val_dense_20_mean_absolute_error: 0.0041 - val_dense_23_mean_absolute_error: 0.0051\n",
      "Epoch 15/20\n",
      "21002/21002 [==============================] - 5s 224us/step - loss: 0.0072 - dense_13_loss: 0.0025 - dense_20_loss: 0.0018 - dense_23_loss: 0.0029 - dense_13_mean_absolute_error: 0.0102 - dense_20_mean_absolute_error: 0.0109 - dense_23_mean_absolute_error: 0.0110 - val_loss: 5.9445e-04 - val_dense_13_loss: 9.3261e-05 - val_dense_20_loss: 8.9246e-05 - val_dense_23_loss: 4.1194e-04 - val_dense_13_mean_absolute_error: 0.0035 - val_dense_20_mean_absolute_error: 0.0056 - val_dense_23_mean_absolute_error: 0.0060\n",
      "Epoch 16/20\n",
      "21002/21002 [==============================] - 5s 226us/step - loss: 0.0011 - dense_13_loss: 2.8858e-04 - dense_20_loss: 1.5897e-04 - dense_23_loss: 6.1915e-04 - dense_13_mean_absolute_error: 0.0042 - dense_20_mean_absolute_error: 0.0044 - dense_23_mean_absolute_error: 0.0066 - val_loss: 8.8721e-04 - val_dense_13_loss: 2.6629e-04 - val_dense_20_loss: 9.8575e-05 - val_dense_23_loss: 5.2234e-04 - val_dense_13_mean_absolute_error: 0.0039 - val_dense_20_mean_absolute_error: 0.0048 - val_dense_23_mean_absolute_error: 0.0062\n"
     ]
    },
    {
     "name": "stdout",
     "output_type": "stream",
     "text": [
      "Epoch 17/20\n",
      "21002/21002 [==============================] - 5s 217us/step - loss: 0.0010 - dense_13_loss: 2.8364e-04 - dense_20_loss: 1.8066e-04 - dense_23_loss: 5.8178e-04 - dense_13_mean_absolute_error: 0.0043 - dense_20_mean_absolute_error: 0.0053 - dense_23_mean_absolute_error: 0.0065 - val_loss: 7.1374e-04 - val_dense_13_loss: 2.1922e-04 - val_dense_20_loss: 7.7162e-05 - val_dense_23_loss: 4.1736e-04 - val_dense_13_mean_absolute_error: 0.0080 - val_dense_20_mean_absolute_error: 0.0028 - val_dense_23_mean_absolute_error: 0.0072\n",
      "Epoch 18/20\n",
      "21002/21002 [==============================] - 5s 223us/step - loss: 0.0026 - dense_13_loss: 9.3082e-04 - dense_20_loss: 6.4294e-04 - dense_23_loss: 0.0011 - dense_13_mean_absolute_error: 0.0066 - dense_20_mean_absolute_error: 0.0071 - dense_23_mean_absolute_error: 0.0075 - val_loss: 5.8868e-04 - val_dense_13_loss: 1.3683e-04 - val_dense_20_loss: 1.0478e-04 - val_dense_23_loss: 3.4706e-04 - val_dense_13_mean_absolute_error: 0.0028 - val_dense_20_mean_absolute_error: 0.0025 - val_dense_23_mean_absolute_error: 0.0055\n",
      "Epoch 19/20\n",
      "21002/21002 [==============================] - 5s 228us/step - loss: 0.0028 - dense_13_loss: 9.5155e-04 - dense_20_loss: 6.0460e-04 - dense_23_loss: 0.0012 - dense_13_mean_absolute_error: 0.0069 - dense_20_mean_absolute_error: 0.0081 - dense_23_mean_absolute_error: 0.0083 - val_loss: 0.0154 - val_dense_13_loss: 0.0067 - val_dense_20_loss: 0.0028 - val_dense_23_loss: 0.0059 - val_dense_13_mean_absolute_error: 0.0257 - val_dense_20_mean_absolute_error: 0.0148 - val_dense_23_mean_absolute_error: 0.0177\n",
      "Epoch 20/20\n",
      "21002/21002 [==============================] - 5s 230us/step - loss: 0.0033 - dense_13_loss: 0.0012 - dense_20_loss: 8.0148e-04 - dense_23_loss: 0.0013 - dense_13_mean_absolute_error: 0.0080 - dense_20_mean_absolute_error: 0.0089 - dense_23_mean_absolute_error: 0.0085 - val_loss: 4.3119e-04 - val_dense_13_loss: 8.1931e-05 - val_dense_20_loss: 9.5991e-05 - val_dense_23_loss: 2.5327e-04 - val_dense_13_mean_absolute_error: 0.0027 - val_dense_20_mean_absolute_error: 0.0053 - val_dense_23_mean_absolute_error: 0.0056\n"
     ]
    }
   ],
   "source": [
    "history = model.fit([X_train], [Y1,Y2,Y3], epochs=20, batch_size=32,validation_data=([X_test],[Y1_,Y2_,Y3_]))"
   ]
  },
  {
   "cell_type": "code",
   "execution_count": 25,
   "metadata": {},
   "outputs": [
    {
     "data": {
      "image/png": "[encoded data removed]",
      "text/plain": [
       "<Figure size 432x288 with 1 Axes>"
      ]
     },
     "metadata": {
      "needs_background": "light"
     },
     "output_type": "display_data"
    }
   ],
   "source": [
    "import matplotlib.pyplot as plt\n",
    "\n",
    "plt.plot(history.history['loss'])\n",
    "plt.plot(history.history['val_loss'])\n",
    "plt.title('Model loss')\n",
    "plt.ylabel('Loss')\n",
    "plt.xlabel('Epoch')\n",
    "plt.legend(['Train', 'Test'], loc='upper left')\n",
    "plt.show()\n"
   ]
  },
  {
   "cell_type": "code",
   "execution_count": 26,
   "metadata": {},
   "outputs": [],
   "source": [
    "input_ = random_scale.transform(X)\n",
    "output_ = model.predict(input_)"
   ]
  },
  {
   "cell_type": "code",
   "execution_count": 27,
   "metadata": {},
   "outputs": [],
   "source": [
    "output_ = np.transpose(np.array(output_))\n",
    "output_ = green_scale.inverse_transform(output_.reshape(output_.shape[1],3))\n"
   ]
  },
  {
   "cell_type": "code",
   "execution_count": 29,
   "metadata": {},
   "outputs": [
    {
     "data": {
      "text/plain": [
       "<matplotlib.collections.PathCollection at 0x7f83d05c8e80>"
      ]
     },
     "execution_count": 29,
     "metadata": {},
     "output_type": "execute_result"
    },
    {
     "data": {
      "image/png": "[encoded data removed]",
      "text/plain": [
       "<Figure size 432x288 with 1 Axes>"
      ]
     },
     "metadata": {
      "needs_background": "light"
     },
     "output_type": "display_data"
    }
   ],
   "source": [
    "plt.scatter(output_[:,2],green_[:,2],alpha=0.1)"
   ]
  },
  {
   "cell_type": "code",
   "execution_count": 107,
   "metadata": {},
   "outputs": [
    {
     "data": {
      "text/plain": [
       "(array([ 0.73858659,  1.22535408, -0.05017406, -1.41472655,  0.62262036,\n",
       "        -0.06437519,  1.15882813,  0.66475439,  0.12023962,  0.07953295,\n",
       "        -0.21678753, -0.12638701,  1.31695362, -1.20686567,  2.40292173,\n",
       "        -0.15962294,  0.09822081,  1.35558165,  0.64301212, -0.82405035,\n",
       "         0.77039545, -0.80117497, -0.04461308,  0.42448938,  0.62604265,\n",
       "         3.18057615, -0.12411486,  0.05202731, -0.13694755, -0.24909135,\n",
       "        -0.13381194,  1.3795683 , -0.1453571 ,  0.88627781,  0.1318229 ,\n",
       "         0.5482481 , -0.09315364, -0.1229137 , -0.04901214,  1.62643839,\n",
       "        -0.12085034,  0.25383451,  0.75843972, -0.44251005, -0.95914424,\n",
       "        -0.11381064, -0.12356006, -0.14049862,  0.09470645, -0.12188069,\n",
       "         0.84583678, -1.93443301, -1.04123244, -0.29275777, -0.12546897,\n",
       "        -0.12067602,  1.45017521, -0.02533551,  0.59413131, -0.19100042,\n",
       "         1.36722707,  0.13436429,  0.03579538,  0.74128827,  0.71569126,\n",
       "        -0.86764097, -0.04956603, -0.29518512, -0.98094289, -0.17242435,\n",
       "         0.80767599,  0.54975134, -0.11344711, -0.15490938, -0.1249108 ,\n",
       "         0.09010343,  0.11964696,  0.53135395, -0.12090181,  0.0935412 ,\n",
       "         0.7869099 ,  0.26320131, -5.29739417,  1.01083324,  0.82220462,\n",
       "         0.04823696,  1.02106107,  0.54602593, -1.90678519, -0.28953098,\n",
       "         0.26727488, -0.01070323, -0.05195449, -0.55813643, -0.04508027,\n",
       "        -2.24046179, -0.1161614 , -0.20399529,  3.10054126, -0.43671782]),\n",
       " array([[ 0.72912866],\n",
       "        [ 1.2192745 ],\n",
       "        [-0.05002248],\n",
       "        ...,\n",
       "        [-0.10680192],\n",
       "        [ 0.3446595 ],\n",
       "        [-0.12374304]], dtype=float32))"
      ]
     },
     "execution_count": 107,
     "metadata": {},
     "output_type": "execute_result"
    }
   ],
   "source": [
    "green"
   ]
  },
  {
   "cell_type": "code",
   "execution_count": 113,
   "metadata": {},
   "outputs": [
    {
     "data": {
      "image/png": "[encoded data removed]",
      "text/plain": [
       "<Figure size 432x288 with 1 Axes>"
      ]
     },
     "metadata": {
      "needs_background": "light"
     },
     "output_type": "display_data"
    }
   ],
   "source": [
    "# plt.plot(y_test[:,0][200:1000],predict[0][200:1000])\n",
    "plt.scatter(y_test[:,0][0:10],predict[:][0][0:10],alpha=0.5)\n",
    "plt.show()"
   ]
  },
  {
   "cell_type": "code",
   "execution_count": 92,
   "metadata": {},
   "outputs": [
    {
     "data": {
      "text/plain": [
       "array([ 0.73858659,  1.22535408, -0.05017406, ..., -0.10227372,\n",
       "        0.3537558 , -0.12147191])"
      ]
     },
     "execution_count": 92,
     "metadata": {},
     "output_type": "execute_result"
    }
   ],
   "source": [
    "y_test[:,0]"
   ]
  },
  {
   "cell_type": "code",
   "execution_count": 49,
   "metadata": {},
   "outputs": [
    {
     "data": {
      "text/plain": [
       "array([[0.09      , 9.90999985]])"
      ]
     },
     "execution_count": 49,
     "metadata": {},
     "output_type": "execute_result"
    }
   ],
   "source": [
    "random_scale.transform([[0.09  , 9.90999985]])"
   ]
  },
  {
   "cell_type": "code",
   "execution_count": 53,
   "metadata": {},
   "outputs": [
    {
     "data": {
      "text/plain": [
       "(12.7721387584226, 69.942667009624, 325.80967280782)"
      ]
     },
     "execution_count": 53,
     "metadata": {},
     "output_type": "execute_result"
    }
   ],
   "source": [
    "max(green_[:,0]),max(green_[:,1]),max(green_[:,2])"
   ]
  },
  {
   "cell_type": "code",
   "execution_count": 52,
   "metadata": {},
   "outputs": [],
   "source": [
    "ran = random_scale.transform([[1,2]])"
   ]
  },
  {
   "cell_type": "code",
   "execution_count": 53,
   "metadata": {},
   "outputs": [
    {
     "data": {
      "text/plain": [
       "array([[1.07142851, 0.14224446]])"
      ]
     },
     "execution_count": 53,
     "metadata": {},
     "output_type": "execute_result"
    }
   ],
   "source": [
    "ran"
   ]
  },
  {
   "cell_type": "code",
   "execution_count": 54,
   "metadata": {},
   "outputs": [
    {
     "data": {
      "text/plain": [
       "1.7068106354022103"
      ]
     },
     "execution_count": 54,
     "metadata": {},
     "output_type": "execute_result"
    }
   ],
   "source": [
    "X"
   ]
  },
  {
   "cell_type": "code",
   "execution_count": 89,
   "metadata": {},
   "outputs": [
    {
     "data": {
      "text/plain": [
       "0.03998879980190932"
      ]
     },
     "execution_count": 89,
     "metadata": {},
     "output_type": "execute_result"
    }
   ],
   "source": [
    "green_[1][2]"
   ]
  },
  {
   "cell_type": "code",
   "execution_count": null,
   "metadata": {},
   "outputs": [],
   "source": []
  }
 ],
 "metadata": {
  "kernelspec": {
   "display_name": "Python 3",
   "language": "python",
   "name": "python3"
  },
  "language_info": {
   "codemirror_mode": {
    "name": "ipython",
    "version": 3
   },
   "file_extension": ".py",
   "mimetype": "text/x-python",
   "name": "python",
   "nbconvert_exporter": "python",
   "pygments_lexer": "ipython3",
   "version": "3.7.3"
  }
 },
 "nbformat": 4,
 "nbformat_minor": 2
}
