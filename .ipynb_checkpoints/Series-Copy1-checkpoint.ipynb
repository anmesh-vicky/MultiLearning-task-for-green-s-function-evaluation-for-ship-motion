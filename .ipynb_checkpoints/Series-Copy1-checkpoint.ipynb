{
 "cells": [
  {
   "cell_type": "code",
   "execution_count": 1,
   "metadata": {},
   "outputs": [
    {
     "name": "stderr",
     "output_type": "stream",
     "text": [
      "Using TensorFlow backend.\n"
     ]
    }
   ],
   "source": [
    "import numpy as np\n",
    "import keras as k\n",
    "from sklearn.model_selection import train_test_split\n",
    "from sklearn import preprocessing\n",
    "from keras.models import Sequential\n",
    "from keras.layers import Dropout,Input, Dense,merge, Add\n",
    "from keras import optimizers\n",
    "from keras.models import Model\n",
    "import pandas as pd"
   ]
  },
  {
   "cell_type": "code",
   "execution_count": 2,
   "metadata": {},
   "outputs": [],
   "source": [
    "random_ = np.loadtxt(\"./series/random.txt\")\n",
    "green_ = np.loadtxt(\"./series/green.txt\")"
   ]
  },
  {
   "cell_type": "code",
   "execution_count": 3,
   "metadata": {},
   "outputs": [],
   "source": [
    "X = pd.DataFrame(columns=[\"amu\",\"beta\"])\n",
    "X[\"amu\"] = random_[:,0]\n",
    "X[\"beta\"] = random_[:,1]\n",
    "Y = pd.DataFrame(columns=[\"G\",\"damu\",\"dbeta\"])\n",
    "Y[\"G\"] = green_[:,0]\n",
    "Y[\"damu\"] = green_[:,1]\n",
    "Y[\"dbeta\"] = green_[:,2]"
   ]
  },
  {
   "cell_type": "code",
   "execution_count": 4,
   "metadata": {},
   "outputs": [
    {
     "data": {
      "text/plain": [
       "G        0.186039\n",
       "damu    -0.008144\n",
       "dbeta    0.447727\n",
       "dtype: float64"
      ]
     },
     "execution_count": 4,
     "metadata": {},
     "output_type": "execute_result"
    }
   ],
   "source": [
    "Y.mean(axis = 0)"
   ]
  },
  {
   "cell_type": "code",
   "execution_count": 5,
   "metadata": {},
   "outputs": [],
   "source": [
    "X_train, X_test, y_train, y_test = train_test_split(X, Y, test_size=0.30, random_state=42)"
   ]
  },
  {
   "cell_type": "code",
   "execution_count": 6,
   "metadata": {},
   "outputs": [],
   "source": [
    "# scaler = Pre()\n",
    "random_scale = preprocessing.MinMaxScaler([0,5])\n",
    "green_scale = preprocessing.MinMaxScaler([0,5])\n",
    "\n",
    "random_scale.fit(X_train)\n",
    "green_scale.fit(y_train)\n",
    "X_train = random_scale.transform(X_train)\n",
    "X_test = random_scale.transform(X_test)\n",
    "\n",
    "y_train = green_scale.transform(y_train)\n",
    "y_test = green_scale.transform(y_test)"
   ]
  },
  {
   "cell_type": "code",
   "execution_count": 7,
   "metadata": {},
   "outputs": [],
   "source": [
    "Y1,Y2,Y3 =y_train[:,0],y_train[:,1],y_train[:,2]\n",
    "Y1_,Y2_,Y3_ =y_test[:,0],y_test[:,1],y_test[:,2]"
   ]
  },
  {
   "cell_type": "code",
   "execution_count": 8,
   "metadata": {},
   "outputs": [],
   "source": [
    "Y1,Y2,Y3 = Y1.reshape(Y1.size,1),Y2.reshape(Y2.size,1),Y3.reshape(Y3.size,1)\n",
    "Y1_,Y2_,Y3_ = Y1_.reshape(Y1_.size,1),Y2_.reshape(Y2_.size,1),Y3_.reshape(Y3_.size,1)"
   ]
  },
  {
   "cell_type": "code",
   "execution_count": 9,
   "metadata": {},
   "outputs": [],
   "source": [
    "# model = Sequential()\n",
    "# model.add(Dense(100, input_dim=2, activation='relu'))\n",
    "# model.add(Dense(100, activation='relu'))\n",
    "# model.add(Dense(1000, activation='relu'))\n",
    "# model.add(Dense(1000, activation='relu'))\n",
    "# model.add(Dense(1000, activation='relu'))\n",
    "# model.add(Dense(500, activation='relu'))\n",
    "# model.add(Dense(50, activation='relu'))\n",
    "# model.add(Dense(10, activation='relu'))\n",
    "# model.add(Dropout(0.5))\n",
    "# model.add(Dense(3, activation=None))"
   ]
  },
  {
   "cell_type": "code",
   "execution_count": 10,
   "metadata": {},
   "outputs": [
    {
     "name": "stdout",
     "output_type": "stream",
     "text": [
      "WARNING:tensorflow:From /home/anmesh/.conda/envs/crystal/lib/python3.7/site-packages/tensorflow/python/framework/op_def_library.py:263: colocate_with (from tensorflow.python.framework.ops) is deprecated and will be removed in a future version.\n",
      "Instructions for updating:\n",
      "Colocations handled automatically by placer.\n"
     ]
    }
   ],
   "source": [
    "inputs = Input(shape=(2,))\n",
    "x = Dense(8, activation='tanh')(inputs)\n",
    "x = Dense(64, activation='tanh')(x)\n",
    "x = Dense(64, activation='tanh')(x)\n",
    "x = Dense(64, activation='tanh')(x)\n",
    "x_1 = Dense(64, activation='tanh')(x)\n",
    "x = Dense(64, activation='tanh')(x_1)\n",
    "# x = Dense(64, activation='relu')(x)\n",
    "\n",
    "\n",
    "\n",
    "\n",
    "x1_ = Dense(64, activation='tanh')(x)\n",
    "x1 = Dense(64, activation='tanh')(x1_)\n",
    "x1 = Dense(64, activation='tanh')(x1)\n",
    "x1 = Dense(64, activation='tanh')(x1)\n",
    "x1 = Dense(64, activation='tanh')(x1)\n",
    "# x = Dense(64, activation='relu')(x)\n",
    "x1 = Add()([x1, x1_])\n",
    "x1 = Dense(64, activation='tanh')(x)\n",
    "y1 = Dense(1, activation=None)(x1)\n",
    "\n",
    "x2_ = Dense(64, activation='tanh')(x)\n",
    "x2 = Dense(64, activation='tanh')(x2_)\n",
    "x2 = Dense(64, activation='tanh')(x2)\n",
    "x2 = Dense(64, activation='tanh')(x2)\n",
    "x2 = Dense(64, activation='tanh')(x2)\n",
    "x2 = Dense(64, activation='tanh')(x2)\n",
    "# x = Dense(64, activation='relu')(x)\n",
    "x2 = Add()([x2, x2_])\n",
    "y2 = Dense(1, activation=None)(x2)\n",
    "\n",
    "x3 = Dense(32, activation='tanh')(x)\n",
    "x3 = Dense(10, activation='tanh')(x3)\n",
    "y3 = Dense(1, activation=None)(x3)\n",
    "\n",
    "model = Model(inputs=inputs, outputs=[y1,y2,y3])\n"
   ]
  },
  {
   "cell_type": "code",
   "execution_count": 11,
   "metadata": {},
   "outputs": [],
   "source": [
    "sgd = optimizers.adam(lr=0.0001)\n"
   ]
  },
  {
   "cell_type": "code",
   "execution_count": 21,
   "metadata": {},
   "outputs": [],
   "source": [
    "model.compile(loss=['mean_squared_error','mean_squared_error','mean_squared_error'], optimizer=sgd, metrics=['mae'])\n"
   ]
  },
  {
   "cell_type": "code",
   "execution_count": 23,
   "metadata": {},
   "outputs": [
    {
     "name": "stdout",
     "output_type": "stream",
     "text": [
      "Train on 49749 samples, validate on 21322 samples\n",
      "Epoch 1/40\n",
      "49749/49749 [==============================] - 11s 222us/step - loss: 0.0708 - dense_13_loss: 0.0295 - dense_20_loss: 0.0194 - dense_23_loss: 0.0219 - dense_13_mean_absolute_error: 0.0473 - dense_20_mean_absolute_error: 0.0402 - dense_23_mean_absolute_error: 0.0316 - val_loss: 0.0709 - val_dense_13_loss: 0.0288 - val_dense_20_loss: 0.0205 - val_dense_23_loss: 0.0216 - val_dense_13_mean_absolute_error: 0.0511 - val_dense_20_mean_absolute_error: 0.0336 - val_dense_23_mean_absolute_error: 0.0324\n",
      "Epoch 2/40\n",
      "49749/49749 [==============================] - 11s 227us/step - loss: 0.0662 - dense_13_loss: 0.0276 - dense_20_loss: 0.0176 - dense_23_loss: 0.0210 - dense_13_mean_absolute_error: 0.0442 - dense_20_mean_absolute_error: 0.0379 - dense_23_mean_absolute_error: 0.0303 - val_loss: 0.0639 - val_dense_13_loss: 0.0263 - val_dense_20_loss: 0.0173 - val_dense_23_loss: 0.0203 - val_dense_13_mean_absolute_error: 0.0398 - val_dense_20_mean_absolute_error: 0.0310 - val_dense_23_mean_absolute_error: 0.0290\n",
      "Epoch 3/40\n",
      "49749/49749 [==============================] - 11s 231us/step - loss: 0.0632 - dense_13_loss: 0.0263 - dense_20_loss: 0.0165 - dense_23_loss: 0.0204 - dense_13_mean_absolute_error: 0.0436 - dense_20_mean_absolute_error: 0.0364 - dense_23_mean_absolute_error: 0.0290 - val_loss: 0.0713 - val_dense_13_loss: 0.0281 - val_dense_20_loss: 0.0214 - val_dense_23_loss: 0.0218 - val_dense_13_mean_absolute_error: 0.0555 - val_dense_20_mean_absolute_error: 0.0429 - val_dense_23_mean_absolute_error: 0.0309\n",
      "Epoch 4/40\n",
      "49749/49749 [==============================] - 12s 236us/step - loss: 0.0607 - dense_13_loss: 0.0250 - dense_20_loss: 0.0158 - dense_23_loss: 0.0199 - dense_13_mean_absolute_error: 0.0420 - dense_20_mean_absolute_error: 0.0345 - dense_23_mean_absolute_error: 0.0280 - val_loss: 0.0596 - val_dense_13_loss: 0.0247 - val_dense_20_loss: 0.0153 - val_dense_23_loss: 0.0196 - val_dense_13_mean_absolute_error: 0.0402 - val_dense_20_mean_absolute_error: 0.0328 - val_dense_23_mean_absolute_error: 0.0281\n",
      "Epoch 5/40\n",
      "49749/49749 [==============================] - 12s 236us/step - loss: 0.0578 - dense_13_loss: 0.0239 - dense_20_loss: 0.0148 - dense_23_loss: 0.0191 - dense_13_mean_absolute_error: 0.0402 - dense_20_mean_absolute_error: 0.0320 - dense_23_mean_absolute_error: 0.0265 - val_loss: 0.0559 - val_dense_13_loss: 0.0223 - val_dense_20_loss: 0.0155 - val_dense_23_loss: 0.0181 - val_dense_13_mean_absolute_error: 0.0333 - val_dense_20_mean_absolute_error: 0.0249 - val_dense_23_mean_absolute_error: 0.0249\n",
      "Epoch 6/40\n",
      "49749/49749 [==============================] - 12s 237us/step - loss: 0.0537 - dense_13_loss: 0.0217 - dense_20_loss: 0.0145 - dense_23_loss: 0.0175 - dense_13_mean_absolute_error: 0.0388 - dense_20_mean_absolute_error: 0.0313 - dense_23_mean_absolute_error: 0.0260 - val_loss: 0.0516 - val_dense_13_loss: 0.0215 - val_dense_20_loss: 0.0137 - val_dense_23_loss: 0.0164 - val_dense_13_mean_absolute_error: 0.0446 - val_dense_20_mean_absolute_error: 0.0326 - val_dense_23_mean_absolute_error: 0.0294\n",
      "Epoch 7/40\n",
      "49749/49749 [==============================] - 12s 238us/step - loss: 0.0433 - dense_13_loss: 0.0169 - dense_20_loss: 0.0126 - dense_23_loss: 0.0137 - dense_13_mean_absolute_error: 0.0355 - dense_20_mean_absolute_error: 0.0296 - dense_23_mean_absolute_error: 0.0241 - val_loss: 0.0371 - val_dense_13_loss: 0.0138 - val_dense_20_loss: 0.0117 - val_dense_23_loss: 0.0116 - val_dense_13_mean_absolute_error: 0.0366 - val_dense_20_mean_absolute_error: 0.0361 - val_dense_23_mean_absolute_error: 0.0246\n",
      "Epoch 8/40\n",
      "49749/49749 [==============================] - 12s 240us/step - loss: 0.0289 - dense_13_loss: 0.0115 - dense_20_loss: 0.0085 - dense_23_loss: 0.0089 - dense_13_mean_absolute_error: 0.0319 - dense_20_mean_absolute_error: 0.0260 - dense_23_mean_absolute_error: 0.0210 - val_loss: 0.0205 - val_dense_13_loss: 0.0089 - val_dense_20_loss: 0.0052 - val_dense_23_loss: 0.0065 - val_dense_13_mean_absolute_error: 0.0248 - val_dense_20_mean_absolute_error: 0.0263 - val_dense_23_mean_absolute_error: 0.0169\n",
      "Epoch 9/40\n",
      "49749/49749 [==============================] - 12s 242us/step - loss: 0.0202 - dense_13_loss: 0.0091 - dense_20_loss: 0.0047 - dense_23_loss: 0.0064 - dense_13_mean_absolute_error: 0.0296 - dense_20_mean_absolute_error: 0.0224 - dense_23_mean_absolute_error: 0.0185 - val_loss: 0.0191 - val_dense_13_loss: 0.0093 - val_dense_20_loss: 0.0040 - val_dense_23_loss: 0.0057 - val_dense_13_mean_absolute_error: 0.0249 - val_dense_20_mean_absolute_error: 0.0220 - val_dense_23_mean_absolute_error: 0.0161\n",
      "Epoch 10/40\n",
      "49749/49749 [==============================] - 12s 241us/step - loss: 0.0152 - dense_13_loss: 0.0071 - dense_20_loss: 0.0035 - dense_23_loss: 0.0047 - dense_13_mean_absolute_error: 0.0254 - dense_20_mean_absolute_error: 0.0194 - dense_23_mean_absolute_error: 0.0159 - val_loss: 0.0129 - val_dense_13_loss: 0.0064 - val_dense_20_loss: 0.0025 - val_dense_23_loss: 0.0040 - val_dense_13_mean_absolute_error: 0.0233 - val_dense_20_mean_absolute_error: 0.0219 - val_dense_23_mean_absolute_error: 0.0141\n",
      "Epoch 11/40\n",
      "49749/49749 [==============================] - 12s 242us/step - loss: 0.0144 - dense_13_loss: 0.0067 - dense_20_loss: 0.0034 - dense_23_loss: 0.0043 - dense_13_mean_absolute_error: 0.0256 - dense_20_mean_absolute_error: 0.0198 - dense_23_mean_absolute_error: 0.0154 - val_loss: 0.0097 - val_dense_13_loss: 0.0050 - val_dense_20_loss: 0.0018 - val_dense_23_loss: 0.0029 - val_dense_13_mean_absolute_error: 0.0224 - val_dense_20_mean_absolute_error: 0.0135 - val_dense_23_mean_absolute_error: 0.0124\n",
      "Epoch 12/40\n",
      "49749/49749 [==============================] - 12s 242us/step - loss: 0.0119 - dense_13_loss: 0.0057 - dense_20_loss: 0.0027 - dense_23_loss: 0.0034 - dense_13_mean_absolute_error: 0.0243 - dense_20_mean_absolute_error: 0.0185 - dense_23_mean_absolute_error: 0.0141 - val_loss: 0.0238 - val_dense_13_loss: 0.0070 - val_dense_20_loss: 0.0121 - val_dense_23_loss: 0.0047 - val_dense_13_mean_absolute_error: 0.0342 - val_dense_20_mean_absolute_error: 0.0410 - val_dense_23_mean_absolute_error: 0.0198\n",
      "Epoch 13/40\n",
      "49749/49749 [==============================] - 12s 244us/step - loss: 0.0095 - dense_13_loss: 0.0045 - dense_20_loss: 0.0023 - dense_23_loss: 0.0026 - dense_13_mean_absolute_error: 0.0217 - dense_20_mean_absolute_error: 0.0162 - dense_23_mean_absolute_error: 0.0124 - val_loss: 0.0098 - val_dense_13_loss: 0.0051 - val_dense_20_loss: 0.0021 - val_dense_23_loss: 0.0027 - val_dense_13_mean_absolute_error: 0.0201 - val_dense_20_mean_absolute_error: 0.0140 - val_dense_23_mean_absolute_error: 0.0126\n",
      "Epoch 14/40\n",
      "49749/49749 [==============================] - 13s 252us/step - loss: 0.0108 - dense_13_loss: 0.0048 - dense_20_loss: 0.0031 - dense_23_loss: 0.0029 - dense_13_mean_absolute_error: 0.0222 - dense_20_mean_absolute_error: 0.0173 - dense_23_mean_absolute_error: 0.0131 - val_loss: 0.0082 - val_dense_13_loss: 0.0041 - val_dense_20_loss: 0.0019 - val_dense_23_loss: 0.0022 - val_dense_13_mean_absolute_error: 0.0233 - val_dense_20_mean_absolute_error: 0.0160 - val_dense_23_mean_absolute_error: 0.0114\n",
      "Epoch 15/40\n",
      "49749/49749 [==============================] - 12s 248us/step - loss: 0.0074 - dense_13_loss: 0.0035 - dense_20_loss: 0.0018 - dense_23_loss: 0.0021 - dense_13_mean_absolute_error: 0.0201 - dense_20_mean_absolute_error: 0.0145 - dense_23_mean_absolute_error: 0.0116 - val_loss: 0.0057 - val_dense_13_loss: 0.0031 - val_dense_20_loss: 6.5646e-04 - val_dense_23_loss: 0.0019 - val_dense_13_mean_absolute_error: 0.0178 - val_dense_20_mean_absolute_error: 0.0094 - val_dense_23_mean_absolute_error: 0.0105\n",
      "Epoch 16/40\n",
      "49749/49749 [==============================] - 12s 249us/step - loss: 0.0083 - dense_13_loss: 0.0037 - dense_20_loss: 0.0021 - dense_23_loss: 0.0024 - dense_13_mean_absolute_error: 0.0207 - dense_20_mean_absolute_error: 0.0162 - dense_23_mean_absolute_error: 0.0119 - val_loss: 0.0047 - val_dense_13_loss: 0.0027 - val_dense_20_loss: 3.8080e-04 - val_dense_23_loss: 0.0015 - val_dense_13_mean_absolute_error: 0.0165 - val_dense_20_mean_absolute_error: 0.0069 - val_dense_23_mean_absolute_error: 0.0089\n"
     ]
    },
    {
     "name": "stdout",
     "output_type": "stream",
     "text": [
      "Epoch 17/40\n",
      "49749/49749 [==============================] - 12s 237us/step - loss: 0.0089 - dense_13_loss: 0.0039 - dense_20_loss: 0.0024 - dense_23_loss: 0.0025 - dense_13_mean_absolute_error: 0.0205 - dense_20_mean_absolute_error: 0.0157 - dense_23_mean_absolute_error: 0.0119 - val_loss: 0.0070 - val_dense_13_loss: 0.0039 - val_dense_20_loss: 0.0012 - val_dense_23_loss: 0.0019 - val_dense_13_mean_absolute_error: 0.0293 - val_dense_20_mean_absolute_error: 0.0122 - val_dense_23_mean_absolute_error: 0.0110\n",
      "Epoch 18/40\n",
      "49749/49749 [==============================] - 12s 235us/step - loss: 0.0048 - dense_13_loss: 0.0024 - dense_20_loss: 9.7418e-04 - dense_23_loss: 0.0015 - dense_13_mean_absolute_error: 0.0167 - dense_20_mean_absolute_error: 0.0117 - dense_23_mean_absolute_error: 0.0097 - val_loss: 0.0038 - val_dense_13_loss: 0.0022 - val_dense_20_loss: 2.9428e-04 - val_dense_23_loss: 0.0013 - val_dense_13_mean_absolute_error: 0.0122 - val_dense_20_mean_absolute_error: 0.0081 - val_dense_23_mean_absolute_error: 0.0087\n",
      "Epoch 19/40\n",
      "49749/49749 [==============================] - 12s 237us/step - loss: 0.0081 - dense_13_loss: 0.0033 - dense_20_loss: 0.0026 - dense_23_loss: 0.0022 - dense_13_mean_absolute_error: 0.0193 - dense_20_mean_absolute_error: 0.0161 - dense_23_mean_absolute_error: 0.0113 - val_loss: 0.0037 - val_dense_13_loss: 0.0021 - val_dense_20_loss: 3.5151e-04 - val_dense_23_loss: 0.0012 - val_dense_13_mean_absolute_error: 0.0120 - val_dense_20_mean_absolute_error: 0.0070 - val_dense_23_mean_absolute_error: 0.0085\n",
      "Epoch 20/40\n",
      "49749/49749 [==============================] - 12s 239us/step - loss: 0.0085 - dense_13_loss: 0.0033 - dense_20_loss: 0.0028 - dense_23_loss: 0.0024 - dense_13_mean_absolute_error: 0.0186 - dense_20_mean_absolute_error: 0.0145 - dense_23_mean_absolute_error: 0.0112 - val_loss: 0.0091 - val_dense_13_loss: 0.0036 - val_dense_20_loss: 0.0036 - val_dense_23_loss: 0.0019 - val_dense_13_mean_absolute_error: 0.0256 - val_dense_20_mean_absolute_error: 0.0189 - val_dense_23_mean_absolute_error: 0.0158\n",
      "Epoch 21/40\n",
      "49749/49749 [==============================] - 12s 236us/step - loss: 0.0061 - dense_13_loss: 0.0027 - dense_20_loss: 0.0016 - dense_23_loss: 0.0018 - dense_13_mean_absolute_error: 0.0177 - dense_20_mean_absolute_error: 0.0132 - dense_23_mean_absolute_error: 0.0104 - val_loss: 0.0059 - val_dense_13_loss: 0.0027 - val_dense_20_loss: 0.0016 - val_dense_23_loss: 0.0016 - val_dense_13_mean_absolute_error: 0.0154 - val_dense_20_mean_absolute_error: 0.0137 - val_dense_23_mean_absolute_error: 0.0105\n",
      "Epoch 22/40\n",
      "49749/49749 [==============================] - 13s 259us/step - loss: 0.0083 - dense_13_loss: 0.0029 - dense_20_loss: 0.0034 - dense_23_loss: 0.0021 - dense_13_mean_absolute_error: 0.0171 - dense_20_mean_absolute_error: 0.0146 - dense_23_mean_absolute_error: 0.0103 - val_loss: 0.0072 - val_dense_13_loss: 0.0029 - val_dense_20_loss: 0.0022 - val_dense_23_loss: 0.0020 - val_dense_13_mean_absolute_error: 0.0153 - val_dense_20_mean_absolute_error: 0.0137 - val_dense_23_mean_absolute_error: 0.0113\n",
      "Epoch 23/40\n",
      "49749/49749 [==============================] - 12s 238us/step - loss: 0.0051 - dense_13_loss: 0.0021 - dense_20_loss: 0.0016 - dense_23_loss: 0.0014 - dense_13_mean_absolute_error: 0.0154 - dense_20_mean_absolute_error: 0.0111 - dense_23_mean_absolute_error: 0.0089 - val_loss: 0.0027 - val_dense_13_loss: 0.0015 - val_dense_20_loss: 2.4943e-04 - val_dense_23_loss: 8.8258e-04 - val_dense_13_mean_absolute_error: 0.0113 - val_dense_20_mean_absolute_error: 0.0062 - val_dense_23_mean_absolute_error: 0.0075\n",
      "Epoch 24/40\n",
      "49749/49749 [==============================] - 12s 237us/step - loss: 0.0059 - dense_13_loss: 0.0024 - dense_20_loss: 0.0018 - dense_23_loss: 0.0016 - dense_13_mean_absolute_error: 0.0175 - dense_20_mean_absolute_error: 0.0137 - dense_23_mean_absolute_error: 0.0099 - val_loss: 0.0031 - val_dense_13_loss: 0.0015 - val_dense_20_loss: 7.2398e-04 - val_dense_23_loss: 8.6370e-04 - val_dense_13_mean_absolute_error: 0.0141 - val_dense_20_mean_absolute_error: 0.0086 - val_dense_23_mean_absolute_error: 0.0069\n",
      "Epoch 25/40\n",
      "49749/49749 [==============================] - 12s 237us/step - loss: 0.0041 - dense_13_loss: 0.0018 - dense_20_loss: 0.0012 - dense_23_loss: 0.0012 - dense_13_mean_absolute_error: 0.0149 - dense_20_mean_absolute_error: 0.0116 - dense_23_mean_absolute_error: 0.0084 - val_loss: 0.0041 - val_dense_13_loss: 0.0018 - val_dense_20_loss: 0.0011 - val_dense_23_loss: 0.0012 - val_dense_13_mean_absolute_error: 0.0129 - val_dense_20_mean_absolute_error: 0.0174 - val_dense_23_mean_absolute_error: 0.0083\n",
      "Epoch 26/40\n",
      "49749/49749 [==============================] - 12s 237us/step - loss: 0.0061 - dense_13_loss: 0.0024 - dense_20_loss: 0.0023 - dense_23_loss: 0.0015 - dense_13_mean_absolute_error: 0.0187 - dense_20_mean_absolute_error: 0.0155 - dense_23_mean_absolute_error: 0.0099 - val_loss: 0.0022 - val_dense_13_loss: 0.0013 - val_dense_20_loss: 2.8319e-04 - val_dense_23_loss: 6.8587e-04 - val_dense_13_mean_absolute_error: 0.0099 - val_dense_20_mean_absolute_error: 0.0059 - val_dense_23_mean_absolute_error: 0.0063\n",
      "Epoch 27/40\n",
      "49749/49749 [==============================] - 12s 237us/step - loss: 0.0035 - dense_13_loss: 0.0015 - dense_20_loss: 0.0011 - dense_23_loss: 8.4997e-04 - dense_13_mean_absolute_error: 0.0143 - dense_20_mean_absolute_error: 0.0106 - dense_23_mean_absolute_error: 0.0079 - val_loss: 0.0024 - val_dense_13_loss: 0.0015 - val_dense_20_loss: 3.1835e-04 - val_dense_23_loss: 6.0787e-04 - val_dense_13_mean_absolute_error: 0.0156 - val_dense_20_mean_absolute_error: 0.0091 - val_dense_23_mean_absolute_error: 0.0095\n",
      "Epoch 28/40\n",
      "49749/49749 [==============================] - 13s 254us/step - loss: 0.0057 - dense_13_loss: 0.0022 - dense_20_loss: 0.0020 - dense_23_loss: 0.0015 - dense_13_mean_absolute_error: 0.0176 - dense_20_mean_absolute_error: 0.0143 - dense_23_mean_absolute_error: 0.0098 - val_loss: 0.0020 - val_dense_13_loss: 0.0012 - val_dense_20_loss: 2.3596e-04 - val_dense_23_loss: 5.5705e-04 - val_dense_13_mean_absolute_error: 0.0109 - val_dense_20_mean_absolute_error: 0.0064 - val_dense_23_mean_absolute_error: 0.0059\n",
      "Epoch 29/40\n",
      "49749/49749 [==============================] - 13s 253us/step - loss: 0.0029 - dense_13_loss: 0.0013 - dense_20_loss: 7.7373e-04 - dense_23_loss: 7.6786e-04 - dense_13_mean_absolute_error: 0.0133 - dense_20_mean_absolute_error: 0.0100 - dense_23_mean_absolute_error: 0.0072 - val_loss: 0.0042 - val_dense_13_loss: 0.0017 - val_dense_20_loss: 0.0011 - val_dense_23_loss: 0.0013 - val_dense_13_mean_absolute_error: 0.0152 - val_dense_20_mean_absolute_error: 0.0106 - val_dense_23_mean_absolute_error: 0.0086\n",
      "Epoch 30/40\n",
      "49749/49749 [==============================] - 12s 247us/step - loss: 0.0089 - dense_13_loss: 0.0037 - dense_20_loss: 0.0020 - dense_23_loss: 0.0032 - dense_13_mean_absolute_error: 0.0150 - dense_20_mean_absolute_error: 0.0118 - dense_23_mean_absolute_error: 0.0097 - val_loss: 0.0014 - val_dense_13_loss: 9.1802e-04 - val_dense_20_loss: 1.1148e-04 - val_dense_23_loss: 4.0994e-04 - val_dense_13_mean_absolute_error: 0.0108 - val_dense_20_mean_absolute_error: 0.0047 - val_dense_23_mean_absolute_error: 0.0056\n",
      "Epoch 31/40\n",
      "49749/49749 [==============================] - 13s 264us/step - loss: 0.0051 - dense_13_loss: 0.0022 - dense_20_loss: 0.0016 - dense_23_loss: 0.0014 - dense_13_mean_absolute_error: 0.0157 - dense_20_mean_absolute_error: 0.0123 - dense_23_mean_absolute_error: 0.0087 - val_loss: 0.0027 - val_dense_13_loss: 0.0013 - val_dense_20_loss: 7.5384e-04 - val_dense_23_loss: 6.0108e-04 - val_dense_13_mean_absolute_error: 0.0147 - val_dense_20_mean_absolute_error: 0.0097 - val_dense_23_mean_absolute_error: 0.0073\n",
      "Epoch 32/40\n",
      "49749/49749 [==============================] - 13s 255us/step - loss: 0.0021 - dense_13_loss: 9.9193e-04 - dense_20_loss: 5.5381e-04 - dense_23_loss: 5.6982e-04 - dense_13_mean_absolute_error: 0.0121 - dense_20_mean_absolute_error: 0.0089 - dense_23_mean_absolute_error: 0.0065 - val_loss: 0.0041 - val_dense_13_loss: 0.0019 - val_dense_20_loss: 0.0012 - val_dense_23_loss: 0.0011 - val_dense_13_mean_absolute_error: 0.0190 - val_dense_20_mean_absolute_error: 0.0147 - val_dense_23_mean_absolute_error: 0.0093\n"
     ]
    },
    {
     "name": "stdout",
     "output_type": "stream",
     "text": [
      "Epoch 33/40\n",
      "49749/49749 [==============================] - 14s 281us/step - loss: 0.0051 - dense_13_loss: 0.0019 - dense_20_loss: 0.0019 - dense_23_loss: 0.0013 - dense_13_mean_absolute_error: 0.0172 - dense_20_mean_absolute_error: 0.0144 - dense_23_mean_absolute_error: 0.0092 - val_loss: 0.0034 - val_dense_13_loss: 0.0012 - val_dense_20_loss: 0.0015 - val_dense_23_loss: 7.4368e-04 - val_dense_13_mean_absolute_error: 0.0124 - val_dense_20_mean_absolute_error: 0.0154 - val_dense_23_mean_absolute_error: 0.0091\n",
      "Epoch 34/40\n",
      "49749/49749 [==============================] - 12s 237us/step - loss: 0.0040 - dense_13_loss: 0.0016 - dense_20_loss: 0.0012 - dense_23_loss: 0.0011 - dense_13_mean_absolute_error: 0.0150 - dense_20_mean_absolute_error: 0.0113 - dense_23_mean_absolute_error: 0.0083 - val_loss: 0.0026 - val_dense_13_loss: 0.0012 - val_dense_20_loss: 5.3002e-04 - val_dense_23_loss: 8.3260e-04 - val_dense_13_mean_absolute_error: 0.0103 - val_dense_20_mean_absolute_error: 0.0078 - val_dense_23_mean_absolute_error: 0.0071\n",
      "Epoch 35/40\n",
      "49749/49749 [==============================] - 11s 231us/step - loss: 0.0046 - dense_13_loss: 0.0019 - dense_20_loss: 0.0016 - dense_23_loss: 0.0011 - dense_13_mean_absolute_error: 0.0141 - dense_20_mean_absolute_error: 0.0111 - dense_23_mean_absolute_error: 0.0076 - val_loss: 0.0211 - val_dense_13_loss: 0.0063 - val_dense_20_loss: 0.0118 - val_dense_23_loss: 0.0029 - val_dense_13_mean_absolute_error: 0.0509 - val_dense_20_mean_absolute_error: 0.0477 - val_dense_23_mean_absolute_error: 0.0224\n",
      "Epoch 36/40\n",
      "49749/49749 [==============================] - 12s 237us/step - loss: 0.0030 - dense_13_loss: 0.0011 - dense_20_loss: 0.0011 - dense_23_loss: 7.8397e-04 - dense_13_mean_absolute_error: 0.0118 - dense_20_mean_absolute_error: 0.0104 - dense_23_mean_absolute_error: 0.0066 - val_loss: 0.0031 - val_dense_13_loss: 0.0013 - val_dense_20_loss: 9.9520e-04 - val_dense_23_loss: 7.7228e-04 - val_dense_13_mean_absolute_error: 0.0143 - val_dense_20_mean_absolute_error: 0.0152 - val_dense_23_mean_absolute_error: 0.0101\n",
      "Epoch 37/40\n",
      "49749/49749 [==============================] - 12s 237us/step - loss: 0.0064 - dense_13_loss: 0.0023 - dense_20_loss: 0.0023 - dense_23_loss: 0.0018 - dense_13_mean_absolute_error: 0.0142 - dense_20_mean_absolute_error: 0.0126 - dense_23_mean_absolute_error: 0.0085 - val_loss: 0.0010 - val_dense_13_loss: 5.3954e-04 - val_dense_20_loss: 2.2630e-04 - val_dense_23_loss: 2.8096e-04 - val_dense_13_mean_absolute_error: 0.0067 - val_dense_20_mean_absolute_error: 0.0069 - val_dense_23_mean_absolute_error: 0.0044\n",
      "Epoch 38/40\n",
      "49749/49749 [==============================] - 12s 243us/step - loss: 0.0043 - dense_13_loss: 0.0016 - dense_20_loss: 0.0016 - dense_23_loss: 0.0011 - dense_13_mean_absolute_error: 0.0137 - dense_20_mean_absolute_error: 0.0111 - dense_23_mean_absolute_error: 0.0076 - val_loss: 0.0020 - val_dense_13_loss: 9.4747e-04 - val_dense_20_loss: 5.1524e-04 - val_dense_23_loss: 5.4651e-04 - val_dense_13_mean_absolute_error: 0.0118 - val_dense_20_mean_absolute_error: 0.0103 - val_dense_23_mean_absolute_error: 0.0064\n",
      "Epoch 39/40\n",
      "49749/49749 [==============================] - 13s 263us/step - loss: 0.0038 - dense_13_loss: 0.0015 - dense_20_loss: 0.0013 - dense_23_loss: 9.8214e-04 - dense_13_mean_absolute_error: 0.0143 - dense_20_mean_absolute_error: 0.0118 - dense_23_mean_absolute_error: 0.0079 - val_loss: 8.0772e-04 - val_dense_13_loss: 4.5805e-04 - val_dense_20_loss: 1.4267e-04 - val_dense_23_loss: 2.0699e-04 - val_dense_13_mean_absolute_error: 0.0082 - val_dense_20_mean_absolute_error: 0.0055 - val_dense_23_mean_absolute_error: 0.0048\n",
      "Epoch 40/40\n",
      "49749/49749 [==============================] - 13s 260us/step - loss: 0.0018 - dense_13_loss: 8.0088e-04 - dense_20_loss: 5.7157e-04 - dense_23_loss: 4.6028e-04 - dense_13_mean_absolute_error: 0.0111 - dense_20_mean_absolute_error: 0.0084 - dense_23_mean_absolute_error: 0.0058 - val_loss: 0.0019 - val_dense_13_loss: 8.6816e-04 - val_dense_20_loss: 5.9185e-04 - val_dense_23_loss: 4.4583e-04 - val_dense_13_mean_absolute_error: 0.0140 - val_dense_20_mean_absolute_error: 0.0109 - val_dense_23_mean_absolute_error: 0.0080\n"
     ]
    }
   ],
   "source": [
    "history = model.fit([X_train], [Y1,Y2,Y3], epochs=40, batch_size=32,validation_data=([X_test],[Y1_,Y2_,Y3_]))"
   ]
  },
  {
   "cell_type": "code",
   "execution_count": 24,
   "metadata": {},
   "outputs": [
    {
     "data": {
      "image/png": "[encoded data removed]",
      "text/plain": [
       "<Figure size 432x288 with 1 Axes>"
      ]
     },
     "metadata": {
      "needs_background": "light"
     },
     "output_type": "display_data"
    }
   ],
   "source": [
    "import matplotlib.pyplot as plt\n",
    "\n",
    "plt.plot(history.history['loss'])\n",
    "plt.plot(history.history['val_loss'])\n",
    "plt.title('Model loss')\n",
    "plt.ylabel('Loss')\n",
    "plt.xlabel('Epoch')\n",
    "plt.legend(['Train', 'Test'], loc='upper left')\n",
    "plt.show()\n"
   ]
  },
  {
   "cell_type": "code",
   "execution_count": 25,
   "metadata": {},
   "outputs": [],
   "source": [
    "input_ = random_scale.transform(X)\n",
    "output_ = model.predict(input_)"
   ]
  },
  {
   "cell_type": "code",
   "execution_count": 26,
   "metadata": {},
   "outputs": [],
   "source": [
    "output_ = np.transpose(np.array(output_))\n",
    "output_ = green_scale.inverse_transform(output_.reshape(output_.shape[1],3))\n"
   ]
  },
  {
   "cell_type": "code",
   "execution_count": 31,
   "metadata": {},
   "outputs": [
    {
     "data": {
      "text/plain": [
       "<matplotlib.collections.PathCollection at 0x7f527c792278>"
      ]
     },
     "execution_count": 31,
     "metadata": {},
     "output_type": "execute_result"
    },
    {
     "data": {
      "image/png": "[encoded data removed]",
      "text/plain": [
       "<Figure size 432x288 with 1 Axes>"
      ]
     },
     "metadata": {
      "needs_background": "light"
     },
     "output_type": "display_data"
    }
   ],
   "source": [
    "plt.scatter(output_[:,2],green_[:,2],alpha=0.01)"
   ]
  },
  {
   "cell_type": "code",
   "execution_count": 36,
   "metadata": {},
   "outputs": [
    {
     "data": {
      "text/plain": [
       "G         12.772139\n",
       "damu      69.942667\n",
       "dbeta    325.809673\n",
       "dtype: float64"
      ]
     },
     "execution_count": 36,
     "metadata": {},
     "output_type": "execute_result"
    }
   ],
   "source": [
    "Y.max(axis = 0)"
   ]
  },
  {
   "cell_type": "code",
   "execution_count": 113,
   "metadata": {},
   "outputs": [
    {
     "data": {
      "image/png": "[encoded data removed]",
      "text/plain": [
       "<Figure size 432x288 with 1 Axes>"
      ]
     },
     "metadata": {
      "needs_background": "light"
     },
     "output_type": "display_data"
    }
   ],
   "source": [
    "# plt.plot(y_test[:,0][200:1000],predict[0][200:1000])\n",
    "plt.scatter(y_test[:,0][0:10],predict[:][0][0:10],alpha=0.5)\n",
    "plt.show()"
   ]
  },
  {
   "cell_type": "code",
   "execution_count": 92,
   "metadata": {},
   "outputs": [
    {
     "data": {
      "text/plain": [
       "array([ 0.73858659,  1.22535408, -0.05017406, ..., -0.10227372,\n",
       "        0.3537558 , -0.12147191])"
      ]
     },
     "execution_count": 92,
     "metadata": {},
     "output_type": "execute_result"
    }
   ],
   "source": [
    "y_test[:,0]"
   ]
  },
  {
   "cell_type": "code",
   "execution_count": 49,
   "metadata": {},
   "outputs": [
    {
     "data": {
      "text/plain": [
       "array([[0.09      , 9.90999985]])"
      ]
     },
     "execution_count": 49,
     "metadata": {},
     "output_type": "execute_result"
    }
   ],
   "source": [
    "random_scale.transform([[0.09  , 9.90999985]])"
   ]
  },
  {
   "cell_type": "code",
   "execution_count": 53,
   "metadata": {},
   "outputs": [
    {
     "data": {
      "text/plain": [
       "(12.7721387584226, 69.942667009624, 325.80967280782)"
      ]
     },
     "execution_count": 53,
     "metadata": {},
     "output_type": "execute_result"
    }
   ],
   "source": [
    "max(green_[:,0]),max(green_[:,1]),max(green_[:,2])"
   ]
  },
  {
   "cell_type": "code",
   "execution_count": 52,
   "metadata": {},
   "outputs": [],
   "source": [
    "ran = random_scale.transform([[1,2]])"
   ]
  },
  {
   "cell_type": "code",
   "execution_count": 53,
   "metadata": {},
   "outputs": [
    {
     "data": {
      "text/plain": [
       "array([[1.07142851, 0.14224446]])"
      ]
     },
     "execution_count": 53,
     "metadata": {},
     "output_type": "execute_result"
    }
   ],
   "source": [
    "ran"
   ]
  },
  {
   "cell_type": "code",
   "execution_count": 54,
   "metadata": {},
   "outputs": [
    {
     "data": {
      "text/plain": [
       "1.7068106354022103"
      ]
     },
     "execution_count": 54,
     "metadata": {},
     "output_type": "execute_result"
    }
   ],
   "source": [
    "X"
   ]
  },
  {
   "cell_type": "code",
   "execution_count": 89,
   "metadata": {},
   "outputs": [
    {
     "data": {
      "text/plain": [
       "0.03998879980190932"
      ]
     },
     "execution_count": 89,
     "metadata": {},
     "output_type": "execute_result"
    }
   ],
   "source": [
    "green_[1][2]"
   ]
  },
  {
   "cell_type": "code",
   "execution_count": null,
   "metadata": {},
   "outputs": [],
   "source": []
  }
 ],
 "metadata": {
  "kernelspec": {
   "display_name": "Python 3",
   "language": "python",
   "name": "python3"
  },
  "language_info": {
   "codemirror_mode": {
    "name": "ipython",
    "version": 3
   },
   "file_extension": ".py",
   "mimetype": "text/x-python",
   "name": "python",
   "nbconvert_exporter": "python",
   "pygments_lexer": "ipython3",
   "version": "3.7.3"
  }
 },
 "nbformat": 4,
 "nbformat_minor": 2
}
