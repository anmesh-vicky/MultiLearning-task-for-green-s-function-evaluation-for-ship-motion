{
 "cells": [
  {
   "cell_type": "code",
   "execution_count": 4,
   "metadata": {},
   "outputs": [
    {
     "name": "stderr",
     "output_type": "stream",
     "text": [
      "Using TensorFlow backend.\n"
     ]
    }
   ],
   "source": [
    "import numpy as np\n",
    "import keras as k\n",
    "from sklearn.model_selection import train_test_split\n",
    "from sklearn import preprocessing\n",
    "from keras.models import Sequential\n",
    "from keras.layers import Dropout,Input, Dense,merge, Add\n",
    "from keras import optimizers\n",
    "from keras.models import Model\n",
    "import pandas as pd"
   ]
  },
  {
   "cell_type": "code",
   "execution_count": 5,
   "metadata": {},
   "outputs": [],
   "source": [
    "random_ = np.loadtxt(\"./Filon/random.txt\")\n",
    "green_ = np.loadtxt(\"./Filon/green.txt\")"
   ]
  },
  {
   "cell_type": "code",
   "execution_count": 6,
   "metadata": {},
   "outputs": [],
   "source": [
    "X = pd.DataFrame(columns=[\"amu\",\"beta\"])\n",
    "X[\"amu\"] = random_[:,0]\n",
    "X[\"beta\"] = random_[:,1]\n",
    "Y = pd.DataFrame(columns=[\"G\",\"damu\",\"dbeta\"])\n",
    "Y[\"G\"] = green_[:,0]\n",
    "Y[\"damu\"] = green_[:,1]\n",
    "Y[\"dbeta\"] = green_[:,2]"
   ]
  },
  {
   "cell_type": "code",
   "execution_count": 23,
   "metadata": {},
   "outputs": [],
   "source": [
    "X_train, X_test, y_train, y_test = train_test_split(X, Y, test_size=0.30, random_state=42)"
   ]
  },
  {
   "cell_type": "code",
   "execution_count": 9,
   "metadata": {},
   "outputs": [],
   "source": [
    "# scaler = Pre()\n",
    "random_scale = preprocessing.MinMaxScaler([0,5])\n",
    "green_scale = preprocessing.MinMaxScaler([0,5])\n",
    "\n",
    "random_scale.fit(X_train)\n",
    "green_scale.fit(y_train)\n",
    "X_train = random_scale.transform(X_train)\n",
    "X_test = random_scale.transform(X_test)\n",
    "\n",
    "y_train = green_scale.transform(y_train)\n",
    "y_test = green_scale.transform(y_test)"
   ]
  },
  {
   "cell_type": "code",
   "execution_count": 26,
   "metadata": {},
   "outputs": [],
   "source": [
    "# Y1,Y2,Y3 =y_train[:,0],y_train[:,1],y_train[:,2]\n",
    "# Y1_,Y2_,Y3_ =y_test[:,0],y_test[:,1],y_test[:,2]\n",
    "Y1,Y2,Y3 =y_train[\"G\"],y_train[\"damu\"],y_train[\"dbeta\"]\n",
    "Y1_,Y2_,Y3_ =y_test[\"G\"],y_test[\"damu\"],y_test[\"dbeta\"]"
   ]
  },
  {
   "cell_type": "code",
   "execution_count": 55,
   "metadata": {},
   "outputs": [],
   "source": [
    "Y1,Y2,Y3 = Y1.reshape(Y1.size,1),Y2.reshape(Y2.size,1),Y3.reshape(Y3.size,1)\n",
    "Y1_,Y2_,Y3_ = Y1_.reshape(Y1_.size,1),Y2_.reshape(Y2_.size,1),Y3_.reshape(Y3_.size,1)"
   ]
  },
  {
   "cell_type": "code",
   "execution_count": 7,
   "metadata": {},
   "outputs": [],
   "source": [
    "# model = Sequential()\n",
    "# model.add(Dense(100, input_dim=2, activation='relu'))\n",
    "# model.add(Dense(100, activation='relu'))\n",
    "# model.add(Dense(1000, activation='relu'))\n",
    "# model.add(Dense(1000, activation='relu'))\n",
    "# model.add(Dense(1000, activation='relu'))\n",
    "# model.add(Dense(500, activation='relu'))\n",
    "# model.add(Dense(50, activation='relu'))\n",
    "# model.add(Dense(10, activation='relu'))\n",
    "# model.add(Dropout(0.5))\n",
    "# model.add(Dense(3, activation=None))"
   ]
  },
  {
   "cell_type": "code",
   "execution_count": 56,
   "metadata": {},
   "outputs": [],
   "source": [
    "inputs = Input(shape=(2,))\n",
    "x = Dense(8, activation='tanh')(inputs)\n",
    "x = Dense(64, activation='tanh')(x)\n",
    "x = Dense(64, activation='tanh')(x)\n",
    "x = Dense(64, activation='tanh')(x)\n",
    "x_1 = Dense(64, activation='tanh')(x)\n",
    "x = Dense(64, activation='tanh')(x_1)\n",
    "# x = Dense(64, activation='relu')(x)\n",
    "\n",
    "\n",
    "\n",
    "\n",
    "x1_ = Dense(64, activation='tanh')(x)\n",
    "x1 = Dense(64, activation='tanh')(x1_)\n",
    "x1 = Dense(64, activation='tanh')(x1)\n",
    "x1 = Dense(64, activation='tanh')(x1)\n",
    "x1 = Dense(64, activation='tanh')(x1)\n",
    "# x = Dense(64, activation='relu')(x)\n",
    "x1 = Add()([x1, x1_])\n",
    "x1 = Dense(64, activation='tanh')(x)\n",
    "y1 = Dense(1, activation=None)(x1)\n",
    "\n",
    "x2_ = Dense(64, activation='tanh')(x)\n",
    "x2 = Dense(64, activation='tanh')(x2_)\n",
    "x2 = Dense(64, activation='tanh')(x2)\n",
    "x2 = Dense(64, activation='tanh')(x2)\n",
    "x2 = Dense(64, activation='tanh')(x2)\n",
    "x2 = Dense(64, activation='tanh')(x2)\n",
    "# x = Dense(64, activation='relu')(x)\n",
    "x2 = Add()([x2, x2_])\n",
    "y2 = Dense(1, activation=None)(x2)\n",
    "\n",
    "x3 = Dense(32, activation='tanh')(x)\n",
    "x3 = Dense(10, activation='tanh')(x3)\n",
    "y3 = Dense(1, activation=None)(x3)\n",
    "\n",
    "model = Model(inputs=inputs, outputs=[y1,y2,y3])\n"
   ]
  },
  {
   "cell_type": "code",
   "execution_count": 57,
   "metadata": {},
   "outputs": [],
   "source": [
    "sgd = optimizers.adam(lr=0.0001)\n"
   ]
  },
  {
   "cell_type": "code",
   "execution_count": 58,
   "metadata": {},
   "outputs": [],
   "source": [
    "model.compile(loss=['mean_squared_error','mean_squared_error','mean_squared_error'], optimizer=sgd, metrics=['mae'])\n"
   ]
  },
  {
   "cell_type": "code",
   "execution_count": 59,
   "metadata": {},
   "outputs": [
    {
     "name": "stdout",
     "output_type": "stream",
     "text": [
      "Train on 28440 samples, validate on 12189 samples\n",
      "Epoch 1/20\n",
      "28440/28440 [==============================] - 6s 220us/step - loss: 2.5548 - dense_36_loss: 1.0387 - dense_43_loss: 0.5767 - dense_46_loss: 0.9394 - dense_36_mean_absolute_error: 0.6415 - dense_43_mean_absolute_error: 0.4536 - dense_46_mean_absolute_error: 0.5845 - val_loss: 1.4406 - val_dense_36_loss: 0.5951 - val_dense_43_loss: 0.2622 - val_dense_46_loss: 0.5832 - val_dense_36_mean_absolute_error: 0.4911 - val_dense_43_mean_absolute_error: 0.3369 - val_dense_46_mean_absolute_error: 0.4208\n",
      "Epoch 2/20\n",
      "28440/28440 [==============================] - 5s 191us/step - loss: 1.2019 - dense_36_loss: 0.5220 - dense_43_loss: 0.1107 - dense_46_loss: 0.5692 - dense_36_mean_absolute_error: 0.4632 - dense_43_mean_absolute_error: 0.2223 - dense_46_mean_absolute_error: 0.4157 - val_loss: 1.0362 - val_dense_36_loss: 0.4250 - val_dense_43_loss: 0.0559 - val_dense_46_loss: 0.5553 - val_dense_36_mean_absolute_error: 0.4125 - val_dense_43_mean_absolute_error: 0.1467 - val_dense_46_mean_absolute_error: 0.4115\n",
      "Epoch 3/20\n",
      "28440/28440 [==============================] - 5s 191us/step - loss: 0.6663 - dense_36_loss: 0.2086 - dense_43_loss: 0.0383 - dense_46_loss: 0.4194 - dense_36_mean_absolute_error: 0.2994 - dense_43_mean_absolute_error: 0.1270 - dense_46_mean_absolute_error: 0.3729 - val_loss: 0.3295 - val_dense_36_loss: 0.0817 - val_dense_43_loss: 0.0247 - val_dense_46_loss: 0.2231 - val_dense_36_mean_absolute_error: 0.1877 - val_dense_43_mean_absolute_error: 0.1074 - val_dense_46_mean_absolute_error: 0.2907\n",
      "Epoch 4/20\n",
      "28440/28440 [==============================] - 5s 193us/step - loss: 0.1857 - dense_36_loss: 0.0496 - dense_43_loss: 0.0172 - dense_46_loss: 0.1189 - dense_36_mean_absolute_error: 0.1382 - dense_43_mean_absolute_error: 0.0810 - dense_46_mean_absolute_error: 0.2169 - val_loss: 0.1102 - val_dense_36_loss: 0.0267 - val_dense_43_loss: 0.0170 - val_dense_46_loss: 0.0665 - val_dense_36_mean_absolute_error: 0.0922 - val_dense_43_mean_absolute_error: 0.0757 - val_dense_46_mean_absolute_error: 0.1726\n",
      "Epoch 5/20\n",
      "28440/28440 [==============================] - 5s 193us/step - loss: 0.0799 - dense_36_loss: 0.0172 - dense_43_loss: 0.0080 - dense_46_loss: 0.0547 - dense_36_mean_absolute_error: 0.0797 - dense_43_mean_absolute_error: 0.0535 - dense_46_mean_absolute_error: 0.1546 - val_loss: 0.0580 - val_dense_36_loss: 0.0137 - val_dense_43_loss: 0.0047 - val_dense_46_loss: 0.0395 - val_dense_36_mean_absolute_error: 0.0760 - val_dense_43_mean_absolute_error: 0.0401 - val_dense_46_mean_absolute_error: 0.1334\n",
      "Epoch 6/20\n",
      "28440/28440 [==============================] - 6s 194us/step - loss: 0.0450 - dense_36_loss: 0.0094 - dense_43_loss: 0.0035 - dense_46_loss: 0.0321 - dense_36_mean_absolute_error: 0.0617 - dense_43_mean_absolute_error: 0.0360 - dense_46_mean_absolute_error: 0.1176 - val_loss: 0.0325 - val_dense_36_loss: 0.0076 - val_dense_43_loss: 0.0028 - val_dense_46_loss: 0.0222 - val_dense_36_mean_absolute_error: 0.0580 - val_dense_43_mean_absolute_error: 0.0346 - val_dense_46_mean_absolute_error: 0.0935\n",
      "Epoch 7/20\n",
      "28440/28440 [==============================] - 6s 196us/step - loss: 0.0248 - dense_36_loss: 0.0059 - dense_43_loss: 0.0020 - dense_46_loss: 0.0170 - dense_36_mean_absolute_error: 0.0485 - dense_43_mean_absolute_error: 0.0268 - dense_46_mean_absolute_error: 0.0810 - val_loss: 0.0191 - val_dense_36_loss: 0.0055 - val_dense_43_loss: 0.0017 - val_dense_46_loss: 0.0119 - val_dense_36_mean_absolute_error: 0.0443 - val_dense_43_mean_absolute_error: 0.0240 - val_dense_46_mean_absolute_error: 0.0641\n",
      "Epoch 8/20\n",
      "28440/28440 [==============================] - 6s 201us/step - loss: 0.0130 - dense_36_loss: 0.0035 - dense_43_loss: 0.0012 - dense_46_loss: 0.0082 - dense_36_mean_absolute_error: 0.0350 - dense_43_mean_absolute_error: 0.0222 - dense_46_mean_absolute_error: 0.0523 - val_loss: 0.0085 - val_dense_36_loss: 0.0025 - val_dense_43_loss: 7.4510e-04 - val_dense_46_loss: 0.0052 - val_dense_36_mean_absolute_error: 0.0289 - val_dense_43_mean_absolute_error: 0.0205 - val_dense_46_mean_absolute_error: 0.0416\n",
      "Epoch 9/20\n",
      "28440/28440 [==============================] - 6s 202us/step - loss: 0.0076 - dense_36_loss: 0.0022 - dense_43_loss: 7.9534e-04 - dense_46_loss: 0.0046 - dense_36_mean_absolute_error: 0.0270 - dense_43_mean_absolute_error: 0.0185 - dense_46_mean_absolute_error: 0.0408 - val_loss: 0.0056 - val_dense_36_loss: 0.0017 - val_dense_43_loss: 6.7552e-04 - val_dense_46_loss: 0.0033 - val_dense_36_mean_absolute_error: 0.0223 - val_dense_43_mean_absolute_error: 0.0159 - val_dense_46_mean_absolute_error: 0.0361\n",
      "Epoch 10/20\n",
      "28440/28440 [==============================] - 6s 205us/step - loss: 0.0051 - dense_36_loss: 0.0014 - dense_43_loss: 6.5121e-04 - dense_46_loss: 0.0030 - dense_36_mean_absolute_error: 0.0224 - dense_43_mean_absolute_error: 0.0173 - dense_46_mean_absolute_error: 0.0345 - val_loss: 0.0041 - val_dense_36_loss: 0.0012 - val_dense_43_loss: 5.6168e-04 - val_dense_46_loss: 0.0023 - val_dense_36_mean_absolute_error: 0.0224 - val_dense_43_mean_absolute_error: 0.0202 - val_dense_46_mean_absolute_error: 0.0307\n",
      "Epoch 11/20\n",
      "28440/28440 [==============================] - 6s 209us/step - loss: 0.0037 - dense_36_loss: 0.0010 - dense_43_loss: 4.6066e-04 - dense_46_loss: 0.0022 - dense_36_mean_absolute_error: 0.0195 - dense_43_mean_absolute_error: 0.0151 - dense_46_mean_absolute_error: 0.0294 - val_loss: 0.0026 - val_dense_36_loss: 8.7928e-04 - val_dense_43_loss: 1.8606e-04 - val_dense_46_loss: 0.0015 - val_dense_36_mean_absolute_error: 0.0195 - val_dense_43_mean_absolute_error: 0.0086 - val_dense_46_mean_absolute_error: 0.0239\n",
      "Epoch 12/20\n",
      "28440/28440 [==============================] - 6s 210us/step - loss: 0.0029 - dense_36_loss: 7.8837e-04 - dense_43_loss: 5.1523e-04 - dense_46_loss: 0.0015 - dense_36_mean_absolute_error: 0.0175 - dense_43_mean_absolute_error: 0.0154 - dense_46_mean_absolute_error: 0.0238 - val_loss: 0.0021 - val_dense_36_loss: 7.6639e-04 - val_dense_43_loss: 3.0691e-04 - val_dense_46_loss: 9.7837e-04 - val_dense_36_mean_absolute_error: 0.0214 - val_dense_43_mean_absolute_error: 0.0152 - val_dense_46_mean_absolute_error: 0.0177\n",
      "Epoch 13/20\n",
      "28440/28440 [==============================] - 6s 215us/step - loss: 0.0020 - dense_36_loss: 6.1039e-04 - dense_43_loss: 3.3456e-04 - dense_46_loss: 0.0011 - dense_36_mean_absolute_error: 0.0160 - dense_43_mean_absolute_error: 0.0123 - dense_46_mean_absolute_error: 0.0196 - val_loss: 0.0019 - val_dense_36_loss: 5.8054e-04 - val_dense_43_loss: 3.8374e-04 - val_dense_46_loss: 9.0415e-04 - val_dense_36_mean_absolute_error: 0.0150 - val_dense_43_mean_absolute_error: 0.0137 - val_dense_46_mean_absolute_error: 0.0188\n",
      "Epoch 14/20\n",
      "28440/28440 [==============================] - 6s 215us/step - loss: 0.0017 - dense_36_loss: 5.0381e-04 - dense_43_loss: 3.5132e-04 - dense_46_loss: 8.1828e-04 - dense_36_mean_absolute_error: 0.0144 - dense_43_mean_absolute_error: 0.0128 - dense_46_mean_absolute_error: 0.0180 - val_loss: 0.0017 - val_dense_36_loss: 4.7145e-04 - val_dense_43_loss: 4.4575e-04 - val_dense_46_loss: 8.2362e-04 - val_dense_36_mean_absolute_error: 0.0142 - val_dense_43_mean_absolute_error: 0.0145 - val_dense_46_mean_absolute_error: 0.0203\n",
      "Epoch 15/20\n",
      "28440/28440 [==============================] - 7s 232us/step - loss: 0.0014 - dense_36_loss: 4.0685e-04 - dense_43_loss: 2.8815e-04 - dense_46_loss: 6.5661e-04 - dense_36_mean_absolute_error: 0.0129 - dense_43_mean_absolute_error: 0.0116 - dense_46_mean_absolute_error: 0.0165 - val_loss: 8.6780e-04 - val_dense_36_loss: 3.0290e-04 - val_dense_43_loss: 1.2573e-04 - val_dense_46_loss: 4.3917e-04 - val_dense_36_mean_absolute_error: 0.0110 - val_dense_43_mean_absolute_error: 0.0087 - val_dense_46_mean_absolute_error: 0.0137\n",
      "Epoch 16/20\n",
      "28440/28440 [==============================] - 6s 226us/step - loss: 0.0011 - dense_36_loss: 3.4110e-04 - dense_43_loss: 2.7245e-04 - dense_46_loss: 5.2783e-04 - dense_36_mean_absolute_error: 0.0117 - dense_43_mean_absolute_error: 0.0110 - dense_46_mean_absolute_error: 0.0150 - val_loss: 7.0100e-04 - val_dense_36_loss: 2.1904e-04 - val_dense_43_loss: 1.2815e-04 - val_dense_46_loss: 3.5381e-04 - val_dense_36_mean_absolute_error: 0.0093 - val_dense_43_mean_absolute_error: 0.0094 - val_dense_46_mean_absolute_error: 0.0126\n"
     ]
    },
    {
     "name": "stdout",
     "output_type": "stream",
     "text": [
      "Epoch 17/20\n",
      "28440/28440 [==============================] - 6s 217us/step - loss: 0.0010 - dense_36_loss: 3.0698e-04 - dense_43_loss: 2.5280e-04 - dense_46_loss: 4.6222e-04 - dense_36_mean_absolute_error: 0.0111 - dense_43_mean_absolute_error: 0.0108 - dense_46_mean_absolute_error: 0.0141 - val_loss: 6.6725e-04 - val_dense_36_loss: 1.6881e-04 - val_dense_43_loss: 2.1043e-04 - val_dense_46_loss: 2.8801e-04 - val_dense_36_mean_absolute_error: 0.0083 - val_dense_43_mean_absolute_error: 0.0114 - val_dense_46_mean_absolute_error: 0.0111\n",
      "Epoch 18/20\n",
      "28440/28440 [==============================] - 6s 225us/step - loss: 8.4412e-04 - dense_36_loss: 2.6269e-04 - dense_43_loss: 2.0327e-04 - dense_46_loss: 3.7816e-04 - dense_36_mean_absolute_error: 0.0103 - dense_43_mean_absolute_error: 0.0097 - dense_46_mean_absolute_error: 0.0128 - val_loss: 7.9970e-04 - val_dense_36_loss: 2.9333e-04 - val_dense_43_loss: 1.2264e-04 - val_dense_46_loss: 3.8373e-04 - val_dense_36_mean_absolute_error: 0.0099 - val_dense_43_mean_absolute_error: 0.0073 - val_dense_46_mean_absolute_error: 0.0141\n",
      "Epoch 19/20\n",
      "28440/28440 [==============================] - 6s 220us/step - loss: 8.0599e-04 - dense_36_loss: 2.4247e-04 - dense_43_loss: 2.1619e-04 - dense_46_loss: 3.4732e-04 - dense_36_mean_absolute_error: 0.0098 - dense_43_mean_absolute_error: 0.0101 - dense_46_mean_absolute_error: 0.0122 - val_loss: 3.8449e-04 - val_dense_36_loss: 1.2902e-04 - val_dense_43_loss: 5.7433e-05 - val_dense_46_loss: 1.9804e-04 - val_dense_36_mean_absolute_error: 0.0072 - val_dense_43_mean_absolute_error: 0.0049 - val_dense_46_mean_absolute_error: 0.0096\n",
      "Epoch 20/20\n",
      "28440/28440 [==============================] - 6s 221us/step - loss: 6.7030e-04 - dense_36_loss: 2.0543e-04 - dense_43_loss: 1.7737e-04 - dense_46_loss: 2.8751e-04 - dense_36_mean_absolute_error: 0.0089 - dense_43_mean_absolute_error: 0.0089 - dense_46_mean_absolute_error: 0.0112 - val_loss: 7.1784e-04 - val_dense_36_loss: 2.4537e-04 - val_dense_43_loss: 1.5605e-04 - val_dense_46_loss: 3.1642e-04 - val_dense_36_mean_absolute_error: 0.0128 - val_dense_43_mean_absolute_error: 0.0097 - val_dense_46_mean_absolute_error: 0.0114\n"
     ]
    }
   ],
   "source": [
    "history = model.fit([X_train], [Y1,Y2,Y3], epochs=20, batch_size=32,validation_data=([X_test],[Y1_,Y2_,Y3_]))"
   ]
  },
  {
   "cell_type": "code",
   "execution_count": 64,
   "metadata": {},
   "outputs": [
    {
     "data": {
      "image/png": "[encoded data removed]",
      "text/plain": [
       "<Figure size 432x288 with 1 Axes>"
      ]
     },
     "metadata": {
      "needs_background": "light"
     },
     "output_type": "display_data"
    }
   ],
   "source": [
    "import matplotlib.pyplot as plt\n",
    "\n",
    "plt.plot(history.history['loss'])\n",
    "plt.plot(history.history['val_loss'])\n",
    "plt.title('Model loss')\n",
    "plt.ylabel('Loss')\n",
    "plt.xlabel('Epoch')\n",
    "plt.legend(['Train', 'Test'], loc='upper left')\n",
    "plt.show()\n"
   ]
  },
  {
   "cell_type": "code",
   "execution_count": 61,
   "metadata": {},
   "outputs": [],
   "source": [
    "input_ = random_scale.transform(X)\n",
    "output_ = model.predict(input_)"
   ]
  },
  {
   "cell_type": "code",
   "execution_count": 62,
   "metadata": {},
   "outputs": [],
   "source": [
    "output_ = np.transpose(np.array(output_))\n",
    "output_ = green_scale.inverse_transform(output_.reshape(output_.shape[1],3))\n"
   ]
  },
  {
   "cell_type": "code",
   "execution_count": 63,
   "metadata": {
    "scrolled": true
   },
   "outputs": [
    {
     "data": {
      "text/plain": [
       "[<matplotlib.lines.Line2D at 0x7f1c75b8e6a0>]"
      ]
     },
     "execution_count": 63,
     "metadata": {},
     "output_type": "execute_result"
    },
    {
     "data": {
      "image/png": "[encoded data removed]",
      "text/plain": [
       "<Figure size 432x288 with 1 Axes>"
      ]
     },
     "metadata": {
      "needs_background": "light"
     },
     "output_type": "display_data"
    }
   ],
   "source": [
    "plt.plot(output_[:,2],green_[:,2])"
   ]
  },
  {
   "cell_type": "code",
   "execution_count": 1,
   "metadata": {},
   "outputs": [],
   "source": [
    "from sklearn.ensemble import RandomForestRegressor\n",
    "from sklearn.datasets import make_regression"
   ]
  },
  {
   "cell_type": "code",
   "execution_count": 36,
   "metadata": {},
   "outputs": [
    {
     "data": {
      "text/plain": [
       "RandomForestRegressor(bootstrap=True, criterion='mse', max_depth=2,\n",
       "                      max_features='auto', max_leaf_nodes=None,\n",
       "                      min_impurity_decrease=0.0, min_impurity_split=None,\n",
       "                      min_samples_leaf=1, min_samples_split=2,\n",
       "                      min_weight_fraction_leaf=0.0, n_estimators=100,\n",
       "                      n_jobs=None, oob_score=False, random_state=0, verbose=0,\n",
       "                      warm_start=False)"
      ]
     },
     "execution_count": 36,
     "metadata": {},
     "output_type": "execute_result"
    }
   ],
   "source": [
    "regr = RandomForestRegressor(max_depth=2000, random_state=0,\n",
    "                             n_estimators=1000)\n",
    "regr.fit(X_train, Y1)  \n",
    "RandomForestRegressor(bootstrap=True, criterion='mse', max_depth=2,\n",
    "           max_features='auto', max_leaf_nodes=None,\n",
    "           min_impurity_decrease=0.0, min_impurity_split=None,\n",
    "           min_samples_leaf=1, min_samples_split=2,\n",
    "           min_weight_fraction_leaf=0.0, n_estimators=100, n_jobs=None,\n",
    "           oob_score=False, random_state=0, verbose=0, warm_start=False)"
   ]
  },
  {
   "cell_type": "code",
   "execution_count": 40,
   "metadata": {},
   "outputs": [
    {
     "data": {
      "text/plain": [
       "0.047833444514077325"
      ]
     },
     "execution_count": 40,
     "metadata": {},
     "output_type": "execute_result"
    }
   ],
   "source": [
    "(np.sum(np.square(regr.predict(X_test)-Y1_)))"
   ]
  },
  {
   "cell_type": "code",
   "execution_count": null,
   "metadata": {},
   "outputs": [],
   "source": []
  }
 ],
 "metadata": {
  "kernelspec": {
   "display_name": "Python 3",
   "language": "python",
   "name": "python3"
  },
  "language_info": {
   "codemirror_mode": {
    "name": "ipython",
    "version": 3
   },
   "file_extension": ".py",
   "mimetype": "text/x-python",
   "name": "python",
   "nbconvert_exporter": "python",
   "pygments_lexer": "ipython3",
   "version": "3.7.3"
  }
 },
 "nbformat": 4,
 "nbformat_minor": 2
}
