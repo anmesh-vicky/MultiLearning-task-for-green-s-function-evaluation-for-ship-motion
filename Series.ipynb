{
 "cells": [
  {
   "cell_type": "code",
   "execution_count": 26,
   "metadata": {},
   "outputs": [],
   "source": [
    "import numpy as np\n",
    "import keras as k\n",
    "from sklearn.model_selection import train_test_split\n",
    "from sklearn import preprocessing\n",
    "from keras.models import Sequential\n",
    "from keras.layers import Dropout,Input, Dense,merge, Add\n",
    "from keras import optimizers\n",
    "from keras.models import Model\n",
    "import pandas as pd"
   ]
  },
  {
   "cell_type": "code",
   "execution_count": 27,
   "metadata": {},
   "outputs": [],
   "source": [
    "random_ = np.loadtxt(\"./series/random.txt\")\n",
    "green_ = np.loadtxt(\"./series/green.txt\")"
   ]
  },
  {
   "cell_type": "code",
   "execution_count": 35,
   "metadata": {},
   "outputs": [],
   "source": [
    "X = pd.DataFrame(columns=[\"amu\",\"beta\"])\n",
    "X[\"amu\"] = random_[:,0]\n",
    "X[\"beta\"] = random_[:,1]\n",
    "Y = pd.DataFrame(columns=[\"G\",\"damu\",\"dbeta\"])\n",
    "Y[\"G\"] = green_[:,0]\n",
    "Y[\"damu\"] = green_[:,1]\n",
    "Y[\"dbeta\"] = green_[:,2]"
   ]
  },
  {
   "cell_type": "code",
   "execution_count": 57,
   "metadata": {},
   "outputs": [
    {
     "data": {
      "text/plain": [
       "G       -0.001727\n",
       "damu     0.013334\n",
       "dbeta    0.010205\n",
       "dtype: float64"
      ]
     },
     "execution_count": 57,
     "metadata": {},
     "output_type": "execute_result"
    }
   ],
   "source": [
    "Y.median(axis = 0)"
   ]
  },
  {
   "cell_type": "code",
   "execution_count": 37,
   "metadata": {},
   "outputs": [],
   "source": [
    "X_train, X_test, y_train, y_test = train_test_split(X, Y, test_size=0.30, random_state=42)"
   ]
  },
  {
   "cell_type": "code",
   "execution_count": 38,
   "metadata": {},
   "outputs": [],
   "source": [
    "# scaler = Pre()\n",
    "random_scale = preprocessing.MinMaxScaler([0,5])\n",
    "green_scale = preprocessing.MinMaxScaler([0,5])\n",
    "\n",
    "random_scale.fit(X_train)\n",
    "green_scale.fit(y_train)\n",
    "X_train = random_scale.transform(X_train)\n",
    "X_test = random_scale.transform(X_test)\n",
    "\n",
    "y_train = green_scale.transform(y_train)\n",
    "y_test = green_scale.transform(y_test)"
   ]
  },
  {
   "cell_type": "code",
   "execution_count": 39,
   "metadata": {},
   "outputs": [],
   "source": [
    "Y1,Y2,Y3 =y_train[:,0],y_train[:,1],y_train[:,2]\n",
    "Y1_,Y2_,Y3_ =y_test[:,0],y_test[:,1],y_test[:,2]"
   ]
  },
  {
   "cell_type": "code",
   "execution_count": 40,
   "metadata": {},
   "outputs": [],
   "source": [
    "Y1,Y2,Y3 = Y1.reshape(Y1.size,1),Y2.reshape(Y2.size,1),Y3.reshape(Y3.size,1)\n",
    "Y1_,Y2_,Y3_ = Y1_.reshape(Y1_.size,1),Y2_.reshape(Y2_.size,1),Y3_.reshape(Y3_.size,1)"
   ]
  },
  {
   "cell_type": "code",
   "execution_count": 42,
   "metadata": {},
   "outputs": [],
   "source": [
    "inputs = Input(shape=(2,))\n",
    "x = Dense(8, activation='tanh')(inputs)\n",
    "x = Dense(64, activation='tanh')(x)\n",
    "x = Dense(64, activation='tanh')(x)\n",
    "x = Dense(64, activation='tanh')(x)\n",
    "x_1 = Dense(64, activation='tanh')(x)\n",
    "x = Dense(64, activation='tanh')(x_1)\n",
    "# x = Dense(64, activation='relu')(x)\n",
    "\n",
    "\n",
    "\n",
    "\n",
    "x1_ = Dense(64, activation='tanh')(x)\n",
    "x1 = Dense(64, activation='tanh')(x1_)\n",
    "x1 = Dense(64, activation='tanh')(x1)\n",
    "x1 = Dense(64, activation='tanh')(x1)\n",
    "x1 = Dense(64, activation='tanh')(x1)\n",
    "# x = Dense(64, activation='relu')(x)\n",
    "x1 = Add()([x1, x1_])\n",
    "x1 = Dense(64, activation='tanh')(x)\n",
    "y1 = Dense(1, activation=None)(x1)\n",
    "\n",
    "x2_ = Dense(64, activation='tanh')(x)\n",
    "x2 = Dense(64, activation='tanh')(x2_)\n",
    "x2 = Dense(64, activation='tanh')(x2)\n",
    "x2 = Dense(64, activation='tanh')(x2)\n",
    "x2 = Dense(64, activation='tanh')(x2)\n",
    "x2 = Dense(64, activation='tanh')(x2)\n",
    "# x = Dense(64, activation='relu')(x)\n",
    "x2 = Add()([x2, x2_])\n",
    "y2 = Dense(1, activation=None)(x2)\n",
    "\n",
    "x3 = Dense(32, activation='tanh')(x)\n",
    "x3 = Dense(10, activation='tanh')(x3)\n",
    "y3 = Dense(1, activation=None)(x3)\n",
    "\n",
    "model = Model(inputs=inputs, outputs=[y1,y2,y3])\n"
   ]
  },
  {
   "cell_type": "code",
   "execution_count": 43,
   "metadata": {},
   "outputs": [],
   "source": [
    "sgd = optimizers.adam(lr=0.0001)\n"
   ]
  },
  {
   "cell_type": "code",
   "execution_count": 44,
   "metadata": {},
   "outputs": [],
   "source": [
    "def time_decay(epoch, initial_lrate):\n",
    "    decay_rate = 0.001\n",
    "    new_lrate = initial_lrate/(1+decay_rate*epoch)\n",
    "    return new_lrate\n",
    "from keras.callbacks import LearningRateScheduler\n",
    "lrate = LearningRateScheduler(time_decay,verbose=1)"
   ]
  },
  {
   "cell_type": "code",
   "execution_count": 45,
   "metadata": {},
   "outputs": [],
   "source": [
    "model.compile(loss=['mean_squared_error','mean_squared_error','mean_squared_error'], optimizer=sgd, metrics=['mean_absolute_percentage_error'],)\n"
   ]
  },
  {
   "cell_type": "code",
   "execution_count": 46,
   "metadata": {},
   "outputs": [
    {
     "name": "stdout",
     "output_type": "stream",
     "text": [
      "Train on 49749 samples, validate on 21322 samples\n",
      "Epoch 1/40\n",
      "\n",
      "Epoch 00001: LearningRateScheduler setting learning rate to 9.999999747378752e-05.\n",
      "49749/49749 [==============================] - 15s 294us/step - loss: 0.3575 - dense_36_loss: 0.2070 - dense_43_loss: 0.0804 - dense_46_loss: 0.0701 - dense_36_mean_absolute_percentage_error: 48121.4052 - dense_43_mean_absolute_percentage_error: 16557.0958 - dense_46_mean_absolute_percentage_error: 46586.9814 - val_loss: 0.1624 - val_dense_36_loss: 0.0902 - val_dense_43_loss: 0.0409 - val_dense_46_loss: 0.0313 - val_dense_36_mean_absolute_percentage_error: 13.4531 - val_dense_43_mean_absolute_percentage_error: 13.1375 - val_dense_46_mean_absolute_percentage_error: 12.0512\n",
      "Epoch 2/40\n",
      "\n",
      "Epoch 00002: LearningRateScheduler setting learning rate to 9.990009737641112e-05.\n",
      "49749/49749 [==============================] - 11s 222us/step - loss: 0.1596 - dense_36_loss: 0.0892 - dense_43_loss: 0.0394 - dense_46_loss: 0.0310 - dense_36_mean_absolute_percentage_error: 51247.4256 - dense_43_mean_absolute_percentage_error: 47892.1068 - dense_46_mean_absolute_percentage_error: 46206.3997 - val_loss: 0.1606 - val_dense_36_loss: 0.0882 - val_dense_43_loss: 0.0412 - val_dense_46_loss: 0.0311 - val_dense_36_mean_absolute_percentage_error: 13.1851 - val_dense_43_mean_absolute_percentage_error: 13.4895 - val_dense_46_mean_absolute_percentage_error: 11.8020\n",
      "Epoch 3/40\n",
      "\n",
      "Epoch 00003: LearningRateScheduler setting learning rate to 9.970069718138201e-05.\n",
      "49749/49749 [==============================] - 11s 222us/step - loss: 0.1580 - dense_36_loss: 0.0876 - dense_43_loss: 0.0394 - dense_46_loss: 0.0310 - dense_36_mean_absolute_percentage_error: 52097.0027 - dense_43_mean_absolute_percentage_error: 46937.8363 - dense_46_mean_absolute_percentage_error: 45660.5139 - val_loss: 0.1595 - val_dense_36_loss: 0.0860 - val_dense_43_loss: 0.0417 - val_dense_46_loss: 0.0318 - val_dense_36_mean_absolute_percentage_error: 13.0848 - val_dense_43_mean_absolute_percentage_error: 13.7603 - val_dense_46_mean_absolute_percentage_error: 12.3983\n",
      "Epoch 4/40\n",
      "\n",
      "Epoch 00004: LearningRateScheduler setting learning rate to 9.940248622270237e-05.\n",
      "49749/49749 [==============================] - 11s 223us/step - loss: 0.1572 - dense_36_loss: 0.0867 - dense_43_loss: 0.0395 - dense_46_loss: 0.0309 - dense_36_mean_absolute_percentage_error: 50464.0015 - dense_43_mean_absolute_percentage_error: 46668.9805 - dense_46_mean_absolute_percentage_error: 46735.2963 - val_loss: 0.1599 - val_dense_36_loss: 0.0867 - val_dense_43_loss: 0.0405 - val_dense_46_loss: 0.0328 - val_dense_36_mean_absolute_percentage_error: 13.0201 - val_dense_43_mean_absolute_percentage_error: 13.1580 - val_dense_46_mean_absolute_percentage_error: 12.6142\n",
      "Epoch 5/40\n",
      "\n",
      "Epoch 00005: LearningRateScheduler setting learning rate to 9.900646270772227e-05.\n",
      "49749/49749 [==============================] - 11s 225us/step - loss: 0.1563 - dense_36_loss: 0.0863 - dense_43_loss: 0.0391 - dense_46_loss: 0.0309 - dense_36_mean_absolute_percentage_error: 50912.8423 - dense_43_mean_absolute_percentage_error: 46113.6805 - dense_46_mean_absolute_percentage_error: 45966.1937 - val_loss: 0.1629 - val_dense_36_loss: 0.0872 - val_dense_43_loss: 0.0434 - val_dense_46_loss: 0.0323 - val_dense_36_mean_absolute_percentage_error: 13.2332 - val_dense_43_mean_absolute_percentage_error: 13.7569 - val_dense_46_mean_absolute_percentage_error: 12.7242\n",
      "Epoch 6/40\n",
      "\n",
      "Epoch 00006: LearningRateScheduler setting learning rate to 9.851389598166246e-05.\n",
      "49749/49749 [==============================] - 11s 228us/step - loss: 0.1557 - dense_36_loss: 0.0859 - dense_43_loss: 0.0392 - dense_46_loss: 0.0307 - dense_36_mean_absolute_percentage_error: 50599.3479 - dense_43_mean_absolute_percentage_error: 48023.1826 - dense_46_mean_absolute_percentage_error: 45377.2575 - val_loss: 0.1561 - val_dense_36_loss: 0.0845 - val_dense_43_loss: 0.0405 - val_dense_46_loss: 0.0311 - val_dense_36_mean_absolute_percentage_error: 12.5453 - val_dense_43_mean_absolute_percentage_error: 13.1017 - val_dense_46_mean_absolute_percentage_error: 11.9500\n",
      "Epoch 7/40\n",
      "\n",
      "Epoch 00007: LearningRateScheduler setting learning rate to 9.792633964513497e-05.\n",
      "49749/49749 [==============================] - 12s 235us/step - loss: 0.1546 - dense_36_loss: 0.0851 - dense_43_loss: 0.0389 - dense_46_loss: 0.0306 - dense_36_mean_absolute_percentage_error: 54536.6205 - dense_43_mean_absolute_percentage_error: 46916.6347 - dense_46_mean_absolute_percentage_error: 46022.5169 - val_loss: 0.1581 - val_dense_36_loss: 0.0835 - val_dense_43_loss: 0.0437 - val_dense_46_loss: 0.0309 - val_dense_36_mean_absolute_percentage_error: 12.7257 - val_dense_43_mean_absolute_percentage_error: 14.0519 - val_dense_46_mean_absolute_percentage_error: 11.5609\n",
      "Epoch 8/40\n",
      "\n",
      "Epoch 00008: LearningRateScheduler setting learning rate to 9.724562291736607e-05.\n",
      "49749/49749 [==============================] - 12s 239us/step - loss: 0.1540 - dense_36_loss: 0.0846 - dense_43_loss: 0.0388 - dense_46_loss: 0.0306 - dense_36_mean_absolute_percentage_error: 49918.9780 - dense_43_mean_absolute_percentage_error: 46796.7334 - dense_46_mean_absolute_percentage_error: 45367.4828 - val_loss: 0.1551 - val_dense_36_loss: 0.0833 - val_dense_43_loss: 0.0408 - val_dense_46_loss: 0.0310 - val_dense_36_mean_absolute_percentage_error: 12.7698 - val_dense_43_mean_absolute_percentage_error: 13.4029 - val_dense_46_mean_absolute_percentage_error: 11.6468\n",
      "Epoch 9/40\n",
      "\n",
      "Epoch 00009: LearningRateScheduler setting learning rate to 9.647383483261654e-05.\n",
      "49749/49749 [==============================] - 12s 246us/step - loss: 0.1538 - dense_36_loss: 0.0844 - dense_43_loss: 0.0388 - dense_46_loss: 0.0306 - dense_36_mean_absolute_percentage_error: 52085.6856 - dense_43_mean_absolute_percentage_error: 47203.1921 - dense_46_mean_absolute_percentage_error: 45703.6660 - val_loss: 0.1570 - val_dense_36_loss: 0.0857 - val_dense_43_loss: 0.0403 - val_dense_46_loss: 0.0311 - val_dense_36_mean_absolute_percentage_error: 13.1450 - val_dense_43_mean_absolute_percentage_error: 13.0591 - val_dense_46_mean_absolute_percentage_error: 11.5793\n",
      "Epoch 10/40\n",
      "\n",
      "Epoch 00010: LearningRateScheduler setting learning rate to 9.561331574163586e-05.\n",
      "49749/49749 [==============================] - 12s 250us/step - loss: 0.1526 - dense_36_loss: 0.0836 - dense_43_loss: 0.0385 - dense_46_loss: 0.0306 - dense_36_mean_absolute_percentage_error: 51922.1186 - dense_43_mean_absolute_percentage_error: 47985.4996 - dense_46_mean_absolute_percentage_error: 45798.9498 - val_loss: 0.1535 - val_dense_36_loss: 0.0822 - val_dense_43_loss: 0.0402 - val_dense_46_loss: 0.0310 - val_dense_36_mean_absolute_percentage_error: 12.6681 - val_dense_43_mean_absolute_percentage_error: 13.0511 - val_dense_46_mean_absolute_percentage_error: 11.6415\n",
      "Epoch 11/40\n",
      "\n",
      "Epoch 00011: LearningRateScheduler setting learning rate to 9.466664886360269e-05.\n",
      "49749/49749 [==============================] - 13s 252us/step - loss: 0.1511 - dense_36_loss: 0.0822 - dense_43_loss: 0.0385 - dense_46_loss: 0.0305 - dense_36_mean_absolute_percentage_error: 50790.0365 - dense_43_mean_absolute_percentage_error: 47595.3384 - dense_46_mean_absolute_percentage_error: 45402.9131 - val_loss: 0.1521 - val_dense_36_loss: 0.0800 - val_dense_43_loss: 0.0413 - val_dense_46_loss: 0.0308 - val_dense_36_mean_absolute_percentage_error: 12.0405 - val_dense_43_mean_absolute_percentage_error: 13.6856 - val_dense_46_mean_absolute_percentage_error: 11.6763\n",
      "Epoch 12/40\n",
      "\n",
      "Epoch 00012: LearningRateScheduler setting learning rate to 9.363664469140942e-05.\n",
      "49749/49749 [==============================] - 13s 257us/step - loss: 0.1497 - dense_36_loss: 0.0809 - dense_43_loss: 0.0383 - dense_46_loss: 0.0305 - dense_36_mean_absolute_percentage_error: 50612.2764 - dense_43_mean_absolute_percentage_error: 48084.9474 - dense_46_mean_absolute_percentage_error: 46031.9031 - val_loss: 0.1505 - val_dense_36_loss: 0.0796 - val_dense_43_loss: 0.0400 - val_dense_46_loss: 0.0310 - val_dense_36_mean_absolute_percentage_error: 12.3538 - val_dense_43_mean_absolute_percentage_error: 12.9487 - val_dense_46_mean_absolute_percentage_error: 11.5153\n",
      "Epoch 13/40\n",
      "\n",
      "Epoch 00013: LearningRateScheduler setting learning rate to 9.252632548940541e-05.\n"
     ]
    },
    {
     "name": "stdout",
     "output_type": "stream",
     "text": [
      "49749/49749 [==============================] - 12s 246us/step - loss: 0.1467 - dense_36_loss: 0.0782 - dense_43_loss: 0.0380 - dense_46_loss: 0.0305 - dense_36_mean_absolute_percentage_error: 49431.0735 - dense_43_mean_absolute_percentage_error: 46961.5791 - dense_46_mean_absolute_percentage_error: 45821.2071 - val_loss: 0.1470 - val_dense_36_loss: 0.0760 - val_dense_43_loss: 0.0402 - val_dense_46_loss: 0.0308 - val_dense_36_mean_absolute_percentage_error: 11.7501 - val_dense_43_mean_absolute_percentage_error: 12.7899 - val_dense_46_mean_absolute_percentage_error: 11.5909\n",
      "Epoch 14/40\n",
      "\n",
      "Epoch 00014: LearningRateScheduler setting learning rate to 9.13389170655442e-05.\n",
      "49749/49749 [==============================] - 12s 248us/step - loss: 0.1433 - dense_36_loss: 0.0751 - dense_43_loss: 0.0377 - dense_46_loss: 0.0304 - dense_36_mean_absolute_percentage_error: 51184.5140 - dense_43_mean_absolute_percentage_error: 47445.8947 - dense_46_mean_absolute_percentage_error: 46432.5868 - val_loss: 0.1438 - val_dense_36_loss: 0.0731 - val_dense_43_loss: 0.0397 - val_dense_46_loss: 0.0310 - val_dense_36_mean_absolute_percentage_error: 11.6312 - val_dense_43_mean_absolute_percentage_error: 13.1132 - val_dense_46_mean_absolute_percentage_error: 11.4390\n",
      "Epoch 15/40\n",
      "\n",
      "Epoch 00015: LearningRateScheduler setting learning rate to 9.007782624121498e-05.\n",
      "49749/49749 [==============================] - 13s 253us/step - loss: 0.1382 - dense_36_loss: 0.0707 - dense_43_loss: 0.0371 - dense_46_loss: 0.0304 - dense_36_mean_absolute_percentage_error: 52427.9906 - dense_43_mean_absolute_percentage_error: 47563.3187 - dense_46_mean_absolute_percentage_error: 45670.8842 - val_loss: 0.1363 - val_dense_36_loss: 0.0671 - val_dense_43_loss: 0.0384 - val_dense_46_loss: 0.0308 - val_dense_36_mean_absolute_percentage_error: 10.9861 - val_dense_43_mean_absolute_percentage_error: 12.6641 - val_dense_46_mean_absolute_percentage_error: 11.5124\n",
      "Epoch 16/40\n",
      "\n",
      "Epoch 00016: LearningRateScheduler setting learning rate to 8.874662562268856e-05.\n",
      "49749/49749 [==============================] - 12s 250us/step - loss: 0.1303 - dense_36_loss: 0.0647 - dense_43_loss: 0.0353 - dense_46_loss: 0.0303 - dense_36_mean_absolute_percentage_error: 51044.1125 - dense_43_mean_absolute_percentage_error: 46858.0439 - dense_46_mean_absolute_percentage_error: 45266.2544 - val_loss: 0.1302 - val_dense_36_loss: 0.0629 - val_dense_43_loss: 0.0366 - val_dense_46_loss: 0.0307 - val_dense_36_mean_absolute_percentage_error: 10.0669 - val_dense_43_mean_absolute_percentage_error: 12.6973 - val_dense_46_mean_absolute_percentage_error: 11.8943\n",
      "Epoch 17/40\n",
      "\n",
      "Epoch 00017: LearningRateScheduler setting learning rate to 8.734903846249557e-05.\n",
      "49749/49749 [==============================] - 13s 253us/step - loss: 0.1237 - dense_36_loss: 0.0604 - dense_43_loss: 0.0333 - dense_46_loss: 0.0300 - dense_36_mean_absolute_percentage_error: 50781.2678 - dense_43_mean_absolute_percentage_error: 47082.3492 - dense_46_mean_absolute_percentage_error: 46650.8452 - val_loss: 0.1240 - val_dense_36_loss: 0.0580 - val_dense_43_loss: 0.0355 - val_dense_46_loss: 0.0305 - val_dense_36_mean_absolute_percentage_error: 10.1194 - val_dense_43_mean_absolute_percentage_error: 11.3700 - val_dense_46_mean_absolute_percentage_error: 11.9400\n",
      "Epoch 18/40\n",
      "\n",
      "Epoch 00018: LearningRateScheduler setting learning rate to 8.588892361011829e-05.\n",
      "49749/49749 [==============================] - 13s 253us/step - loss: 0.1195 - dense_36_loss: 0.0579 - dense_43_loss: 0.0318 - dense_46_loss: 0.0297 - dense_36_mean_absolute_percentage_error: 48455.1894 - dense_43_mean_absolute_percentage_error: 47176.2210 - dense_46_mean_absolute_percentage_error: 46357.4479 - val_loss: 0.1210 - val_dense_36_loss: 0.0577 - val_dense_43_loss: 0.0331 - val_dense_46_loss: 0.0302 - val_dense_36_mean_absolute_percentage_error: 10.3281 - val_dense_43_mean_absolute_percentage_error: 12.4553 - val_dense_46_mean_absolute_percentage_error: 11.6250\n",
      "Epoch 19/40\n",
      "\n",
      "Epoch 00019: LearningRateScheduler setting learning rate to 8.437026055138156e-05.\n",
      "49749/49749 [==============================] - 13s 257us/step - loss: 0.1153 - dense_36_loss: 0.0559 - dense_43_loss: 0.0300 - dense_46_loss: 0.0294 - dense_36_mean_absolute_percentage_error: 46494.4875 - dense_43_mean_absolute_percentage_error: 46232.8753 - dense_46_mean_absolute_percentage_error: 46796.0677 - val_loss: 0.1178 - val_dense_36_loss: 0.0556 - val_dense_43_loss: 0.0325 - val_dense_46_loss: 0.0297 - val_dense_36_mean_absolute_percentage_error: 9.6747 - val_dense_43_mean_absolute_percentage_error: 11.6361 - val_dense_46_mean_absolute_percentage_error: 11.4426\n",
      "Epoch 20/40\n",
      "\n",
      "Epoch 00020: LearningRateScheduler setting learning rate to 8.279711311505752e-05.\n",
      "49749/49749 [==============================] - 13s 258us/step - loss: 0.1122 - dense_36_loss: 0.0542 - dense_43_loss: 0.0287 - dense_46_loss: 0.0293 - dense_36_mean_absolute_percentage_error: 49730.4910 - dense_43_mean_absolute_percentage_error: 46526.8707 - dense_46_mean_absolute_percentage_error: 47838.5776 - val_loss: 0.1112 - val_dense_36_loss: 0.0525 - val_dense_43_loss: 0.0294 - val_dense_46_loss: 0.0293 - val_dense_36_mean_absolute_percentage_error: 9.2901 - val_dense_43_mean_absolute_percentage_error: 11.1950 - val_dense_46_mean_absolute_percentage_error: 11.4039\n",
      "Epoch 21/40\n",
      "\n",
      "Epoch 00021: LearningRateScheduler setting learning rate to 8.117364332600333e-05.\n",
      "49749/49749 [==============================] - 13s 259us/step - loss: 0.1094 - dense_36_loss: 0.0525 - dense_43_loss: 0.0278 - dense_46_loss: 0.0291 - dense_36_mean_absolute_percentage_error: 49270.5068 - dense_43_mean_absolute_percentage_error: 45213.2414 - dense_46_mean_absolute_percentage_error: 46029.3425 - val_loss: 0.1099 - val_dense_36_loss: 0.0513 - val_dense_43_loss: 0.0293 - val_dense_46_loss: 0.0293 - val_dense_36_mean_absolute_percentage_error: 9.2251 - val_dense_43_mean_absolute_percentage_error: 11.5428 - val_dense_46_mean_absolute_percentage_error: 11.8655\n",
      "Epoch 22/40\n",
      "\n",
      "Epoch 00022: LearningRateScheduler setting learning rate to 7.950406104014287e-05.\n",
      "49749/49749 [==============================] - 13s 259us/step - loss: 0.1065 - dense_36_loss: 0.0507 - dense_43_loss: 0.0269 - dense_46_loss: 0.0290 - dense_36_mean_absolute_percentage_error: 48712.5583 - dense_43_mean_absolute_percentage_error: 43629.8312 - dense_46_mean_absolute_percentage_error: 47933.3544 - val_loss: 0.1065 - val_dense_36_loss: 0.0496 - val_dense_43_loss: 0.0278 - val_dense_46_loss: 0.0291 - val_dense_36_mean_absolute_percentage_error: 9.4185 - val_dense_43_mean_absolute_percentage_error: 11.1917 - val_dense_46_mean_absolute_percentage_error: 11.4678\n",
      "Epoch 23/40\n",
      "\n",
      "Epoch 00023: LearningRateScheduler setting learning rate to 7.779262371045954e-05.\n",
      "49749/49749 [==============================] - 13s 260us/step - loss: 0.1037 - dense_36_loss: 0.0487 - dense_43_loss: 0.0263 - dense_46_loss: 0.0287 - dense_36_mean_absolute_percentage_error: 48734.4879 - dense_43_mean_absolute_percentage_error: 45979.4809 - dense_46_mean_absolute_percentage_error: 47269.6601 - val_loss: 0.1058 - val_dense_36_loss: 0.0485 - val_dense_43_loss: 0.0283 - val_dense_46_loss: 0.0290 - val_dense_36_mean_absolute_percentage_error: 9.3856 - val_dense_43_mean_absolute_percentage_error: 11.7787 - val_dense_46_mean_absolute_percentage_error: 11.3714\n",
      "Epoch 24/40\n",
      "\n",
      "Epoch 00024: LearningRateScheduler setting learning rate to 7.60436219296155e-05.\n",
      "49749/49749 [==============================] - 13s 262us/step - loss: 0.1003 - dense_36_loss: 0.0469 - dense_43_loss: 0.0249 - dense_46_loss: 0.0284 - dense_36_mean_absolute_percentage_error: 50449.0290 - dense_43_mean_absolute_percentage_error: 45292.9250 - dense_46_mean_absolute_percentage_error: 47723.3414 - val_loss: 0.1011 - val_dense_36_loss: 0.0459 - val_dense_43_loss: 0.0266 - val_dense_46_loss: 0.0285 - val_dense_36_mean_absolute_percentage_error: 8.7664 - val_dense_43_mean_absolute_percentage_error: 11.0964 - val_dense_46_mean_absolute_percentage_error: 11.5295\n",
      "Epoch 25/40\n",
      "\n",
      "Epoch 00025: LearningRateScheduler setting learning rate to 7.426135084642738e-05.\n",
      "49749/49749 [==============================] - 13s 260us/step - loss: 0.0968 - dense_36_loss: 0.0451 - dense_43_loss: 0.0235 - dense_46_loss: 0.0281 - dense_36_mean_absolute_percentage_error: 49821.2566 - dense_43_mean_absolute_percentage_error: 50507.6198 - dense_46_mean_absolute_percentage_error: 46126.4773 - val_loss: 0.0994 - val_dense_36_loss: 0.0443 - val_dense_43_loss: 0.0266 - val_dense_46_loss: 0.0285 - val_dense_36_mean_absolute_percentage_error: 9.1769 - val_dense_43_mean_absolute_percentage_error: 10.4584 - val_dense_46_mean_absolute_percentage_error: 11.3047\n",
      "Epoch 26/40\n",
      "\n",
      "Epoch 00026: LearningRateScheduler setting learning rate to 7.245009594665069e-05.\n",
      "49749/49749 [==============================] - 13s 266us/step - loss: 0.0930 - dense_36_loss: 0.0427 - dense_43_loss: 0.0223 - dense_46_loss: 0.0279 - dense_36_mean_absolute_percentage_error: 50946.5172 - dense_43_mean_absolute_percentage_error: 44359.6363 - dense_46_mean_absolute_percentage_error: 48643.2788 - val_loss: 0.0935 - val_dense_36_loss: 0.0414 - val_dense_43_loss: 0.0240 - val_dense_46_loss: 0.0282 - val_dense_36_mean_absolute_percentage_error: 8.7231 - val_dense_43_mean_absolute_percentage_error: 10.8793 - val_dense_46_mean_absolute_percentage_error: 11.1075\n",
      "Epoch 27/40\n",
      "\n",
      "Epoch 00027: LearningRateScheduler setting learning rate to 7.061412600849412e-05.\n",
      "49749/49749 [==============================] - 13s 263us/step - loss: 0.0890 - dense_36_loss: 0.0397 - dense_43_loss: 0.0219 - dense_46_loss: 0.0275 - dense_36_mean_absolute_percentage_error: 45863.6770 - dense_43_mean_absolute_percentage_error: 45853.7877 - dense_46_mean_absolute_percentage_error: 45187.8718 - val_loss: 0.0908 - val_dense_36_loss: 0.0399 - val_dense_43_loss: 0.0236 - val_dense_46_loss: 0.0273 - val_dense_36_mean_absolute_percentage_error: 9.1720 - val_dense_43_mean_absolute_percentage_error: 11.6363 - val_dense_46_mean_absolute_percentage_error: 11.6873\n",
      "Epoch 28/40\n",
      "\n",
      "Epoch 00028: LearningRateScheduler setting learning rate to 6.875767192994667e-05.\n",
      "49749/49749 [==============================] - 13s 264us/step - loss: 0.0846 - dense_36_loss: 0.0371 - dense_43_loss: 0.0210 - dense_46_loss: 0.0265 - dense_36_mean_absolute_percentage_error: 46961.1233 - dense_43_mean_absolute_percentage_error: 46962.4089 - dense_46_mean_absolute_percentage_error: 49474.9049 - val_loss: 0.0830 - val_dense_36_loss: 0.0355 - val_dense_43_loss: 0.0217 - val_dense_46_loss: 0.0258 - val_dense_36_mean_absolute_percentage_error: 7.7003 - val_dense_43_mean_absolute_percentage_error: 11.5808 - val_dense_46_mean_absolute_percentage_error: 11.8220\n",
      "Epoch 29/40\n",
      "\n",
      "Epoch 00029: LearningRateScheduler setting learning rate to 6.688489152412093e-05.\n",
      "49749/49749 [==============================] - 13s 264us/step - loss: 0.0799 - dense_36_loss: 0.0351 - dense_43_loss: 0.0195 - dense_46_loss: 0.0253 - dense_36_mean_absolute_percentage_error: 43285.8491 - dense_43_mean_absolute_percentage_error: 44774.1328 - dense_46_mean_absolute_percentage_error: 48813.7314 - val_loss: 0.0788 - val_dense_36_loss: 0.0339 - val_dense_43_loss: 0.0199 - val_dense_46_loss: 0.0250 - val_dense_36_mean_absolute_percentage_error: 7.2934 - val_dense_43_mean_absolute_percentage_error: 11.4305 - val_dense_46_mean_absolute_percentage_error: 12.4671\n",
      "Epoch 30/40\n",
      "\n",
      "Epoch 00030: LearningRateScheduler setting learning rate to 6.499989108708339e-05.\n",
      "49749/49749 [==============================] - 13s 269us/step - loss: 0.0762 - dense_36_loss: 0.0338 - dense_43_loss: 0.0180 - dense_46_loss: 0.0244 - dense_36_mean_absolute_percentage_error: 41588.6888 - dense_43_mean_absolute_percentage_error: 52691.4964 - dense_46_mean_absolute_percentage_error: 48889.4410 - val_loss: 0.0766 - val_dense_36_loss: 0.0338 - val_dense_43_loss: 0.0179 - val_dense_46_loss: 0.0249 - val_dense_36_mean_absolute_percentage_error: 7.8437 - val_dense_43_mean_absolute_percentage_error: 10.1809 - val_dense_46_mean_absolute_percentage_error: 10.9412\n",
      "Epoch 31/40\n",
      "\n",
      "Epoch 00031: LearningRateScheduler setting learning rate to 6.310669032775445e-05.\n",
      "49749/49749 [==============================] - 13s 266us/step - loss: 0.0740 - dense_36_loss: 0.0329 - dense_43_loss: 0.0173 - dense_46_loss: 0.0238 - dense_36_mean_absolute_percentage_error: 42311.3509 - dense_43_mean_absolute_percentage_error: 46743.8050 - dense_46_mean_absolute_percentage_error: 50237.1747 - val_loss: 0.0713 - val_dense_36_loss: 0.0318 - val_dense_43_loss: 0.0162 - val_dense_46_loss: 0.0232 - val_dense_36_mean_absolute_percentage_error: 7.3674 - val_dense_43_mean_absolute_percentage_error: 11.1926 - val_dense_46_mean_absolute_percentage_error: 11.5766\n",
      "Epoch 32/40\n",
      "\n",
      "Epoch 00032: LearningRateScheduler setting learning rate to 6.120920161627212e-05.\n",
      "49749/49749 [==============================] - 13s 267us/step - loss: 0.0706 - dense_36_loss: 0.0318 - dense_43_loss: 0.0155 - dense_46_loss: 0.0232 - dense_36_mean_absolute_percentage_error: 41454.8616 - dense_43_mean_absolute_percentage_error: 41913.2288 - dense_46_mean_absolute_percentage_error: 47883.5820 - val_loss: 0.0695 - val_dense_36_loss: 0.0310 - val_dense_43_loss: 0.0161 - val_dense_46_loss: 0.0225 - val_dense_36_mean_absolute_percentage_error: 6.9524 - val_dense_43_mean_absolute_percentage_error: 9.4894 - val_dense_46_mean_absolute_percentage_error: 12.3232\n",
      "Epoch 33/40\n",
      "\n",
      "Epoch 00033: LearningRateScheduler setting learning rate to 5.9311244604737285e-05.\n",
      "49749/49749 [==============================] - 13s 268us/step - loss: 0.0686 - dense_36_loss: 0.0312 - dense_43_loss: 0.0145 - dense_46_loss: 0.0229 - dense_36_mean_absolute_percentage_error: 37876.8435 - dense_43_mean_absolute_percentage_error: 40336.9398 - dense_46_mean_absolute_percentage_error: 49925.5565 - val_loss: 0.0655 - val_dense_36_loss: 0.0303 - val_dense_43_loss: 0.0125 - val_dense_46_loss: 0.0226 - val_dense_36_mean_absolute_percentage_error: 7.1892 - val_dense_43_mean_absolute_percentage_error: 9.0005 - val_dense_46_mean_absolute_percentage_error: 11.4496\n",
      "Epoch 34/40\n",
      "\n",
      "Epoch 00034: LearningRateScheduler setting learning rate to 5.741650089310502e-05.\n",
      "49749/49749 [==============================] - 14s 271us/step - loss: 0.0647 - dense_36_loss: 0.0306 - dense_43_loss: 0.0116 - dense_46_loss: 0.0225 - dense_36_mean_absolute_percentage_error: 42046.3071 - dense_43_mean_absolute_percentage_error: 40309.0243 - dense_46_mean_absolute_percentage_error: 49883.2071 - val_loss: 0.0652 - val_dense_36_loss: 0.0297 - val_dense_43_loss: 0.0138 - val_dense_46_loss: 0.0218 - val_dense_36_mean_absolute_percentage_error: 6.9713 - val_dense_43_mean_absolute_percentage_error: 9.8641 - val_dense_46_mean_absolute_percentage_error: 12.0360\n",
      "Epoch 35/40\n",
      "\n",
      "Epoch 00035: LearningRateScheduler setting learning rate to 5.5528532288521814e-05.\n",
      "49749/49749 [==============================] - 14s 280us/step - loss: 0.0609 - dense_36_loss: 0.0299 - dense_43_loss: 0.0089 - dense_46_loss: 0.0221 - dense_36_mean_absolute_percentage_error: 42980.1227 - dense_43_mean_absolute_percentage_error: 33538.7253 - dense_46_mean_absolute_percentage_error: 51513.8161 - val_loss: 0.0581 - val_dense_36_loss: 0.0291 - val_dense_43_loss: 0.0076 - val_dense_46_loss: 0.0214 - val_dense_36_mean_absolute_percentage_error: 6.7384 - val_dense_43_mean_absolute_percentage_error: 8.0279 - val_dense_46_mean_absolute_percentage_error: 12.4352\n",
      "Epoch 36/40\n",
      "\n",
      "Epoch 00036: LearningRateScheduler setting learning rate to 5.365075677934729e-05.\n",
      "49749/49749 [==============================] - 13s 271us/step - loss: 0.0582 - dense_36_loss: 0.0294 - dense_43_loss: 0.0070 - dense_46_loss: 0.0218 - dense_36_mean_absolute_percentage_error: 40548.9975 - dense_43_mean_absolute_percentage_error: 28947.3857 - dense_46_mean_absolute_percentage_error: 52309.5817 - val_loss: 0.0552 - val_dense_36_loss: 0.0297 - val_dense_43_loss: 0.0042 - val_dense_46_loss: 0.0213 - val_dense_36_mean_absolute_percentage_error: 7.5334 - val_dense_43_mean_absolute_percentage_error: 5.0273 - val_dense_46_mean_absolute_percentage_error: 11.8840\n",
      "Epoch 37/40\n",
      "\n",
      "Epoch 00037: LearningRateScheduler setting learning rate to 5.178644571769767e-05.\n"
     ]
    },
    {
     "name": "stdout",
     "output_type": "stream",
     "text": [
      "49749/49749 [==============================] - 13s 269us/step - loss: 0.0546 - dense_36_loss: 0.0286 - dense_43_loss: 0.0047 - dense_46_loss: 0.0213 - dense_36_mean_absolute_percentage_error: 38336.9047 - dense_43_mean_absolute_percentage_error: 39010.4090 - dense_46_mean_absolute_percentage_error: 56650.0648 - val_loss: 0.0527 - val_dense_36_loss: 0.0280 - val_dense_43_loss: 0.0043 - val_dense_46_loss: 0.0204 - val_dense_36_mean_absolute_percentage_error: 6.7114 - val_dense_43_mean_absolute_percentage_error: 5.0403 - val_dense_46_mean_absolute_percentage_error: 12.3929\n",
      "Epoch 38/40\n",
      "\n",
      "Epoch 00038: LearningRateScheduler setting learning rate to 4.993871400193846e-05.\n",
      "49749/49749 [==============================] - 13s 270us/step - loss: 0.0522 - dense_36_loss: 0.0279 - dense_43_loss: 0.0037 - dense_46_loss: 0.0206 - dense_36_mean_absolute_percentage_error: 39475.0744 - dense_43_mean_absolute_percentage_error: 17863.0592 - dense_46_mean_absolute_percentage_error: 56033.3056 - val_loss: 0.0508 - val_dense_36_loss: 0.0277 - val_dense_43_loss: 0.0021 - val_dense_46_loss: 0.0209 - val_dense_36_mean_absolute_percentage_error: 7.3128 - val_dense_43_mean_absolute_percentage_error: 3.7709 - val_dense_46_mean_absolute_percentage_error: 11.3116\n",
      "Epoch 39/40\n",
      "\n",
      "Epoch 00039: LearningRateScheduler setting learning rate to 4.811051382072205e-05.\n",
      "49749/49749 [==============================] - 13s 270us/step - loss: 0.0535 - dense_36_loss: 0.0275 - dense_43_loss: 0.0059 - dense_46_loss: 0.0201 - dense_36_mean_absolute_percentage_error: 40247.7431 - dense_43_mean_absolute_percentage_error: 17682.3946 - dense_46_mean_absolute_percentage_error: 56128.6635 - val_loss: 0.0472 - val_dense_36_loss: 0.0267 - val_dense_43_loss: 0.0016 - val_dense_46_loss: 0.0190 - val_dense_36_mean_absolute_percentage_error: 6.7975 - val_dense_43_mean_absolute_percentage_error: 3.5655 - val_dense_46_mean_absolute_percentage_error: 11.9997\n",
      "Epoch 40/40\n",
      "\n",
      "Epoch 00040: LearningRateScheduler setting learning rate to 4.6304631934575634e-05.\n",
      "49749/49749 [==============================] - 15s 297us/step - loss: 0.0486 - dense_36_loss: 0.0264 - dense_43_loss: 0.0029 - dense_46_loss: 0.0192 - dense_36_mean_absolute_percentage_error: 40334.2111 - dense_43_mean_absolute_percentage_error: 18041.3354 - dense_46_mean_absolute_percentage_error: 57282.3890 - val_loss: 0.0465 - val_dense_36_loss: 0.0265 - val_dense_43_loss: 0.0016 - val_dense_46_loss: 0.0183 - val_dense_36_mean_absolute_percentage_error: 7.1923 - val_dense_43_mean_absolute_percentage_error: 2.8838 - val_dense_46_mean_absolute_percentage_error: 11.6216\n"
     ]
    }
   ],
   "source": [
    "history = model.fit([X_train], [Y1,Y2,Y3], epochs=40, batch_size=32,validation_data=([X_test],[Y1_,Y2_,Y3_]),callbacks=[lrate])"
   ]
  },
  {
   "cell_type": "code",
   "execution_count": 48,
   "metadata": {},
   "outputs": [
    {
     "data": {
      "image/png": "[encoded data removed]",
      "text/plain": [
       "<Figure size 432x288 with 1 Axes>"
      ]
     },
     "metadata": {
      "needs_background": "light"
     },
     "output_type": "display_data"
    }
   ],
   "source": [
    "import matplotlib.pyplot as plt\n",
    "\n",
    "plt.plot(history.history['loss'])\n",
    "plt.plot(history.history['val_loss'])\n",
    "plt.title('Model loss')\n",
    "plt.ylabel('Loss')\n",
    "plt.xlabel('Epoch')\n",
    "plt.legend(['Train', 'Test'], loc='upper left')\n",
    "plt.show()\n"
   ]
  },
  {
   "cell_type": "code",
   "execution_count": 49,
   "metadata": {},
   "outputs": [],
   "source": [
    "input_ = random_scale.transform(X)\n",
    "output_ = model.predict(input_)"
   ]
  },
  {
   "cell_type": "code",
   "execution_count": 50,
   "metadata": {},
   "outputs": [],
   "source": [
    "output_ = np.transpose(np.array(output_))\n",
    "output_ = green_scale.inverse_transform(output_.reshape(output_.shape[1],3))\n"
   ]
  },
  {
   "cell_type": "code",
   "execution_count": 54,
   "metadata": {},
   "outputs": [
    {
     "data": {
      "text/plain": [
       "<matplotlib.collections.PathCollection at 0x7f5a3421cf98>"
      ]
     },
     "execution_count": 54,
     "metadata": {},
     "output_type": "execute_result"
    },
    {
     "data": {
      "image/png": "[encoded data removed]",
      "text/plain": [
       "<Figure size 432x288 with 1 Axes>"
      ]
     },
     "metadata": {
      "needs_background": "light"
     },
     "output_type": "display_data"
    }
   ],
   "source": [
    "plt.scatter(output_[:,0],green_[:,0],alpha=0.01)"
   ]
  },
  {
   "cell_type": "code",
   "execution_count": 52,
   "metadata": {},
   "outputs": [
    {
     "data": {
      "text/plain": [
       "G         12.772139\n",
       "damu      69.942667\n",
       "dbeta    325.809673\n",
       "dtype: float64"
      ]
     },
     "execution_count": 52,
     "metadata": {},
     "output_type": "execute_result"
    }
   ],
   "source": [
    "Y.max(axis = 0)"
   ]
  },
  {
   "cell_type": "code",
   "execution_count": 76,
   "metadata": {},
   "outputs": [
    {
     "data": {
      "text/plain": [
       "<matplotlib.collections.PathCollection at 0x7f5a29514588>"
      ]
     },
     "execution_count": 76,
     "metadata": {},
     "output_type": "execute_result"
    },
    {
     "data": {
      "image/png": "[encoded data removed]",
      "text/plain": [
       "<Figure size 432x288 with 1 Axes>"
      ]
     },
     "metadata": {
      "needs_background": "light"
     },
     "output_type": "display_data"
    }
   ],
   "source": [
    "plt.scatter(X['beta'][0:71071],Y[\"G\"][0:71071])"
   ]
  },
  {
   "cell_type": "code",
   "execution_count": 2,
   "metadata": {},
   "outputs": [],
   "source": [
    "random_filon = np.loadtxt(\"./Filon/random.txt\")\n",
    "green_filon = np.loadtxt(\"./Filon/green.txt\")\n"
   ]
  },
  {
   "cell_type": "code",
   "execution_count": 6,
   "metadata": {},
   "outputs": [],
   "source": [
    "X = pd.DataFrame(columns=[\"amu\",\"beta\"])\n",
    "X[\"amu\"] = random_filon[:,0]\n",
    "X[\"beta\"] = random_filon[:,1]\n",
    "Y = pd.DataFrame(columns=[\"G\",\"damu\",\"dbeta\"])\n",
    "Y[\"G\"] = green_filon[:,0]\n",
    "Y[\"damu\"] = green_filon[:,1]\n",
    "Y[\"dbeta\"] = green_filon[:,2]"
   ]
  },
  {
   "cell_type": "code",
   "execution_count": 10,
   "metadata": {},
   "outputs": [
    {
     "data": {
      "text/plain": [
       "<matplotlib.collections.PathCollection at 0x7f479d944550>"
      ]
     },
     "execution_count": 10,
     "metadata": {},
     "output_type": "execute_result"
    },
    {
     "data": {
      "image/png": "[encoded data removed]",
      "text/plain": [
       "<Figure size 432x288 with 1 Axes>"
      ]
     },
     "metadata": {
      "needs_background": "light"
     },
     "output_type": "display_data"
    }
   ],
   "source": [
    "import matplotlib.pyplot as plt\n",
    "\n",
    "plt.scatter(X['beta'][0:40629],Y[\"G\"][0:40629])"
   ]
  },
  {
   "cell_type": "code",
   "execution_count": 23,
   "metadata": {},
   "outputs": [],
   "source": [
    "random_filon = np.loadtxt(\"./asy/random.txt\")\n",
    "green_filon = np.loadtxt(\"./asy/green.txt\")\n",
    "X = pd.DataFrame(columns=[\"amu\",\"beta\"])\n",
    "X[\"amu\"] = random_filon[:,0]\n",
    "X[\"beta\"] = random_filon[:,1]\n",
    "Y = pd.DataFrame(columns=[\"G\",\"damu\",\"dbeta\"])\n",
    "Y[\"G\"] = green_filon[:,0]\n",
    "Y[\"damu\"] = green_filon[:,1]\n",
    "Y[\"dbeta\"] = green_filon[:,2]\n"
   ]
  },
  {
   "cell_type": "code",
   "execution_count": 25,
   "metadata": {},
   "outputs": [
    {
     "data": {
      "text/plain": [
       "<matplotlib.collections.PathCollection at 0x7f479998c438>"
      ]
     },
     "execution_count": 25,
     "metadata": {},
     "output_type": "execute_result"
    },
    {
     "data": {
      "image/png": "[encoded data removed]",
      "text/plain": [
       "<Figure size 432x288 with 1 Axes>"
      ]
     },
     "metadata": {
      "needs_background": "light"
     },
     "output_type": "display_data"
    }
   ],
   "source": [
    "plt.scatter(X['beta'][0:851499],Y[\"dbeta\"][0:851499])"
   ]
  },
  {
   "cell_type": "code",
   "execution_count": 14,
   "metadata": {},
   "outputs": [],
   "source": [
    "random_filon = np.loadtxt(\"./Bessel/random.txt\")\n",
    "green_filon = np.loadtxt(\"./Bessel/green.txt\")\n",
    "X = pd.DataFrame(columns=[\"amu\",\"beta\"])\n",
    "X[\"amu\"] = random_filon[:,0]\n",
    "X[\"beta\"] = random_filon[:,1]\n",
    "Y = pd.DataFrame(columns=[\"G\",\"damu\",\"dbeta\"])\n",
    "Y[\"G\"] = green_filon[:,0]\n",
    "Y[\"damu\"] = green_filon[:,1]\n",
    "Y[\"dbeta\"] = green_filon[:,2]\n"
   ]
  },
  {
   "cell_type": "code",
   "execution_count": 20,
   "metadata": {},
   "outputs": [
    {
     "data": {
      "text/plain": [
       "<matplotlib.collections.PathCollection at 0x7f4799117400>"
      ]
     },
     "execution_count": 20,
     "metadata": {},
     "output_type": "execute_result"
    },
    {
     "data": {
      "image/png": "[encoded data removed]",
      "text/plain": [
       "<Figure size 432x288 with 1 Axes>"
      ]
     },
     "metadata": {
      "needs_background": "light"
     },
     "output_type": "display_data"
    }
   ],
   "source": [
    "plt.scatter(X['beta'][0:30003],Y[\"damu\"][0:30003])"
   ]
  },
  {
   "cell_type": "code",
   "execution_count": 22,
   "metadata": {},
   "outputs": [
    {
     "data": {
      "text/plain": [
       "<matplotlib.collections.PathCollection at 0x7f4799c71dd8>"
      ]
     },
     "execution_count": 22,
     "metadata": {},
     "output_type": "execute_result"
    },
    {
     "data": {
      "image/png": "[encoded data removed]",
      "text/plain": [
       "<Figure size 432x288 with 1 Axes>"
      ]
     },
     "metadata": {
      "needs_background": "light"
     },
     "output_type": "display_data"
    }
   ],
   "source": [
    "plt.scatter(X['beta'][0:30003],Y[\"dbeta\"][0:30003])"
   ]
  },
  {
   "cell_type": "code",
   "execution_count": null,
   "metadata": {},
   "outputs": [],
   "source": []
  }
 ],
 "metadata": {
  "kernelspec": {
   "display_name": "Python 3",
   "language": "python",
   "name": "python3"
  },
  "language_info": {
   "codemirror_mode": {
    "name": "ipython",
    "version": 3
   },
   "file_extension": ".py",
   "mimetype": "text/x-python",
   "name": "python",
   "nbconvert_exporter": "python",
   "pygments_lexer": "ipython3",
   "version": "3.7.3"
  }
 },
 "nbformat": 4,
 "nbformat_minor": 2
}
