{
 "cells": [
  {
   "cell_type": "code",
   "execution_count": 1,
   "metadata": {},
   "outputs": [
    {
     "name": "stderr",
     "output_type": "stream",
     "text": [
      "Using TensorFlow backend.\n"
     ]
    }
   ],
   "source": [
    "import numpy as np\n",
    "import keras as k\n",
    "from sklearn.model_selection import train_test_split\n",
    "from sklearn import preprocessing\n",
    "from keras.models import Sequential\n",
    "from keras.layers import Dropout,Input, Dense,merge, Add\n",
    "from keras import optimizers\n",
    "from keras.models import Model\n",
    "import pandas as pd"
   ]
  },
  {
   "cell_type": "code",
   "execution_count": 2,
   "metadata": {},
   "outputs": [],
   "source": [
    "random_ = np.loadtxt(\"./asy/random.txt\")\n",
    "green_ = np.loadtxt(\"./asy/green.txt\")\n",
    "# for i in [\"Bessel\",\"series\",\"asy\"]:\n",
    "#     input_ = np.loadtxt(\"./\"+i+\"/random.txt\")\n",
    "#     output_ = np.loadtxt(\"./\"+i+\"/green.txt\")\n",
    "#     random_ = np.append(random_,input_,axis =0)\n",
    "#     green_ =np.append(green_,output_,axis = 0)\n",
    "    "
   ]
  },
  {
   "cell_type": "code",
   "execution_count": 3,
   "metadata": {},
   "outputs": [],
   "source": [
    "X = pd.DataFrame(columns=[\"amu\",\"beta\"])\n",
    "X[\"amu\"] = random_[:,0]\n",
    "X[\"beta\"] = random_[:,1]\n",
    "Y = pd.DataFrame(columns=[\"G\",\"damu\",\"dbeta\"])\n",
    "Y[\"G\"] = green_[:,0]\n",
    "Y[\"damu\"] = green_[:,1]\n",
    "Y[\"dbeta\"] = green_[:,2]"
   ]
  },
  {
   "cell_type": "code",
   "execution_count": 4,
   "metadata": {},
   "outputs": [
    {
     "data": {
      "text/plain": [
       "(G           282.150526\n",
       " damu      14082.609474\n",
       " dbeta    702902.612755\n",
       " dtype: float64, amu      0.98\n",
       " beta    86.00\n",
       " dtype: float64)"
      ]
     },
     "execution_count": 4,
     "metadata": {},
     "output_type": "execute_result"
    }
   ],
   "source": [
    "Y.max(axis=0)-Y.min(axis=0),X.max(axis=0)-X.min(axis=0)"
   ]
  },
  {
   "cell_type": "code",
   "execution_count": 5,
   "metadata": {},
   "outputs": [],
   "source": [
    "X_train, X_test, y_train, y_test = train_test_split(X, Y, test_size=0.30, random_state=42)\n",
    "random_scale = preprocessing.MinMaxScaler([0,1])\n",
    "green_scale = preprocessing.MinMaxScaler([0,5])\n",
    "\n",
    "random_scale.fit(X_train)\n",
    "green_scale.fit(y_train)\n",
    "X_train = random_scale.transform(X_train)\n",
    "X_test = random_scale.transform(X_test)\n",
    "\n",
    "y_train = green_scale.transform(y_train)\n",
    "y_test = green_scale.transform(y_test)"
   ]
  },
  {
   "cell_type": "code",
   "execution_count": 6,
   "metadata": {},
   "outputs": [],
   "source": [
    "Y1,Y2,Y3 =y_train[:,0],y_train[:,1],y_train[:,2]\n",
    "Y1_,Y2_,Y3_ =y_test[:,0],y_test[:,1],y_test[:,2]"
   ]
  },
  {
   "cell_type": "code",
   "execution_count": 7,
   "metadata": {},
   "outputs": [],
   "source": [
    "Y1,Y2,Y3 = Y1.reshape(Y1.size,1),Y2.reshape(Y2.size,1),Y3.reshape(Y3.size,1)\n",
    "Y1_,Y2_,Y3_ = Y1_.reshape(Y1_.size,1),Y2_.reshape(Y2_.size,1),Y3_.reshape(Y3_.size,1)"
   ]
  },
  {
   "cell_type": "code",
   "execution_count": 8,
   "metadata": {},
   "outputs": [
    {
     "name": "stdout",
     "output_type": "stream",
     "text": [
      "WARNING:tensorflow:From /home/anmesh/.conda/envs/crystal/lib/python3.7/site-packages/tensorflow/python/framework/op_def_library.py:263: colocate_with (from tensorflow.python.framework.ops) is deprecated and will be removed in a future version.\n",
      "Instructions for updating:\n",
      "Colocations handled automatically by placer.\n"
     ]
    }
   ],
   "source": [
    "inputs = Input(shape=(2,))\n",
    "x = Dense(8, activation='relu')(inputs)\n",
    "x = Dense(64, activation='relu')(x)\n",
    "x = Dense(64, activation='relu')(x)\n",
    "x = Dense(64, activation='relu')(x)\n",
    "x = Dense(64, activation='relu')(x)\n",
    "x = Dense(64, activation='relu')(x)\n",
    "# x = Dense(64, activation='relu')(x)\n",
    "\n",
    "\n",
    "\n",
    "\n",
    "x1_ = Dense(64, activation='relu')(x)\n",
    "x1 = Dense(64, activation='relu')(x1_)\n",
    "x1 = Dense(64, activation='relu')(x1)\n",
    "x1 = Dense(64, activation='relu')(x1)\n",
    "x1 = Dense(64, activation='relu')(x1)\n",
    "x1 = Dense(64, activation='relu')(x1)\n",
    "# x1 = Add()([x1, x1_])\n",
    "# x1 = Dense(64, activation='relu')(x1)\n",
    "y1 = Dense(1, activation=None)(x1)\n",
    "\n",
    "x2_ = Dense(64, activation='relu')(x)\n",
    "x2 = Dense(64, activation='relu')(x2_)\n",
    "x2 = Dense(64, activation='relu')(x2)\n",
    "x2 = Dense(64, activation='relu')(x2)\n",
    "x2 = Dense(64, activation='relu')(x2)\n",
    "x2 = Dense(64, activation='relu')(x2)\n",
    "x2 = Dense(64, activation='relu')(x2)\n",
    "x2 = Dense(64, activation='relu')(x2)\n",
    "# x = Dense(64, activation='relu')(x)\n",
    "# x2 = Add()([x2, x2_])\n",
    "y2 = Dense(1, activation=None)(x2)\n",
    "\n",
    "x3_ = Dense(64, activation='relu')(x)\n",
    "x3 = Dense(64, activation='relu')(x3_)\n",
    "x3 = Dense(64, activation='relu')(x3)\n",
    "x3 = Dense(64, activation='relu')(x3)\n",
    "x3 = Dense(64, activation='relu')(x3)\n",
    "x3 = Dense(64, activation='relu')(x3)\n",
    "x3 = Dense(64, activation='relu')(x3)\n",
    "x3 = Dense(64, activation='relu')(x3)\n",
    "x3 = Dense(64, activation='relu')(x3)\n",
    "# x3 = Add()([x3, x3_])\n",
    "y3 = Dense(1, activation=None)(x3)\n",
    "\n",
    "model = Model(inputs=inputs, outputs=[y1,y2,y3])\n"
   ]
  },
  {
   "cell_type": "code",
   "execution_count": 11,
   "metadata": {},
   "outputs": [],
   "source": [
    "def time_decay(epoch, initial_lrate):\n",
    "    decay_rate = 0.1\n",
    "    new_lrate = initial_lrate/(1+decay_rate*epoch)\n",
    "    return new_lrate\n",
    "from keras.callbacks import LearningRateScheduler\n",
    "lrate = LearningRateScheduler(time_decay,verbose=1)"
   ]
  },
  {
   "cell_type": "code",
   "execution_count": 12,
   "metadata": {},
   "outputs": [
    {
     "name": "stdout",
     "output_type": "stream",
     "text": [
      "Train on 596049 samples, validate on 255450 samples\n",
      "Epoch 1/40\n",
      "\n",
      "Epoch 00001: LearningRateScheduler setting learning rate to 0.0010000000474974513.\n",
      "596049/596049 [==============================] - 269s 451us/step - loss: 0.0262 - dense_13_loss: 0.0128 - dense_22_loss: 0.0078 - dense_32_loss: 0.0057 - dense_13_mean_squared_error: 0.0128 - dense_22_mean_squared_error: 0.0078 - dense_32_mean_squared_error: 0.0057 - val_loss: 0.0240 - val_dense_13_loss: 0.0120 - val_dense_22_loss: 0.0069 - val_dense_32_loss: 0.0051 - val_dense_13_mean_squared_error: 0.0120 - val_dense_22_mean_squared_error: 0.0069 - val_dense_32_mean_squared_error: 0.0051\n",
      "Epoch 2/40\n",
      "\n",
      "Epoch 00002: LearningRateScheduler setting learning rate to 0.0009090909522704102.\n",
      "596049/596049 [==============================] - 263s 440us/step - loss: 0.0261 - dense_13_loss: 0.0128 - dense_22_loss: 0.0077 - dense_32_loss: 0.0057 - dense_13_mean_squared_error: 0.0128 - dense_22_mean_squared_error: 0.0077 - dense_32_mean_squared_error: 0.0057 - val_loss: 0.0241 - val_dense_13_loss: 0.0120 - val_dense_22_loss: 0.0071 - val_dense_32_loss: 0.0051 - val_dense_13_mean_squared_error: 0.0120 - val_dense_22_mean_squared_error: 0.0071 - val_dense_32_mean_squared_error: 0.0051\n",
      "Epoch 3/40\n",
      "\n",
      "Epoch 00003: LearningRateScheduler setting learning rate to 0.0007575758111973604.\n",
      "596049/596049 [==============================] - 260s 436us/step - loss: 0.0261 - dense_13_loss: 0.0127 - dense_22_loss: 0.0077 - dense_32_loss: 0.0056 - dense_13_mean_squared_error: 0.0127 - dense_22_mean_squared_error: 0.0077 - dense_32_mean_squared_error: 0.0056 - val_loss: 0.0239 - val_dense_13_loss: 0.0120 - val_dense_22_loss: 0.0069 - val_dense_32_loss: 0.0051 - val_dense_13_mean_squared_error: 0.0120 - val_dense_22_mean_squared_error: 0.0069 - val_dense_32_mean_squared_error: 0.0051\n",
      "Epoch 4/40\n",
      "\n",
      "Epoch 00004: LearningRateScheduler setting learning rate to 0.0005827506090729282.\n",
      "596049/596049 [==============================] - 270s 453us/step - loss: 0.0260 - dense_13_loss: 0.0127 - dense_22_loss: 0.0077 - dense_32_loss: 0.0056 - dense_13_mean_squared_error: 0.0127 - dense_22_mean_squared_error: 0.0077 - dense_32_mean_squared_error: 0.0056 - val_loss: 0.0240 - val_dense_13_loss: 0.0120 - val_dense_22_loss: 0.0069 - val_dense_32_loss: 0.0051 - val_dense_13_mean_squared_error: 0.0120 - val_dense_22_mean_squared_error: 0.0069 - val_dense_32_mean_squared_error: 0.0051\n",
      "Epoch 5/40\n",
      "\n",
      "Epoch 00005: LearningRateScheduler setting learning rate to 0.00041625042545742223.\n",
      "596049/596049 [==============================] - 283s 474us/step - loss: 0.0259 - dense_13_loss: 0.0127 - dense_22_loss: 0.0077 - dense_32_loss: 0.0056 - dense_13_mean_squared_error: 0.0127 - dense_22_mean_squared_error: 0.0077 - dense_32_mean_squared_error: 0.0056 - val_loss: 0.0240 - val_dense_13_loss: 0.0120 - val_dense_22_loss: 0.0069 - val_dense_32_loss: 0.0051 - val_dense_13_mean_squared_error: 0.0120 - val_dense_22_mean_squared_error: 0.0069 - val_dense_32_mean_squared_error: 0.0051\n",
      "Epoch 6/40\n",
      "\n",
      "Epoch 00006: LearningRateScheduler setting learning rate to 0.00027750028918186825.\n",
      "596049/596049 [==============================] - 283s 474us/step - loss: 0.0259 - dense_13_loss: 0.0126 - dense_22_loss: 0.0077 - dense_32_loss: 0.0056 - dense_13_mean_squared_error: 0.0126 - dense_22_mean_squared_error: 0.0077 - dense_32_mean_squared_error: 0.0056 - val_loss: 0.0240 - val_dense_13_loss: 0.0120 - val_dense_22_loss: 0.0069 - val_dense_32_loss: 0.0051 - val_dense_13_mean_squared_error: 0.0120 - val_dense_22_mean_squared_error: 0.0069 - val_dense_32_mean_squared_error: 0.0051\n",
      "Epoch 7/40\n",
      "\n",
      "Epoch 00007: LearningRateScheduler setting learning rate to 0.00017343767467536964.\n",
      "596049/596049 [==============================] - 288s 484us/step - loss: 0.0258 - dense_13_loss: 0.0126 - dense_22_loss: 0.0076 - dense_32_loss: 0.0056 - dense_13_mean_squared_error: 0.0126 - dense_22_mean_squared_error: 0.0076 - dense_32_mean_squared_error: 0.0056 - val_loss: 0.0240 - val_dense_13_loss: 0.0120 - val_dense_22_loss: 0.0069 - val_dense_32_loss: 0.0051 - val_dense_13_mean_squared_error: 0.0120 - val_dense_22_mean_squared_error: 0.0069 - val_dense_32_mean_squared_error: 0.0051\n",
      "Epoch 8/40\n",
      "\n",
      "Epoch 00008: LearningRateScheduler setting learning rate to 0.0001020221594337593.\n",
      "596049/596049 [==============================] - 252s 422us/step - loss: 0.0258 - dense_13_loss: 0.0126 - dense_22_loss: 0.0076 - dense_32_loss: 0.0055 - dense_13_mean_squared_error: 0.0126 - dense_22_mean_squared_error: 0.0076 - dense_32_mean_squared_error: 0.0055 - val_loss: 0.0239 - val_dense_13_loss: 0.0119 - val_dense_22_loss: 0.0069 - val_dense_32_loss: 0.0051 - val_dense_13_mean_squared_error: 0.0119 - val_dense_22_mean_squared_error: 0.0069 - val_dense_32_mean_squared_error: 0.0051\n",
      "Epoch 9/40\n",
      "\n",
      "Epoch 00009: LearningRateScheduler setting learning rate to 5.667897817652879e-05.\n",
      "596049/596049 [==============================] - 269s 451us/step - loss: 0.0258 - dense_13_loss: 0.0126 - dense_22_loss: 0.0076 - dense_32_loss: 0.0055 - dense_13_mean_squared_error: 0.0126 - dense_22_mean_squared_error: 0.0076 - dense_32_mean_squared_error: 0.0055 - val_loss: 0.0239 - val_dense_13_loss: 0.0119 - val_dense_22_loss: 0.0069 - val_dense_32_loss: 0.0051 - val_dense_13_mean_squared_error: 0.0119 - val_dense_22_mean_squared_error: 0.0069 - val_dense_32_mean_squared_error: 0.0051\n",
      "Epoch 10/40\n",
      "\n",
      "Epoch 00010: LearningRateScheduler setting learning rate to 2.9831041358288772e-05.\n",
      "596049/596049 [==============================] - 276s 464us/step - loss: 0.0257 - dense_13_loss: 0.0126 - dense_22_loss: 0.0076 - dense_32_loss: 0.0055 - dense_13_mean_squared_error: 0.0126 - dense_22_mean_squared_error: 0.0076 - dense_32_mean_squared_error: 0.0055 - val_loss: 0.0239 - val_dense_13_loss: 0.0120 - val_dense_22_loss: 0.0069 - val_dense_32_loss: 0.0051 - val_dense_13_mean_squared_error: 0.0120 - val_dense_22_mean_squared_error: 0.0069 - val_dense_32_mean_squared_error: 0.0051\n",
      "Epoch 11/40\n",
      "\n",
      "Epoch 00011: LearningRateScheduler setting learning rate to 1.4915520296199247e-05.\n",
      "596049/596049 [==============================] - 268s 450us/step - loss: 0.0257 - dense_13_loss: 0.0126 - dense_22_loss: 0.0076 - dense_32_loss: 0.0055 - dense_13_mean_squared_error: 0.0126 - dense_22_mean_squared_error: 0.0076 - dense_32_mean_squared_error: 0.0055 - val_loss: 0.0239 - val_dense_13_loss: 0.0120 - val_dense_22_loss: 0.0069 - val_dense_32_loss: 0.0051 - val_dense_13_mean_squared_error: 0.0120 - val_dense_22_mean_squared_error: 0.0069 - val_dense_32_mean_squared_error: 0.0051\n",
      "Epoch 12/40\n",
      "\n",
      "Epoch 00012: LearningRateScheduler setting learning rate to 7.102628712475832e-06.\n",
      "596049/596049 [==============================] - 270s 452us/step - loss: 0.0257 - dense_13_loss: 0.0126 - dense_22_loss: 0.0076 - dense_32_loss: 0.0055 - dense_13_mean_squared_error: 0.0126 - dense_22_mean_squared_error: 0.0076 - dense_32_mean_squared_error: 0.0055 - val_loss: 0.0239 - val_dense_13_loss: 0.0120 - val_dense_22_loss: 0.0069 - val_dense_32_loss: 0.0051 - val_dense_13_mean_squared_error: 0.0120 - val_dense_22_mean_squared_error: 0.0069 - val_dense_32_mean_squared_error: 0.0051\n",
      "Epoch 13/40\n",
      "\n",
      "Epoch 00013: LearningRateScheduler setting learning rate to 3.228467655638021e-06.\n",
      "596049/596049 [==============================] - 270s 453us/step - loss: 0.0257 - dense_13_loss: 0.0126 - dense_22_loss: 0.0076 - dense_32_loss: 0.0055 - dense_13_mean_squared_error: 0.0126 - dense_22_mean_squared_error: 0.0076 - dense_32_mean_squared_error: 0.0055 - val_loss: 0.0239 - val_dense_13_loss: 0.0119 - val_dense_22_loss: 0.0069 - val_dense_32_loss: 0.0051 - val_dense_13_mean_squared_error: 0.0119 - val_dense_22_mean_squared_error: 0.0069 - val_dense_32_mean_squared_error: 0.0051\n",
      "Epoch 14/40\n",
      "\n",
      "Epoch 00014: LearningRateScheduler setting learning rate to 1.4036815983949371e-06.\n",
      "596049/596049 [==============================] - 257s 431us/step - loss: 0.0257 - dense_13_loss: 0.0126 - dense_22_loss: 0.0076 - dense_32_loss: 0.0055 - dense_13_mean_squared_error: 0.0126 - dense_22_mean_squared_error: 0.0076 - dense_32_mean_squared_error: 0.0055 - val_loss: 0.0239 - val_dense_13_loss: 0.0119 - val_dense_22_loss: 0.0069 - val_dense_32_loss: 0.0051 - val_dense_13_mean_squared_error: 0.0119 - val_dense_22_mean_squared_error: 0.0069 - val_dense_32_mean_squared_error: 0.0051\n"
     ]
    },
    {
     "name": "stdout",
     "output_type": "stream",
     "text": [
      "Epoch 15/40\n",
      "\n",
      "Epoch 00015: LearningRateScheduler setting learning rate to 5.848673367836453e-07.\n",
      "596049/596049 [==============================] - 256s 430us/step - loss: 0.0257 - dense_13_loss: 0.0126 - dense_22_loss: 0.0076 - dense_32_loss: 0.0055 - dense_13_mean_squared_error: 0.0126 - dense_22_mean_squared_error: 0.0076 - dense_32_mean_squared_error: 0.0055 - val_loss: 0.0239 - val_dense_13_loss: 0.0119 - val_dense_22_loss: 0.0069 - val_dense_32_loss: 0.0051 - val_dense_13_mean_squared_error: 0.0119 - val_dense_22_mean_squared_error: 0.0069 - val_dense_32_mean_squared_error: 0.0051\n",
      "Epoch 16/40\n",
      "\n",
      "Epoch 00016: LearningRateScheduler setting learning rate to 2.3394693471345818e-07.\n",
      "596049/596049 [==============================] - 254s 426us/step - loss: 0.0257 - dense_13_loss: 0.0126 - dense_22_loss: 0.0076 - dense_32_loss: 0.0055 - dense_13_mean_squared_error: 0.0126 - dense_22_mean_squared_error: 0.0076 - dense_32_mean_squared_error: 0.0055 - val_loss: 0.0239 - val_dense_13_loss: 0.0119 - val_dense_22_loss: 0.0069 - val_dense_32_loss: 0.0051 - val_dense_13_mean_squared_error: 0.0119 - val_dense_22_mean_squared_error: 0.0069 - val_dense_32_mean_squared_error: 0.0051\n",
      "Epoch 17/40\n",
      "\n",
      "Epoch 00017: LearningRateScheduler setting learning rate to 8.997959027440699e-08.\n",
      "596049/596049 [==============================] - 256s 430us/step - loss: 0.0257 - dense_13_loss: 0.0126 - dense_22_loss: 0.0076 - dense_32_loss: 0.0055 - dense_13_mean_squared_error: 0.0126 - dense_22_mean_squared_error: 0.0076 - dense_32_mean_squared_error: 0.0055 - val_loss: 0.0239 - val_dense_13_loss: 0.0119 - val_dense_22_loss: 0.0069 - val_dense_32_loss: 0.0051 - val_dense_13_mean_squared_error: 0.0119 - val_dense_22_mean_squared_error: 0.0069 - val_dense_32_mean_squared_error: 0.0051\n",
      "Epoch 18/40\n",
      "\n",
      "Epoch 00018: LearningRateScheduler setting learning rate to 3.3325775390309256e-08.\n",
      "596049/596049 [==============================] - 256s 430us/step - loss: 0.0257 - dense_13_loss: 0.0126 - dense_22_loss: 0.0076 - dense_32_loss: 0.0055 - dense_13_mean_squared_error: 0.0126 - dense_22_mean_squared_error: 0.0076 - dense_32_mean_squared_error: 0.0055 - val_loss: 0.0239 - val_dense_13_loss: 0.0119 - val_dense_22_loss: 0.0069 - val_dense_32_loss: 0.0051 - val_dense_13_mean_squared_error: 0.0119 - val_dense_22_mean_squared_error: 0.0069 - val_dense_32_mean_squared_error: 0.0051\n",
      "Epoch 19/40\n",
      "\n",
      "Epoch 00019: LearningRateScheduler setting learning rate to 1.1902062827370434e-08.\n",
      "596049/596049 [==============================] - 259s 435us/step - loss: 0.0257 - dense_13_loss: 0.0126 - dense_22_loss: 0.0076 - dense_32_loss: 0.0055 - dense_13_mean_squared_error: 0.0126 - dense_22_mean_squared_error: 0.0076 - dense_32_mean_squared_error: 0.0055 - val_loss: 0.0239 - val_dense_13_loss: 0.0119 - val_dense_22_loss: 0.0069 - val_dense_32_loss: 0.0051 - val_dense_13_mean_squared_error: 0.0119 - val_dense_22_mean_squared_error: 0.0069 - val_dense_32_mean_squared_error: 0.0051\n",
      "Epoch 20/40\n",
      "\n",
      "Epoch 00020: LearningRateScheduler setting learning rate to 4.1041594643870815e-09.\n",
      "596049/596049 [==============================] - 273s 459us/step - loss: 0.0257 - dense_13_loss: 0.0126 - dense_22_loss: 0.0076 - dense_32_loss: 0.0055 - dense_13_mean_squared_error: 0.0126 - dense_22_mean_squared_error: 0.0076 - dense_32_mean_squared_error: 0.0055 - val_loss: 0.0239 - val_dense_13_loss: 0.0119 - val_dense_22_loss: 0.0069 - val_dense_32_loss: 0.0051 - val_dense_13_mean_squared_error: 0.0119 - val_dense_22_mean_squared_error: 0.0069 - val_dense_32_mean_squared_error: 0.0051\n",
      "Epoch 21/40\n",
      "\n",
      "Epoch 00021: LearningRateScheduler setting learning rate to 1.3680532262583256e-09.\n",
      "368224/596049 [=================>............] - ETA: 1:38 - loss: 0.0252 - dense_13_loss: 0.0124 - dense_22_loss: 0.0075 - dense_32_loss: 0.0053 - dense_13_mean_squared_error: 0.0124 - dense_22_mean_squared_error: 0.0075 - dense_32_mean_squared_error: 0.0053"
     ]
    },
    {
     "ename": "KeyboardInterrupt",
     "evalue": "",
     "output_type": "error",
     "traceback": [
      "\u001b[0;31m---------------------------------------------------------------------------\u001b[0m",
      "\u001b[0;31mKeyboardInterrupt\u001b[0m                         Traceback (most recent call last)",
      "\u001b[0;32m<ipython-input-12-10b00c8c9014>\u001b[0m in \u001b[0;36m<module>\u001b[0;34m\u001b[0m\n\u001b[1;32m      1\u001b[0m \u001b[0madam\u001b[0m \u001b[0;34m=\u001b[0m \u001b[0moptimizers\u001b[0m\u001b[0;34m.\u001b[0m\u001b[0madam\u001b[0m\u001b[0;34m(\u001b[0m\u001b[0mlr\u001b[0m\u001b[0;34m=\u001b[0m\u001b[0;36m0.001\u001b[0m\u001b[0;34m)\u001b[0m\u001b[0;34m\u001b[0m\u001b[0;34m\u001b[0m\u001b[0m\n\u001b[1;32m      2\u001b[0m \u001b[0mmodel\u001b[0m\u001b[0;34m.\u001b[0m\u001b[0mcompile\u001b[0m\u001b[0;34m(\u001b[0m\u001b[0mloss\u001b[0m\u001b[0;34m=\u001b[0m\u001b[0;34m[\u001b[0m\u001b[0;34m\"mean_squared_error\"\u001b[0m\u001b[0;34m,\u001b[0m\u001b[0;34m\"mean_squared_error\"\u001b[0m\u001b[0;34m,\u001b[0m\u001b[0;34m\"mean_squared_error\"\u001b[0m\u001b[0;34m]\u001b[0m\u001b[0;34m,\u001b[0m \u001b[0moptimizer\u001b[0m\u001b[0;34m=\u001b[0m\u001b[0madam\u001b[0m\u001b[0;34m,\u001b[0m \u001b[0mmetrics\u001b[0m\u001b[0;34m=\u001b[0m\u001b[0;34m[\u001b[0m\u001b[0;34m\"mean_squared_error\"\u001b[0m\u001b[0;34m]\u001b[0m\u001b[0;34m)\u001b[0m\u001b[0;34m\u001b[0m\u001b[0;34m\u001b[0m\u001b[0m\n\u001b[0;32m----> 3\u001b[0;31m \u001b[0mhistory\u001b[0m \u001b[0;34m=\u001b[0m \u001b[0mmodel\u001b[0m\u001b[0;34m.\u001b[0m\u001b[0mfit\u001b[0m\u001b[0;34m(\u001b[0m\u001b[0;34m[\u001b[0m\u001b[0mX_train\u001b[0m\u001b[0;34m]\u001b[0m\u001b[0;34m,\u001b[0m \u001b[0;34m[\u001b[0m\u001b[0mY1\u001b[0m\u001b[0;34m,\u001b[0m\u001b[0mY2\u001b[0m\u001b[0;34m,\u001b[0m\u001b[0mY3\u001b[0m\u001b[0;34m]\u001b[0m\u001b[0;34m,\u001b[0m \u001b[0mepochs\u001b[0m\u001b[0;34m=\u001b[0m\u001b[0;36m40\u001b[0m\u001b[0;34m,\u001b[0m \u001b[0mbatch_size\u001b[0m\u001b[0;34m=\u001b[0m\u001b[0;36m32\u001b[0m\u001b[0;34m,\u001b[0m\u001b[0mvalidation_data\u001b[0m\u001b[0;34m=\u001b[0m\u001b[0;34m(\u001b[0m\u001b[0;34m[\u001b[0m\u001b[0mX_test\u001b[0m\u001b[0;34m]\u001b[0m\u001b[0;34m,\u001b[0m\u001b[0;34m[\u001b[0m\u001b[0mY1_\u001b[0m\u001b[0;34m,\u001b[0m\u001b[0mY2_\u001b[0m\u001b[0;34m,\u001b[0m\u001b[0mY3_\u001b[0m\u001b[0;34m]\u001b[0m\u001b[0;34m)\u001b[0m\u001b[0;34m,\u001b[0m\u001b[0mcallbacks\u001b[0m\u001b[0;34m=\u001b[0m\u001b[0;34m[\u001b[0m\u001b[0mlrate\u001b[0m\u001b[0;34m]\u001b[0m\u001b[0;34m)\u001b[0m\u001b[0;34m\u001b[0m\u001b[0;34m\u001b[0m\u001b[0m\n\u001b[0m",
      "\u001b[0;32m~/.conda/envs/crystal/lib/python3.7/site-packages/keras/engine/training.py\u001b[0m in \u001b[0;36mfit\u001b[0;34m(self, x, y, batch_size, epochs, verbose, callbacks, validation_split, validation_data, shuffle, class_weight, sample_weight, initial_epoch, steps_per_epoch, validation_steps, **kwargs)\u001b[0m\n\u001b[1;32m   1037\u001b[0m                                         \u001b[0minitial_epoch\u001b[0m\u001b[0;34m=\u001b[0m\u001b[0minitial_epoch\u001b[0m\u001b[0;34m,\u001b[0m\u001b[0;34m\u001b[0m\u001b[0;34m\u001b[0m\u001b[0m\n\u001b[1;32m   1038\u001b[0m                                         \u001b[0msteps_per_epoch\u001b[0m\u001b[0;34m=\u001b[0m\u001b[0msteps_per_epoch\u001b[0m\u001b[0;34m,\u001b[0m\u001b[0;34m\u001b[0m\u001b[0;34m\u001b[0m\u001b[0m\n\u001b[0;32m-> 1039\u001b[0;31m                                         validation_steps=validation_steps)\n\u001b[0m\u001b[1;32m   1040\u001b[0m \u001b[0;34m\u001b[0m\u001b[0m\n\u001b[1;32m   1041\u001b[0m     def evaluate(self, x=None, y=None,\n",
      "\u001b[0;32m~/.conda/envs/crystal/lib/python3.7/site-packages/keras/engine/training_arrays.py\u001b[0m in \u001b[0;36mfit_loop\u001b[0;34m(model, f, ins, out_labels, batch_size, epochs, verbose, callbacks, val_f, val_ins, shuffle, callback_metrics, initial_epoch, steps_per_epoch, validation_steps)\u001b[0m\n\u001b[1;32m    197\u001b[0m                     \u001b[0mins_batch\u001b[0m\u001b[0;34m[\u001b[0m\u001b[0mi\u001b[0m\u001b[0;34m]\u001b[0m \u001b[0;34m=\u001b[0m \u001b[0mins_batch\u001b[0m\u001b[0;34m[\u001b[0m\u001b[0mi\u001b[0m\u001b[0;34m]\u001b[0m\u001b[0;34m.\u001b[0m\u001b[0mtoarray\u001b[0m\u001b[0;34m(\u001b[0m\u001b[0;34m)\u001b[0m\u001b[0;34m\u001b[0m\u001b[0;34m\u001b[0m\u001b[0m\n\u001b[1;32m    198\u001b[0m \u001b[0;34m\u001b[0m\u001b[0m\n\u001b[0;32m--> 199\u001b[0;31m                 \u001b[0mouts\u001b[0m \u001b[0;34m=\u001b[0m \u001b[0mf\u001b[0m\u001b[0;34m(\u001b[0m\u001b[0mins_batch\u001b[0m\u001b[0;34m)\u001b[0m\u001b[0;34m\u001b[0m\u001b[0;34m\u001b[0m\u001b[0m\n\u001b[0m\u001b[1;32m    200\u001b[0m                 \u001b[0mouts\u001b[0m \u001b[0;34m=\u001b[0m \u001b[0mto_list\u001b[0m\u001b[0;34m(\u001b[0m\u001b[0mouts\u001b[0m\u001b[0;34m)\u001b[0m\u001b[0;34m\u001b[0m\u001b[0;34m\u001b[0m\u001b[0m\n\u001b[1;32m    201\u001b[0m                 \u001b[0;32mfor\u001b[0m \u001b[0ml\u001b[0m\u001b[0;34m,\u001b[0m \u001b[0mo\u001b[0m \u001b[0;32min\u001b[0m \u001b[0mzip\u001b[0m\u001b[0;34m(\u001b[0m\u001b[0mout_labels\u001b[0m\u001b[0;34m,\u001b[0m \u001b[0mouts\u001b[0m\u001b[0;34m)\u001b[0m\u001b[0;34m:\u001b[0m\u001b[0;34m\u001b[0m\u001b[0;34m\u001b[0m\u001b[0m\n",
      "\u001b[0;32m~/.conda/envs/crystal/lib/python3.7/site-packages/keras/backend/tensorflow_backend.py\u001b[0m in \u001b[0;36m__call__\u001b[0;34m(self, inputs)\u001b[0m\n\u001b[1;32m   2713\u001b[0m                 \u001b[0;32mreturn\u001b[0m \u001b[0mself\u001b[0m\u001b[0;34m.\u001b[0m\u001b[0m_legacy_call\u001b[0m\u001b[0;34m(\u001b[0m\u001b[0minputs\u001b[0m\u001b[0;34m)\u001b[0m\u001b[0;34m\u001b[0m\u001b[0;34m\u001b[0m\u001b[0m\n\u001b[1;32m   2714\u001b[0m \u001b[0;34m\u001b[0m\u001b[0m\n\u001b[0;32m-> 2715\u001b[0;31m             \u001b[0;32mreturn\u001b[0m \u001b[0mself\u001b[0m\u001b[0;34m.\u001b[0m\u001b[0m_call\u001b[0m\u001b[0;34m(\u001b[0m\u001b[0minputs\u001b[0m\u001b[0;34m)\u001b[0m\u001b[0;34m\u001b[0m\u001b[0;34m\u001b[0m\u001b[0m\n\u001b[0m\u001b[1;32m   2716\u001b[0m         \u001b[0;32melse\u001b[0m\u001b[0;34m:\u001b[0m\u001b[0;34m\u001b[0m\u001b[0;34m\u001b[0m\u001b[0m\n\u001b[1;32m   2717\u001b[0m             \u001b[0;32mif\u001b[0m \u001b[0mpy_any\u001b[0m\u001b[0;34m(\u001b[0m\u001b[0mis_tensor\u001b[0m\u001b[0;34m(\u001b[0m\u001b[0mx\u001b[0m\u001b[0;34m)\u001b[0m \u001b[0;32mfor\u001b[0m \u001b[0mx\u001b[0m \u001b[0;32min\u001b[0m \u001b[0minputs\u001b[0m\u001b[0;34m)\u001b[0m\u001b[0;34m:\u001b[0m\u001b[0;34m\u001b[0m\u001b[0;34m\u001b[0m\u001b[0m\n",
      "\u001b[0;32m~/.conda/envs/crystal/lib/python3.7/site-packages/keras/backend/tensorflow_backend.py\u001b[0m in \u001b[0;36m_call\u001b[0;34m(self, inputs)\u001b[0m\n\u001b[1;32m   2673\u001b[0m             \u001b[0mfetched\u001b[0m \u001b[0;34m=\u001b[0m \u001b[0mself\u001b[0m\u001b[0;34m.\u001b[0m\u001b[0m_callable_fn\u001b[0m\u001b[0;34m(\u001b[0m\u001b[0;34m*\u001b[0m\u001b[0marray_vals\u001b[0m\u001b[0;34m,\u001b[0m \u001b[0mrun_metadata\u001b[0m\u001b[0;34m=\u001b[0m\u001b[0mself\u001b[0m\u001b[0;34m.\u001b[0m\u001b[0mrun_metadata\u001b[0m\u001b[0;34m)\u001b[0m\u001b[0;34m\u001b[0m\u001b[0;34m\u001b[0m\u001b[0m\n\u001b[1;32m   2674\u001b[0m         \u001b[0;32melse\u001b[0m\u001b[0;34m:\u001b[0m\u001b[0;34m\u001b[0m\u001b[0;34m\u001b[0m\u001b[0m\n\u001b[0;32m-> 2675\u001b[0;31m             \u001b[0mfetched\u001b[0m \u001b[0;34m=\u001b[0m \u001b[0mself\u001b[0m\u001b[0;34m.\u001b[0m\u001b[0m_callable_fn\u001b[0m\u001b[0;34m(\u001b[0m\u001b[0;34m*\u001b[0m\u001b[0marray_vals\u001b[0m\u001b[0;34m)\u001b[0m\u001b[0;34m\u001b[0m\u001b[0;34m\u001b[0m\u001b[0m\n\u001b[0m\u001b[1;32m   2676\u001b[0m         \u001b[0;32mreturn\u001b[0m \u001b[0mfetched\u001b[0m\u001b[0;34m[\u001b[0m\u001b[0;34m:\u001b[0m\u001b[0mlen\u001b[0m\u001b[0;34m(\u001b[0m\u001b[0mself\u001b[0m\u001b[0;34m.\u001b[0m\u001b[0moutputs\u001b[0m\u001b[0;34m)\u001b[0m\u001b[0;34m]\u001b[0m\u001b[0;34m\u001b[0m\u001b[0;34m\u001b[0m\u001b[0m\n\u001b[1;32m   2677\u001b[0m \u001b[0;34m\u001b[0m\u001b[0m\n",
      "\u001b[0;32m~/.conda/envs/crystal/lib/python3.7/site-packages/tensorflow/python/client/session.py\u001b[0m in \u001b[0;36m__call__\u001b[0;34m(self, *args, **kwargs)\u001b[0m\n\u001b[1;32m   1437\u001b[0m           ret = tf_session.TF_SessionRunCallable(\n\u001b[1;32m   1438\u001b[0m               \u001b[0mself\u001b[0m\u001b[0;34m.\u001b[0m\u001b[0m_session\u001b[0m\u001b[0;34m.\u001b[0m\u001b[0m_session\u001b[0m\u001b[0;34m,\u001b[0m \u001b[0mself\u001b[0m\u001b[0;34m.\u001b[0m\u001b[0m_handle\u001b[0m\u001b[0;34m,\u001b[0m \u001b[0margs\u001b[0m\u001b[0;34m,\u001b[0m \u001b[0mstatus\u001b[0m\u001b[0;34m,\u001b[0m\u001b[0;34m\u001b[0m\u001b[0;34m\u001b[0m\u001b[0m\n\u001b[0;32m-> 1439\u001b[0;31m               run_metadata_ptr)\n\u001b[0m\u001b[1;32m   1440\u001b[0m         \u001b[0;32mif\u001b[0m \u001b[0mrun_metadata\u001b[0m\u001b[0;34m:\u001b[0m\u001b[0;34m\u001b[0m\u001b[0;34m\u001b[0m\u001b[0m\n\u001b[1;32m   1441\u001b[0m           \u001b[0mproto_data\u001b[0m \u001b[0;34m=\u001b[0m \u001b[0mtf_session\u001b[0m\u001b[0;34m.\u001b[0m\u001b[0mTF_GetBuffer\u001b[0m\u001b[0;34m(\u001b[0m\u001b[0mrun_metadata_ptr\u001b[0m\u001b[0;34m)\u001b[0m\u001b[0;34m\u001b[0m\u001b[0;34m\u001b[0m\u001b[0m\n",
      "\u001b[0;31mKeyboardInterrupt\u001b[0m: "
     ]
    }
   ],
   "source": [
    "adam = optimizers.adam(lr=0.001)\n",
    "model.compile(loss=[\"mean_squared_error\",\"mean_squared_error\",\"mean_squared_error\"], optimizer=adam, metrics=[\"mean_squared_error\"])\n",
    "history = model.fit([X_train], [Y1,Y2,Y3], epochs=40, batch_size=32,validation_data=([X_test],[Y1_,Y2_,Y3_]),callbacks=[lrate])"
   ]
  },
  {
   "cell_type": "code",
   "execution_count": 12,
   "metadata": {},
   "outputs": [
    {
     "data": {
      "image/png": "[encoded data removed]",
      "text/plain": [
       "<Figure size 432x288 with 1 Axes>"
      ]
     },
     "metadata": {
      "needs_background": "light"
     },
     "output_type": "display_data"
    }
   ],
   "source": [
    "import matplotlib.pyplot as plt\n",
    "\n",
    "plt.plot(history.history['loss'])\n",
    "plt.plot(history.history['val_loss'])\n",
    "plt.title('Model loss')\n",
    "plt.ylabel('Loss')\n",
    "plt.xlabel('Epoch')\n",
    "plt.legend(['Train', 'Test'], loc='upper left')\n",
    "plt.show()\n"
   ]
  },
  {
   "cell_type": "code",
   "execution_count": 13,
   "metadata": {},
   "outputs": [],
   "source": [
    "model.save(\"asy.h5\")"
   ]
  },
  {
   "cell_type": "code",
   "execution_count": 14,
   "metadata": {},
   "outputs": [],
   "source": [
    "model.load_weights(\"asy.h5\")"
   ]
  },
  {
   "cell_type": "code",
   "execution_count": 15,
   "metadata": {},
   "outputs": [],
   "source": [
    "input_ = random_scale.transform(X)\n",
    "output_ = model.predict(input_)\n",
    "output_ = np.transpose(np.array(output_))\n",
    "output_ = green_scale.inverse_transform(output_.reshape(output_.shape[1],3))\n"
   ]
  },
  {
   "cell_type": "code",
   "execution_count": 18,
   "metadata": {},
   "outputs": [],
   "source": [
    "y = np.array(Y)"
   ]
  },
  {
   "cell_type": "code",
   "execution_count": 19,
   "metadata": {},
   "outputs": [
    {
     "data": {
      "text/plain": [
       "[<matplotlib.lines.Line2D at 0x7fe58b638e10>]"
      ]
     },
     "execution_count": 19,
     "metadata": {},
     "output_type": "execute_result"
    },
    {
     "data": {
      "image/png": "[encoded data removed]",
      "text/plain": [
       "<Figure size 432x288 with 1 Axes>"
      ]
     },
     "metadata": {
      "needs_background": "light"
     },
     "output_type": "display_data"
    }
   ],
   "source": [
    "plt.scatter(output_[:,0],y[:,0],alpha=0.01)\n",
    "plt.plot(y[:,0],y[:,0],'k-') \n"
   ]
  },
  {
   "cell_type": "code",
   "execution_count": 114,
   "metadata": {},
   "outputs": [
    {
     "data": {
      "text/plain": [
       "[<matplotlib.lines.Line2D at 0x7f3c6c5d8160>]"
      ]
     },
     "execution_count": 114,
     "metadata": {},
     "output_type": "execute_result"
    },
    {
     "data": {
      "image/png": "[encoded data removed]",
      "text/plain": [
       "<Figure size 432x288 with 1 Axes>"
      ]
     },
     "metadata": {
      "needs_background": "light"
     },
     "output_type": "display_data"
    }
   ],
   "source": [
    "plt.scatter(output_[:,1],[:,1],alpha=0.01)\n",
    "plt.plot(y[:,1],y[:,1],'k-') \n"
   ]
  },
  {
   "cell_type": "code",
   "execution_count": 117,
   "metadata": {},
   "outputs": [
    {
     "data": {
      "text/plain": [
       "[<matplotlib.lines.Line2D at 0x7f3d50186128>]"
      ]
     },
     "execution_count": 117,
     "metadata": {},
     "output_type": "execute_result"
    },
    {
     "data": {
      "image/png": "[encoded data removed]",
      "text/plain": [
       "<Figure size 432x288 with 1 Axes>"
      ]
     },
     "metadata": {
      "needs_background": "light"
     },
     "output_type": "display_data"
    }
   ],
   "source": [
    "plt.scatter(output_[:,2],y[:,2],alpha=0.01)\n",
    "plt.plot(y[:,2],y[:,2],'k-',alpha =0.9) \n"
   ]
  },
  {
   "cell_type": "code",
   "execution_count": null,
   "metadata": {},
   "outputs": [],
   "source": []
  }
 ],
 "metadata": {
  "kernelspec": {
   "display_name": "Python 3",
   "language": "python",
   "name": "python3"
  },
  "language_info": {
   "codemirror_mode": {
    "name": "ipython",
    "version": 3
   },
   "file_extension": ".py",
   "mimetype": "text/x-python",
   "name": "python",
   "nbconvert_exporter": "python",
   "pygments_lexer": "ipython3",
   "version": "3.7.3"
  }
 },
 "nbformat": 4,
 "nbformat_minor": 2
}
